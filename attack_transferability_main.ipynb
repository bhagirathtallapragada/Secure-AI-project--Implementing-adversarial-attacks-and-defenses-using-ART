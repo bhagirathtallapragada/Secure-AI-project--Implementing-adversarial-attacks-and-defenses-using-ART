{
  "nbformat": 4,
  "nbformat_minor": 0,
  "metadata": {
    "colab": {
      "name": "attack_transferability_main.ipynb",
      "provenance": [],
      "collapsed_sections": [
        "SG1sNdyzuXlZ"
      ],
      "toc_visible": true,
      "include_colab_link": true
    },
    "kernelspec": {
      "name": "python3",
      "display_name": "Python 3"
    },
    "language_info": {
      "name": "python"
    },
    "widgets": {
      "application/vnd.jupyter.widget-state+json": {
        "78307d4383084f61b5c90c3eb62b3e5b": {
          "model_module": "@jupyter-widgets/controls",
          "model_name": "HBoxModel",
          "model_module_version": "1.5.0",
          "state": {
            "_view_name": "HBoxView",
            "_dom_classes": [],
            "_model_name": "HBoxModel",
            "_view_module": "@jupyter-widgets/controls",
            "_model_module_version": "1.5.0",
            "_view_count": null,
            "_view_module_version": "1.5.0",
            "box_style": "",
            "layout": "IPY_MODEL_648e962ec5b24b2fba6f649113b73ebf",
            "_model_module": "@jupyter-widgets/controls",
            "children": [
              "IPY_MODEL_a40124f7196d4b6d92320b62b6e729f8",
              "IPY_MODEL_967c1ccd895d466aa84f8273f2b25977",
              "IPY_MODEL_a5eb95ee17c64fc5822fbe6ccefbb45a"
            ]
          }
        },
        "648e962ec5b24b2fba6f649113b73ebf": {
          "model_module": "@jupyter-widgets/base",
          "model_name": "LayoutModel",
          "model_module_version": "1.2.0",
          "state": {
            "_view_name": "LayoutView",
            "grid_template_rows": null,
            "right": null,
            "justify_content": null,
            "_view_module": "@jupyter-widgets/base",
            "overflow": null,
            "_model_module_version": "1.2.0",
            "_view_count": null,
            "flex_flow": null,
            "width": null,
            "min_width": null,
            "border": null,
            "align_items": null,
            "bottom": null,
            "_model_module": "@jupyter-widgets/base",
            "top": null,
            "grid_column": null,
            "overflow_y": null,
            "overflow_x": null,
            "grid_auto_flow": null,
            "grid_area": null,
            "grid_template_columns": null,
            "flex": null,
            "_model_name": "LayoutModel",
            "justify_items": null,
            "grid_row": null,
            "max_height": null,
            "align_content": null,
            "visibility": null,
            "align_self": null,
            "height": null,
            "min_height": null,
            "padding": null,
            "grid_auto_rows": null,
            "grid_gap": null,
            "max_width": null,
            "order": null,
            "_view_module_version": "1.2.0",
            "grid_template_areas": null,
            "object_position": null,
            "object_fit": null,
            "grid_auto_columns": null,
            "margin": null,
            "display": null,
            "left": null
          }
        },
        "a40124f7196d4b6d92320b62b6e729f8": {
          "model_module": "@jupyter-widgets/controls",
          "model_name": "HTMLModel",
          "model_module_version": "1.5.0",
          "state": {
            "_view_name": "HTMLView",
            "style": "IPY_MODEL_166c516324074db29c4d92a30eb8ff93",
            "_dom_classes": [],
            "description": "",
            "_model_name": "HTMLModel",
            "placeholder": "​",
            "_view_module": "@jupyter-widgets/controls",
            "_model_module_version": "1.5.0",
            "value": "HopSkipJump: 100%",
            "_view_count": null,
            "_view_module_version": "1.5.0",
            "description_tooltip": null,
            "_model_module": "@jupyter-widgets/controls",
            "layout": "IPY_MODEL_a0f9688250524a92900a490e70396f9b"
          }
        },
        "967c1ccd895d466aa84f8273f2b25977": {
          "model_module": "@jupyter-widgets/controls",
          "model_name": "FloatProgressModel",
          "model_module_version": "1.5.0",
          "state": {
            "_view_name": "ProgressView",
            "style": "IPY_MODEL_a1c2afc04dae40daa1e180b8412a18c0",
            "_dom_classes": [],
            "description": "",
            "_model_name": "FloatProgressModel",
            "bar_style": "success",
            "max": 100,
            "_view_module": "@jupyter-widgets/controls",
            "_model_module_version": "1.5.0",
            "value": 100,
            "_view_count": null,
            "_view_module_version": "1.5.0",
            "orientation": "horizontal",
            "min": 0,
            "description_tooltip": null,
            "_model_module": "@jupyter-widgets/controls",
            "layout": "IPY_MODEL_d6685db6e6fe4ea48fa66fdec32dfddd"
          }
        },
        "a5eb95ee17c64fc5822fbe6ccefbb45a": {
          "model_module": "@jupyter-widgets/controls",
          "model_name": "HTMLModel",
          "model_module_version": "1.5.0",
          "state": {
            "_view_name": "HTMLView",
            "style": "IPY_MODEL_e0d7fe32b52e4359a42b0045765fbacd",
            "_dom_classes": [],
            "description": "",
            "_model_name": "HTMLModel",
            "placeholder": "​",
            "_view_module": "@jupyter-widgets/controls",
            "_model_module_version": "1.5.0",
            "value": " 100/100 [04:00&lt;00:00,  2.37s/it]",
            "_view_count": null,
            "_view_module_version": "1.5.0",
            "description_tooltip": null,
            "_model_module": "@jupyter-widgets/controls",
            "layout": "IPY_MODEL_5880d85a2f68452593687fdf6855af88"
          }
        },
        "166c516324074db29c4d92a30eb8ff93": {
          "model_module": "@jupyter-widgets/controls",
          "model_name": "DescriptionStyleModel",
          "model_module_version": "1.5.0",
          "state": {
            "_view_name": "StyleView",
            "_model_name": "DescriptionStyleModel",
            "description_width": "",
            "_view_module": "@jupyter-widgets/base",
            "_model_module_version": "1.5.0",
            "_view_count": null,
            "_view_module_version": "1.2.0",
            "_model_module": "@jupyter-widgets/controls"
          }
        },
        "a0f9688250524a92900a490e70396f9b": {
          "model_module": "@jupyter-widgets/base",
          "model_name": "LayoutModel",
          "model_module_version": "1.2.0",
          "state": {
            "_view_name": "LayoutView",
            "grid_template_rows": null,
            "right": null,
            "justify_content": null,
            "_view_module": "@jupyter-widgets/base",
            "overflow": null,
            "_model_module_version": "1.2.0",
            "_view_count": null,
            "flex_flow": null,
            "width": null,
            "min_width": null,
            "border": null,
            "align_items": null,
            "bottom": null,
            "_model_module": "@jupyter-widgets/base",
            "top": null,
            "grid_column": null,
            "overflow_y": null,
            "overflow_x": null,
            "grid_auto_flow": null,
            "grid_area": null,
            "grid_template_columns": null,
            "flex": null,
            "_model_name": "LayoutModel",
            "justify_items": null,
            "grid_row": null,
            "max_height": null,
            "align_content": null,
            "visibility": null,
            "align_self": null,
            "height": null,
            "min_height": null,
            "padding": null,
            "grid_auto_rows": null,
            "grid_gap": null,
            "max_width": null,
            "order": null,
            "_view_module_version": "1.2.0",
            "grid_template_areas": null,
            "object_position": null,
            "object_fit": null,
            "grid_auto_columns": null,
            "margin": null,
            "display": null,
            "left": null
          }
        },
        "a1c2afc04dae40daa1e180b8412a18c0": {
          "model_module": "@jupyter-widgets/controls",
          "model_name": "ProgressStyleModel",
          "model_module_version": "1.5.0",
          "state": {
            "_view_name": "StyleView",
            "_model_name": "ProgressStyleModel",
            "description_width": "",
            "_view_module": "@jupyter-widgets/base",
            "_model_module_version": "1.5.0",
            "_view_count": null,
            "_view_module_version": "1.2.0",
            "bar_color": null,
            "_model_module": "@jupyter-widgets/controls"
          }
        },
        "d6685db6e6fe4ea48fa66fdec32dfddd": {
          "model_module": "@jupyter-widgets/base",
          "model_name": "LayoutModel",
          "model_module_version": "1.2.0",
          "state": {
            "_view_name": "LayoutView",
            "grid_template_rows": null,
            "right": null,
            "justify_content": null,
            "_view_module": "@jupyter-widgets/base",
            "overflow": null,
            "_model_module_version": "1.2.0",
            "_view_count": null,
            "flex_flow": null,
            "width": null,
            "min_width": null,
            "border": null,
            "align_items": null,
            "bottom": null,
            "_model_module": "@jupyter-widgets/base",
            "top": null,
            "grid_column": null,
            "overflow_y": null,
            "overflow_x": null,
            "grid_auto_flow": null,
            "grid_area": null,
            "grid_template_columns": null,
            "flex": null,
            "_model_name": "LayoutModel",
            "justify_items": null,
            "grid_row": null,
            "max_height": null,
            "align_content": null,
            "visibility": null,
            "align_self": null,
            "height": null,
            "min_height": null,
            "padding": null,
            "grid_auto_rows": null,
            "grid_gap": null,
            "max_width": null,
            "order": null,
            "_view_module_version": "1.2.0",
            "grid_template_areas": null,
            "object_position": null,
            "object_fit": null,
            "grid_auto_columns": null,
            "margin": null,
            "display": null,
            "left": null
          }
        },
        "e0d7fe32b52e4359a42b0045765fbacd": {
          "model_module": "@jupyter-widgets/controls",
          "model_name": "DescriptionStyleModel",
          "model_module_version": "1.5.0",
          "state": {
            "_view_name": "StyleView",
            "_model_name": "DescriptionStyleModel",
            "description_width": "",
            "_view_module": "@jupyter-widgets/base",
            "_model_module_version": "1.5.0",
            "_view_count": null,
            "_view_module_version": "1.2.0",
            "_model_module": "@jupyter-widgets/controls"
          }
        },
        "5880d85a2f68452593687fdf6855af88": {
          "model_module": "@jupyter-widgets/base",
          "model_name": "LayoutModel",
          "model_module_version": "1.2.0",
          "state": {
            "_view_name": "LayoutView",
            "grid_template_rows": null,
            "right": null,
            "justify_content": null,
            "_view_module": "@jupyter-widgets/base",
            "overflow": null,
            "_model_module_version": "1.2.0",
            "_view_count": null,
            "flex_flow": null,
            "width": null,
            "min_width": null,
            "border": null,
            "align_items": null,
            "bottom": null,
            "_model_module": "@jupyter-widgets/base",
            "top": null,
            "grid_column": null,
            "overflow_y": null,
            "overflow_x": null,
            "grid_auto_flow": null,
            "grid_area": null,
            "grid_template_columns": null,
            "flex": null,
            "_model_name": "LayoutModel",
            "justify_items": null,
            "grid_row": null,
            "max_height": null,
            "align_content": null,
            "visibility": null,
            "align_self": null,
            "height": null,
            "min_height": null,
            "padding": null,
            "grid_auto_rows": null,
            "grid_gap": null,
            "max_width": null,
            "order": null,
            "_view_module_version": "1.2.0",
            "grid_template_areas": null,
            "object_position": null,
            "object_fit": null,
            "grid_auto_columns": null,
            "margin": null,
            "display": null,
            "left": null
          }
        },
        "4c61b30f96c4476eab23214117c05fc9": {
          "model_module": "@jupyter-widgets/controls",
          "model_name": "HBoxModel",
          "model_module_version": "1.5.0",
          "state": {
            "_view_name": "HBoxView",
            "_dom_classes": [],
            "_model_name": "HBoxModel",
            "_view_module": "@jupyter-widgets/controls",
            "_model_module_version": "1.5.0",
            "_view_count": null,
            "_view_module_version": "1.5.0",
            "box_style": "",
            "layout": "IPY_MODEL_be417c8adbab4c3f83227c426583de89",
            "_model_module": "@jupyter-widgets/controls",
            "children": [
              "IPY_MODEL_f3ae9d218d1e4746a03670a13958801e",
              "IPY_MODEL_de800369b71b406181bef4cdf3f5f780",
              "IPY_MODEL_efef086dafe14d4897177b293385a4d5"
            ]
          }
        },
        "be417c8adbab4c3f83227c426583de89": {
          "model_module": "@jupyter-widgets/base",
          "model_name": "LayoutModel",
          "model_module_version": "1.2.0",
          "state": {
            "_view_name": "LayoutView",
            "grid_template_rows": null,
            "right": null,
            "justify_content": null,
            "_view_module": "@jupyter-widgets/base",
            "overflow": null,
            "_model_module_version": "1.2.0",
            "_view_count": null,
            "flex_flow": null,
            "width": null,
            "min_width": null,
            "border": null,
            "align_items": null,
            "bottom": null,
            "_model_module": "@jupyter-widgets/base",
            "top": null,
            "grid_column": null,
            "overflow_y": null,
            "overflow_x": null,
            "grid_auto_flow": null,
            "grid_area": null,
            "grid_template_columns": null,
            "flex": null,
            "_model_name": "LayoutModel",
            "justify_items": null,
            "grid_row": null,
            "max_height": null,
            "align_content": null,
            "visibility": null,
            "align_self": null,
            "height": null,
            "min_height": null,
            "padding": null,
            "grid_auto_rows": null,
            "grid_gap": null,
            "max_width": null,
            "order": null,
            "_view_module_version": "1.2.0",
            "grid_template_areas": null,
            "object_position": null,
            "object_fit": null,
            "grid_auto_columns": null,
            "margin": null,
            "display": null,
            "left": null
          }
        },
        "f3ae9d218d1e4746a03670a13958801e": {
          "model_module": "@jupyter-widgets/controls",
          "model_name": "HTMLModel",
          "model_module_version": "1.5.0",
          "state": {
            "_view_name": "HTMLView",
            "style": "IPY_MODEL_ff8fc52cebbd483dadf818431e338fa5",
            "_dom_classes": [],
            "description": "",
            "_model_name": "HTMLModel",
            "placeholder": "​",
            "_view_module": "@jupyter-widgets/controls",
            "_model_module_version": "1.5.0",
            "value": "HopSkipJump: 100%",
            "_view_count": null,
            "_view_module_version": "1.5.0",
            "description_tooltip": null,
            "_model_module": "@jupyter-widgets/controls",
            "layout": "IPY_MODEL_9f623f2bf53c43efbfa3975f129879a4"
          }
        },
        "de800369b71b406181bef4cdf3f5f780": {
          "model_module": "@jupyter-widgets/controls",
          "model_name": "FloatProgressModel",
          "model_module_version": "1.5.0",
          "state": {
            "_view_name": "ProgressView",
            "style": "IPY_MODEL_5fc540b0e3324eacb6f0a713226b3972",
            "_dom_classes": [],
            "description": "",
            "_model_name": "FloatProgressModel",
            "bar_style": "success",
            "max": 100,
            "_view_module": "@jupyter-widgets/controls",
            "_model_module_version": "1.5.0",
            "value": 100,
            "_view_count": null,
            "_view_module_version": "1.5.0",
            "orientation": "horizontal",
            "min": 0,
            "description_tooltip": null,
            "_model_module": "@jupyter-widgets/controls",
            "layout": "IPY_MODEL_eb2bdd414e9e459c929a959e7fc4b702"
          }
        },
        "efef086dafe14d4897177b293385a4d5": {
          "model_module": "@jupyter-widgets/controls",
          "model_name": "HTMLModel",
          "model_module_version": "1.5.0",
          "state": {
            "_view_name": "HTMLView",
            "style": "IPY_MODEL_beaca67af58b4449bc3295c9ce36c2a0",
            "_dom_classes": [],
            "description": "",
            "_model_name": "HTMLModel",
            "placeholder": "​",
            "_view_module": "@jupyter-widgets/controls",
            "_model_module_version": "1.5.0",
            "value": " 100/100 [08:22&lt;00:00,  5.04s/it]",
            "_view_count": null,
            "_view_module_version": "1.5.0",
            "description_tooltip": null,
            "_model_module": "@jupyter-widgets/controls",
            "layout": "IPY_MODEL_2767e1cdae884460bd5cf2aa06a54517"
          }
        },
        "ff8fc52cebbd483dadf818431e338fa5": {
          "model_module": "@jupyter-widgets/controls",
          "model_name": "DescriptionStyleModel",
          "model_module_version": "1.5.0",
          "state": {
            "_view_name": "StyleView",
            "_model_name": "DescriptionStyleModel",
            "description_width": "",
            "_view_module": "@jupyter-widgets/base",
            "_model_module_version": "1.5.0",
            "_view_count": null,
            "_view_module_version": "1.2.0",
            "_model_module": "@jupyter-widgets/controls"
          }
        },
        "9f623f2bf53c43efbfa3975f129879a4": {
          "model_module": "@jupyter-widgets/base",
          "model_name": "LayoutModel",
          "model_module_version": "1.2.0",
          "state": {
            "_view_name": "LayoutView",
            "grid_template_rows": null,
            "right": null,
            "justify_content": null,
            "_view_module": "@jupyter-widgets/base",
            "overflow": null,
            "_model_module_version": "1.2.0",
            "_view_count": null,
            "flex_flow": null,
            "width": null,
            "min_width": null,
            "border": null,
            "align_items": null,
            "bottom": null,
            "_model_module": "@jupyter-widgets/base",
            "top": null,
            "grid_column": null,
            "overflow_y": null,
            "overflow_x": null,
            "grid_auto_flow": null,
            "grid_area": null,
            "grid_template_columns": null,
            "flex": null,
            "_model_name": "LayoutModel",
            "justify_items": null,
            "grid_row": null,
            "max_height": null,
            "align_content": null,
            "visibility": null,
            "align_self": null,
            "height": null,
            "min_height": null,
            "padding": null,
            "grid_auto_rows": null,
            "grid_gap": null,
            "max_width": null,
            "order": null,
            "_view_module_version": "1.2.0",
            "grid_template_areas": null,
            "object_position": null,
            "object_fit": null,
            "grid_auto_columns": null,
            "margin": null,
            "display": null,
            "left": null
          }
        },
        "5fc540b0e3324eacb6f0a713226b3972": {
          "model_module": "@jupyter-widgets/controls",
          "model_name": "ProgressStyleModel",
          "model_module_version": "1.5.0",
          "state": {
            "_view_name": "StyleView",
            "_model_name": "ProgressStyleModel",
            "description_width": "",
            "_view_module": "@jupyter-widgets/base",
            "_model_module_version": "1.5.0",
            "_view_count": null,
            "_view_module_version": "1.2.0",
            "bar_color": null,
            "_model_module": "@jupyter-widgets/controls"
          }
        },
        "eb2bdd414e9e459c929a959e7fc4b702": {
          "model_module": "@jupyter-widgets/base",
          "model_name": "LayoutModel",
          "model_module_version": "1.2.0",
          "state": {
            "_view_name": "LayoutView",
            "grid_template_rows": null,
            "right": null,
            "justify_content": null,
            "_view_module": "@jupyter-widgets/base",
            "overflow": null,
            "_model_module_version": "1.2.0",
            "_view_count": null,
            "flex_flow": null,
            "width": null,
            "min_width": null,
            "border": null,
            "align_items": null,
            "bottom": null,
            "_model_module": "@jupyter-widgets/base",
            "top": null,
            "grid_column": null,
            "overflow_y": null,
            "overflow_x": null,
            "grid_auto_flow": null,
            "grid_area": null,
            "grid_template_columns": null,
            "flex": null,
            "_model_name": "LayoutModel",
            "justify_items": null,
            "grid_row": null,
            "max_height": null,
            "align_content": null,
            "visibility": null,
            "align_self": null,
            "height": null,
            "min_height": null,
            "padding": null,
            "grid_auto_rows": null,
            "grid_gap": null,
            "max_width": null,
            "order": null,
            "_view_module_version": "1.2.0",
            "grid_template_areas": null,
            "object_position": null,
            "object_fit": null,
            "grid_auto_columns": null,
            "margin": null,
            "display": null,
            "left": null
          }
        },
        "beaca67af58b4449bc3295c9ce36c2a0": {
          "model_module": "@jupyter-widgets/controls",
          "model_name": "DescriptionStyleModel",
          "model_module_version": "1.5.0",
          "state": {
            "_view_name": "StyleView",
            "_model_name": "DescriptionStyleModel",
            "description_width": "",
            "_view_module": "@jupyter-widgets/base",
            "_model_module_version": "1.5.0",
            "_view_count": null,
            "_view_module_version": "1.2.0",
            "_model_module": "@jupyter-widgets/controls"
          }
        },
        "2767e1cdae884460bd5cf2aa06a54517": {
          "model_module": "@jupyter-widgets/base",
          "model_name": "LayoutModel",
          "model_module_version": "1.2.0",
          "state": {
            "_view_name": "LayoutView",
            "grid_template_rows": null,
            "right": null,
            "justify_content": null,
            "_view_module": "@jupyter-widgets/base",
            "overflow": null,
            "_model_module_version": "1.2.0",
            "_view_count": null,
            "flex_flow": null,
            "width": null,
            "min_width": null,
            "border": null,
            "align_items": null,
            "bottom": null,
            "_model_module": "@jupyter-widgets/base",
            "top": null,
            "grid_column": null,
            "overflow_y": null,
            "overflow_x": null,
            "grid_auto_flow": null,
            "grid_area": null,
            "grid_template_columns": null,
            "flex": null,
            "_model_name": "LayoutModel",
            "justify_items": null,
            "grid_row": null,
            "max_height": null,
            "align_content": null,
            "visibility": null,
            "align_self": null,
            "height": null,
            "min_height": null,
            "padding": null,
            "grid_auto_rows": null,
            "grid_gap": null,
            "max_width": null,
            "order": null,
            "_view_module_version": "1.2.0",
            "grid_template_areas": null,
            "object_position": null,
            "object_fit": null,
            "grid_auto_columns": null,
            "margin": null,
            "display": null,
            "left": null
          }
        },
        "74bab655ff8a423ea21744770816b481": {
          "model_module": "@jupyter-widgets/controls",
          "model_name": "HBoxModel",
          "model_module_version": "1.5.0",
          "state": {
            "_view_name": "HBoxView",
            "_dom_classes": [],
            "_model_name": "HBoxModel",
            "_view_module": "@jupyter-widgets/controls",
            "_model_module_version": "1.5.0",
            "_view_count": null,
            "_view_module_version": "1.5.0",
            "box_style": "",
            "layout": "IPY_MODEL_4ad74441a8c441c0ab847de71393e123",
            "_model_module": "@jupyter-widgets/controls",
            "children": [
              "IPY_MODEL_cef65564e8f8453e9bffe9b1680c34f7",
              "IPY_MODEL_7d2babad759342cea780259c62f16736",
              "IPY_MODEL_8f6179f8b0a14b8ea05e651283f535da"
            ]
          }
        },
        "4ad74441a8c441c0ab847de71393e123": {
          "model_module": "@jupyter-widgets/base",
          "model_name": "LayoutModel",
          "model_module_version": "1.2.0",
          "state": {
            "_view_name": "LayoutView",
            "grid_template_rows": null,
            "right": null,
            "justify_content": null,
            "_view_module": "@jupyter-widgets/base",
            "overflow": null,
            "_model_module_version": "1.2.0",
            "_view_count": null,
            "flex_flow": null,
            "width": null,
            "min_width": null,
            "border": null,
            "align_items": null,
            "bottom": null,
            "_model_module": "@jupyter-widgets/base",
            "top": null,
            "grid_column": null,
            "overflow_y": null,
            "overflow_x": null,
            "grid_auto_flow": null,
            "grid_area": null,
            "grid_template_columns": null,
            "flex": null,
            "_model_name": "LayoutModel",
            "justify_items": null,
            "grid_row": null,
            "max_height": null,
            "align_content": null,
            "visibility": null,
            "align_self": null,
            "height": null,
            "min_height": null,
            "padding": null,
            "grid_auto_rows": null,
            "grid_gap": null,
            "max_width": null,
            "order": null,
            "_view_module_version": "1.2.0",
            "grid_template_areas": null,
            "object_position": null,
            "object_fit": null,
            "grid_auto_columns": null,
            "margin": null,
            "display": null,
            "left": null
          }
        },
        "cef65564e8f8453e9bffe9b1680c34f7": {
          "model_module": "@jupyter-widgets/controls",
          "model_name": "HTMLModel",
          "model_module_version": "1.5.0",
          "state": {
            "_view_name": "HTMLView",
            "style": "IPY_MODEL_5ae0b50609134db9bb46d69c1c36b0ad",
            "_dom_classes": [],
            "description": "",
            "_model_name": "HTMLModel",
            "placeholder": "​",
            "_view_module": "@jupyter-widgets/controls",
            "_model_module_version": "1.5.0",
            "value": "HopSkipJump: 100%",
            "_view_count": null,
            "_view_module_version": "1.5.0",
            "description_tooltip": null,
            "_model_module": "@jupyter-widgets/controls",
            "layout": "IPY_MODEL_b8251944a8954c4db41b0e3b1a514b18"
          }
        },
        "7d2babad759342cea780259c62f16736": {
          "model_module": "@jupyter-widgets/controls",
          "model_name": "FloatProgressModel",
          "model_module_version": "1.5.0",
          "state": {
            "_view_name": "ProgressView",
            "style": "IPY_MODEL_8b0e75abb5214119b4474a052868ff61",
            "_dom_classes": [],
            "description": "",
            "_model_name": "FloatProgressModel",
            "bar_style": "success",
            "max": 100,
            "_view_module": "@jupyter-widgets/controls",
            "_model_module_version": "1.5.0",
            "value": 100,
            "_view_count": null,
            "_view_module_version": "1.5.0",
            "orientation": "horizontal",
            "min": 0,
            "description_tooltip": null,
            "_model_module": "@jupyter-widgets/controls",
            "layout": "IPY_MODEL_cd021f90c42d442787a8eda35f6813ee"
          }
        },
        "8f6179f8b0a14b8ea05e651283f535da": {
          "model_module": "@jupyter-widgets/controls",
          "model_name": "HTMLModel",
          "model_module_version": "1.5.0",
          "state": {
            "_view_name": "HTMLView",
            "style": "IPY_MODEL_24f18c6f45ae484082db4aaed7982c15",
            "_dom_classes": [],
            "description": "",
            "_model_name": "HTMLModel",
            "placeholder": "​",
            "_view_module": "@jupyter-widgets/controls",
            "_model_module_version": "1.5.0",
            "value": " 100/100 [25:24&lt;00:00, 15.48s/it]",
            "_view_count": null,
            "_view_module_version": "1.5.0",
            "description_tooltip": null,
            "_model_module": "@jupyter-widgets/controls",
            "layout": "IPY_MODEL_82ad253253c34612b44ca32768b9a865"
          }
        },
        "5ae0b50609134db9bb46d69c1c36b0ad": {
          "model_module": "@jupyter-widgets/controls",
          "model_name": "DescriptionStyleModel",
          "model_module_version": "1.5.0",
          "state": {
            "_view_name": "StyleView",
            "_model_name": "DescriptionStyleModel",
            "description_width": "",
            "_view_module": "@jupyter-widgets/base",
            "_model_module_version": "1.5.0",
            "_view_count": null,
            "_view_module_version": "1.2.0",
            "_model_module": "@jupyter-widgets/controls"
          }
        },
        "b8251944a8954c4db41b0e3b1a514b18": {
          "model_module": "@jupyter-widgets/base",
          "model_name": "LayoutModel",
          "model_module_version": "1.2.0",
          "state": {
            "_view_name": "LayoutView",
            "grid_template_rows": null,
            "right": null,
            "justify_content": null,
            "_view_module": "@jupyter-widgets/base",
            "overflow": null,
            "_model_module_version": "1.2.0",
            "_view_count": null,
            "flex_flow": null,
            "width": null,
            "min_width": null,
            "border": null,
            "align_items": null,
            "bottom": null,
            "_model_module": "@jupyter-widgets/base",
            "top": null,
            "grid_column": null,
            "overflow_y": null,
            "overflow_x": null,
            "grid_auto_flow": null,
            "grid_area": null,
            "grid_template_columns": null,
            "flex": null,
            "_model_name": "LayoutModel",
            "justify_items": null,
            "grid_row": null,
            "max_height": null,
            "align_content": null,
            "visibility": null,
            "align_self": null,
            "height": null,
            "min_height": null,
            "padding": null,
            "grid_auto_rows": null,
            "grid_gap": null,
            "max_width": null,
            "order": null,
            "_view_module_version": "1.2.0",
            "grid_template_areas": null,
            "object_position": null,
            "object_fit": null,
            "grid_auto_columns": null,
            "margin": null,
            "display": null,
            "left": null
          }
        },
        "8b0e75abb5214119b4474a052868ff61": {
          "model_module": "@jupyter-widgets/controls",
          "model_name": "ProgressStyleModel",
          "model_module_version": "1.5.0",
          "state": {
            "_view_name": "StyleView",
            "_model_name": "ProgressStyleModel",
            "description_width": "",
            "_view_module": "@jupyter-widgets/base",
            "_model_module_version": "1.5.0",
            "_view_count": null,
            "_view_module_version": "1.2.0",
            "bar_color": null,
            "_model_module": "@jupyter-widgets/controls"
          }
        },
        "cd021f90c42d442787a8eda35f6813ee": {
          "model_module": "@jupyter-widgets/base",
          "model_name": "LayoutModel",
          "model_module_version": "1.2.0",
          "state": {
            "_view_name": "LayoutView",
            "grid_template_rows": null,
            "right": null,
            "justify_content": null,
            "_view_module": "@jupyter-widgets/base",
            "overflow": null,
            "_model_module_version": "1.2.0",
            "_view_count": null,
            "flex_flow": null,
            "width": null,
            "min_width": null,
            "border": null,
            "align_items": null,
            "bottom": null,
            "_model_module": "@jupyter-widgets/base",
            "top": null,
            "grid_column": null,
            "overflow_y": null,
            "overflow_x": null,
            "grid_auto_flow": null,
            "grid_area": null,
            "grid_template_columns": null,
            "flex": null,
            "_model_name": "LayoutModel",
            "justify_items": null,
            "grid_row": null,
            "max_height": null,
            "align_content": null,
            "visibility": null,
            "align_self": null,
            "height": null,
            "min_height": null,
            "padding": null,
            "grid_auto_rows": null,
            "grid_gap": null,
            "max_width": null,
            "order": null,
            "_view_module_version": "1.2.0",
            "grid_template_areas": null,
            "object_position": null,
            "object_fit": null,
            "grid_auto_columns": null,
            "margin": null,
            "display": null,
            "left": null
          }
        },
        "24f18c6f45ae484082db4aaed7982c15": {
          "model_module": "@jupyter-widgets/controls",
          "model_name": "DescriptionStyleModel",
          "model_module_version": "1.5.0",
          "state": {
            "_view_name": "StyleView",
            "_model_name": "DescriptionStyleModel",
            "description_width": "",
            "_view_module": "@jupyter-widgets/base",
            "_model_module_version": "1.5.0",
            "_view_count": null,
            "_view_module_version": "1.2.0",
            "_model_module": "@jupyter-widgets/controls"
          }
        },
        "82ad253253c34612b44ca32768b9a865": {
          "model_module": "@jupyter-widgets/base",
          "model_name": "LayoutModel",
          "model_module_version": "1.2.0",
          "state": {
            "_view_name": "LayoutView",
            "grid_template_rows": null,
            "right": null,
            "justify_content": null,
            "_view_module": "@jupyter-widgets/base",
            "overflow": null,
            "_model_module_version": "1.2.0",
            "_view_count": null,
            "flex_flow": null,
            "width": null,
            "min_width": null,
            "border": null,
            "align_items": null,
            "bottom": null,
            "_model_module": "@jupyter-widgets/base",
            "top": null,
            "grid_column": null,
            "overflow_y": null,
            "overflow_x": null,
            "grid_auto_flow": null,
            "grid_area": null,
            "grid_template_columns": null,
            "flex": null,
            "_model_name": "LayoutModel",
            "justify_items": null,
            "grid_row": null,
            "max_height": null,
            "align_content": null,
            "visibility": null,
            "align_self": null,
            "height": null,
            "min_height": null,
            "padding": null,
            "grid_auto_rows": null,
            "grid_gap": null,
            "max_width": null,
            "order": null,
            "_view_module_version": "1.2.0",
            "grid_template_areas": null,
            "object_position": null,
            "object_fit": null,
            "grid_auto_columns": null,
            "margin": null,
            "display": null,
            "left": null
          }
        }
      }
    }
  },
  "cells": [
    {
      "cell_type": "markdown",
      "metadata": {
        "id": "view-in-github",
        "colab_type": "text"
      },
      "source": [
        "<a href=\"https://colab.research.google.com/github/bhagirathtallapragada/Secure-AI-project--Implementing-adversarial-attacks-and-defenses-using-ART/blob/main/attack_transferability_main.ipynb\" target=\"_parent\"><img src=\"https://colab.research.google.com/assets/colab-badge.svg\" alt=\"Open In Colab\"/></a>"
      ]
    },
    {
      "cell_type": "code",
      "metadata": {
        "colab": {
          "base_uri": "https://localhost:8080/"
        },
        "id": "8dK_5n7DfY1z",
        "outputId": "1d162d27-f940-4c76-b222-b786ab9e2c13"
      },
      "source": [
        "!pip install adversarial-robustness-toolbox==1.7.1"
      ],
      "execution_count": null,
      "outputs": [
        {
          "output_type": "stream",
          "name": "stdout",
          "text": [
            "Collecting adversarial-robustness-toolbox==1.7.1\n",
            "  Downloading adversarial_robustness_toolbox-1.7.1-py3-none-any.whl (1.1 MB)\n",
            "\u001b[?25l\r\u001b[K     |▎                               | 10 kB 17.5 MB/s eta 0:00:01\r\u001b[K     |▋                               | 20 kB 19.5 MB/s eta 0:00:01\r\u001b[K     |█                               | 30 kB 22.3 MB/s eta 0:00:01\r\u001b[K     |█▎                              | 40 kB 22.3 MB/s eta 0:00:01\r\u001b[K     |█▌                              | 51 kB 22.1 MB/s eta 0:00:01\r\u001b[K     |█▉                              | 61 kB 24.3 MB/s eta 0:00:01\r\u001b[K     |██▏                             | 71 kB 17.5 MB/s eta 0:00:01\r\u001b[K     |██▌                             | 81 kB 18.2 MB/s eta 0:00:01\r\u001b[K     |██▉                             | 92 kB 19.7 MB/s eta 0:00:01\r\u001b[K     |███                             | 102 kB 21.2 MB/s eta 0:00:01\r\u001b[K     |███▍                            | 112 kB 21.2 MB/s eta 0:00:01\r\u001b[K     |███▊                            | 122 kB 21.2 MB/s eta 0:00:01\r\u001b[K     |████                            | 133 kB 21.2 MB/s eta 0:00:01\r\u001b[K     |████▍                           | 143 kB 21.2 MB/s eta 0:00:01\r\u001b[K     |████▋                           | 153 kB 21.2 MB/s eta 0:00:01\r\u001b[K     |█████                           | 163 kB 21.2 MB/s eta 0:00:01\r\u001b[K     |█████▎                          | 174 kB 21.2 MB/s eta 0:00:01\r\u001b[K     |█████▋                          | 184 kB 21.2 MB/s eta 0:00:01\r\u001b[K     |██████                          | 194 kB 21.2 MB/s eta 0:00:01\r\u001b[K     |██████▏                         | 204 kB 21.2 MB/s eta 0:00:01\r\u001b[K     |██████▌                         | 215 kB 21.2 MB/s eta 0:00:01\r\u001b[K     |██████▉                         | 225 kB 21.2 MB/s eta 0:00:01\r\u001b[K     |███████▏                        | 235 kB 21.2 MB/s eta 0:00:01\r\u001b[K     |███████▌                        | 245 kB 21.2 MB/s eta 0:00:01\r\u001b[K     |███████▊                        | 256 kB 21.2 MB/s eta 0:00:01\r\u001b[K     |████████                        | 266 kB 21.2 MB/s eta 0:00:01\r\u001b[K     |████████▍                       | 276 kB 21.2 MB/s eta 0:00:01\r\u001b[K     |████████▊                       | 286 kB 21.2 MB/s eta 0:00:01\r\u001b[K     |█████████                       | 296 kB 21.2 MB/s eta 0:00:01\r\u001b[K     |█████████▎                      | 307 kB 21.2 MB/s eta 0:00:01\r\u001b[K     |█████████▋                      | 317 kB 21.2 MB/s eta 0:00:01\r\u001b[K     |██████████                      | 327 kB 21.2 MB/s eta 0:00:01\r\u001b[K     |██████████▎                     | 337 kB 21.2 MB/s eta 0:00:01\r\u001b[K     |██████████▌                     | 348 kB 21.2 MB/s eta 0:00:01\r\u001b[K     |██████████▉                     | 358 kB 21.2 MB/s eta 0:00:01\r\u001b[K     |███████████▏                    | 368 kB 21.2 MB/s eta 0:00:01\r\u001b[K     |███████████▌                    | 378 kB 21.2 MB/s eta 0:00:01\r\u001b[K     |███████████▉                    | 389 kB 21.2 MB/s eta 0:00:01\r\u001b[K     |████████████                    | 399 kB 21.2 MB/s eta 0:00:01\r\u001b[K     |████████████▍                   | 409 kB 21.2 MB/s eta 0:00:01\r\u001b[K     |████████████▊                   | 419 kB 21.2 MB/s eta 0:00:01\r\u001b[K     |█████████████                   | 430 kB 21.2 MB/s eta 0:00:01\r\u001b[K     |█████████████▍                  | 440 kB 21.2 MB/s eta 0:00:01\r\u001b[K     |█████████████▋                  | 450 kB 21.2 MB/s eta 0:00:01\r\u001b[K     |██████████████                  | 460 kB 21.2 MB/s eta 0:00:01\r\u001b[K     |██████████████▎                 | 471 kB 21.2 MB/s eta 0:00:01\r\u001b[K     |██████████████▋                 | 481 kB 21.2 MB/s eta 0:00:01\r\u001b[K     |███████████████                 | 491 kB 21.2 MB/s eta 0:00:01\r\u001b[K     |███████████████▏                | 501 kB 21.2 MB/s eta 0:00:01\r\u001b[K     |███████████████▌                | 512 kB 21.2 MB/s eta 0:00:01\r\u001b[K     |███████████████▉                | 522 kB 21.2 MB/s eta 0:00:01\r\u001b[K     |████████████████▏               | 532 kB 21.2 MB/s eta 0:00:01\r\u001b[K     |████████████████▌               | 542 kB 21.2 MB/s eta 0:00:01\r\u001b[K     |████████████████▊               | 552 kB 21.2 MB/s eta 0:00:01\r\u001b[K     |█████████████████               | 563 kB 21.2 MB/s eta 0:00:01\r\u001b[K     |█████████████████▍              | 573 kB 21.2 MB/s eta 0:00:01\r\u001b[K     |█████████████████▊              | 583 kB 21.2 MB/s eta 0:00:01\r\u001b[K     |██████████████████              | 593 kB 21.2 MB/s eta 0:00:01\r\u001b[K     |██████████████████▎             | 604 kB 21.2 MB/s eta 0:00:01\r\u001b[K     |██████████████████▋             | 614 kB 21.2 MB/s eta 0:00:01\r\u001b[K     |███████████████████             | 624 kB 21.2 MB/s eta 0:00:01\r\u001b[K     |███████████████████▎            | 634 kB 21.2 MB/s eta 0:00:01\r\u001b[K     |███████████████████▌            | 645 kB 21.2 MB/s eta 0:00:01\r\u001b[K     |███████████████████▉            | 655 kB 21.2 MB/s eta 0:00:01\r\u001b[K     |████████████████████▏           | 665 kB 21.2 MB/s eta 0:00:01\r\u001b[K     |████████████████████▌           | 675 kB 21.2 MB/s eta 0:00:01\r\u001b[K     |████████████████████▉           | 686 kB 21.2 MB/s eta 0:00:01\r\u001b[K     |█████████████████████           | 696 kB 21.2 MB/s eta 0:00:01\r\u001b[K     |█████████████████████▍          | 706 kB 21.2 MB/s eta 0:00:01\r\u001b[K     |█████████████████████▊          | 716 kB 21.2 MB/s eta 0:00:01\r\u001b[K     |██████████████████████          | 727 kB 21.2 MB/s eta 0:00:01\r\u001b[K     |██████████████████████▍         | 737 kB 21.2 MB/s eta 0:00:01\r\u001b[K     |██████████████████████▋         | 747 kB 21.2 MB/s eta 0:00:01\r\u001b[K     |███████████████████████         | 757 kB 21.2 MB/s eta 0:00:01\r\u001b[K     |███████████████████████▎        | 768 kB 21.2 MB/s eta 0:00:01\r\u001b[K     |███████████████████████▋        | 778 kB 21.2 MB/s eta 0:00:01\r\u001b[K     |████████████████████████        | 788 kB 21.2 MB/s eta 0:00:01\r\u001b[K     |████████████████████████▏       | 798 kB 21.2 MB/s eta 0:00:01\r\u001b[K     |████████████████████████▌       | 808 kB 21.2 MB/s eta 0:00:01\r\u001b[K     |████████████████████████▉       | 819 kB 21.2 MB/s eta 0:00:01\r\u001b[K     |█████████████████████████▏      | 829 kB 21.2 MB/s eta 0:00:01\r\u001b[K     |█████████████████████████▌      | 839 kB 21.2 MB/s eta 0:00:01\r\u001b[K     |█████████████████████████▊      | 849 kB 21.2 MB/s eta 0:00:01\r\u001b[K     |██████████████████████████      | 860 kB 21.2 MB/s eta 0:00:01\r\u001b[K     |██████████████████████████▍     | 870 kB 21.2 MB/s eta 0:00:01\r\u001b[K     |██████████████████████████▊     | 880 kB 21.2 MB/s eta 0:00:01\r\u001b[K     |███████████████████████████     | 890 kB 21.2 MB/s eta 0:00:01\r\u001b[K     |███████████████████████████▎    | 901 kB 21.2 MB/s eta 0:00:01\r\u001b[K     |███████████████████████████▋    | 911 kB 21.2 MB/s eta 0:00:01\r\u001b[K     |████████████████████████████    | 921 kB 21.2 MB/s eta 0:00:01\r\u001b[K     |████████████████████████████▎   | 931 kB 21.2 MB/s eta 0:00:01\r\u001b[K     |████████████████████████████▋   | 942 kB 21.2 MB/s eta 0:00:01\r\u001b[K     |████████████████████████████▉   | 952 kB 21.2 MB/s eta 0:00:01\r\u001b[K     |█████████████████████████████▏  | 962 kB 21.2 MB/s eta 0:00:01\r\u001b[K     |█████████████████████████████▌  | 972 kB 21.2 MB/s eta 0:00:01\r\u001b[K     |█████████████████████████████▉  | 983 kB 21.2 MB/s eta 0:00:01\r\u001b[K     |██████████████████████████████  | 993 kB 21.2 MB/s eta 0:00:01\r\u001b[K     |██████████████████████████████▍ | 1.0 MB 21.2 MB/s eta 0:00:01\r\u001b[K     |██████████████████████████████▊ | 1.0 MB 21.2 MB/s eta 0:00:01\r\u001b[K     |███████████████████████████████ | 1.0 MB 21.2 MB/s eta 0:00:01\r\u001b[K     |███████████████████████████████▍| 1.0 MB 21.2 MB/s eta 0:00:01\r\u001b[K     |███████████████████████████████▋| 1.0 MB 21.2 MB/s eta 0:00:01\r\u001b[K     |████████████████████████████████| 1.1 MB 21.2 MB/s eta 0:00:01\r\u001b[K     |████████████████████████████████| 1.1 MB 21.2 MB/s \n",
            "\u001b[?25hRequirement already satisfied: scikit-learn<0.24.3,>=0.22.2 in /usr/local/lib/python3.7/dist-packages (from adversarial-robustness-toolbox==1.7.1) (0.22.2.post1)\n",
            "Requirement already satisfied: six in /usr/local/lib/python3.7/dist-packages (from adversarial-robustness-toolbox==1.7.1) (1.15.0)\n",
            "Collecting numba~=0.53.1\n",
            "  Downloading numba-0.53.1-cp37-cp37m-manylinux2014_x86_64.whl (3.4 MB)\n",
            "\u001b[K     |████████████████████████████████| 3.4 MB 26.1 MB/s \n",
            "\u001b[?25hRequirement already satisfied: tqdm in /usr/local/lib/python3.7/dist-packages (from adversarial-robustness-toolbox==1.7.1) (4.62.3)\n",
            "Requirement already satisfied: numpy>=1.18.0 in /usr/local/lib/python3.7/dist-packages (from adversarial-robustness-toolbox==1.7.1) (1.19.5)\n",
            "Requirement already satisfied: setuptools in /usr/local/lib/python3.7/dist-packages (from adversarial-robustness-toolbox==1.7.1) (57.4.0)\n",
            "Requirement already satisfied: scipy>=1.4.1 in /usr/local/lib/python3.7/dist-packages (from adversarial-robustness-toolbox==1.7.1) (1.4.1)\n",
            "Collecting llvmlite<0.37,>=0.36.0rc1\n",
            "  Downloading llvmlite-0.36.0-cp37-cp37m-manylinux2010_x86_64.whl (25.3 MB)\n",
            "\u001b[K     |████████████████████████████████| 25.3 MB 83 kB/s \n",
            "\u001b[?25hRequirement already satisfied: joblib>=0.11 in /usr/local/lib/python3.7/dist-packages (from scikit-learn<0.24.3,>=0.22.2->adversarial-robustness-toolbox==1.7.1) (1.1.0)\n",
            "Installing collected packages: llvmlite, numba, adversarial-robustness-toolbox\n",
            "  Attempting uninstall: llvmlite\n",
            "    Found existing installation: llvmlite 0.34.0\n",
            "    Uninstalling llvmlite-0.34.0:\n",
            "      Successfully uninstalled llvmlite-0.34.0\n",
            "  Attempting uninstall: numba\n",
            "    Found existing installation: numba 0.51.2\n",
            "    Uninstalling numba-0.51.2:\n",
            "      Successfully uninstalled numba-0.51.2\n",
            "Successfully installed adversarial-robustness-toolbox-1.7.1 llvmlite-0.36.0 numba-0.53.1\n"
          ]
        }
      ]
    },
    {
      "cell_type": "code",
      "metadata": {
        "colab": {
          "base_uri": "https://localhost:8080/"
        },
        "id": "XNM4Fpu7Q02r",
        "outputId": "27683751-78b7-4ea0-a64e-6038491b5b07"
      },
      "source": [
        "# mounting the drive to store the results\n",
        "\n",
        "from google.colab import drive\n",
        "drive.mount('/content/drive') #, force_remount = True)"
      ],
      "execution_count": null,
      "outputs": [
        {
          "output_type": "stream",
          "name": "stdout",
          "text": [
            "Mounted at /content/drive\n"
          ]
        }
      ]
    },
    {
      "cell_type": "code",
      "metadata": {
        "id": "ZZxvy0a_OdDN"
      },
      "source": [
        "import tensorflow as tf\n",
        "import tensorflow_hub as hub\n",
        "import tensorflow_datasets as tfds\n",
        "from tensorflow.keras import Model\n",
        "import numpy as np\n",
        "%matplotlib inline \n",
        "import matplotlib.pyplot as plt\n",
        "from keras.datasets import cifar10\n",
        "\n",
        "from keras.models import Sequential\n",
        "from keras.layers import Dense, Flatten, Conv2D, MaxPooling2D, Dropout\n",
        "# from keras.optimizers import Adam\n",
        "from tensorflow.keras.layers import InputLayer, Reshape\n",
        "from tensorflow.keras import Sequential\n",
        "from tensorflow.keras.layers import Dense, Flatten, Conv2D, MaxPooling2D, Dropout\n",
        "from tensorflow.keras.optimizers import SGD, Adam\n",
        "from tensorflow.keras.utils import to_categorical\n",
        "from tensorflow.keras.losses import CategoricalCrossentropy\n",
        "\n",
        "from sklearn.metrics import classification_report\n",
        "import pickle\n",
        "import os\n",
        "\n",
        "from art.estimators.classification import TensorFlowV2Classifier"
      ],
      "execution_count": null,
      "outputs": []
    },
    {
      "cell_type": "code",
      "metadata": {
        "id": "uUbWr9aQRcrP"
      },
      "source": [
        "# (x_train, y_train), (x_test, y_test) = tf.keras.datasets.cifar10.load_data()\n",
        "(x_train, y_train), (x_test, y_test) = cifar10.load_data()\n",
        "assert x_train.shape == (50000, 32, 32, 3)\n",
        "assert x_test.shape == (10000, 32, 32, 3)\n",
        "assert y_train.shape == (50000, 1)\n",
        "assert y_test.shape == (10000, 1)"
      ],
      "execution_count": null,
      "outputs": []
    },
    {
      "cell_type": "code",
      "metadata": {
        "colab": {
          "base_uri": "https://localhost:8080/",
          "height": 377
        },
        "id": "GcwywI32XM6z",
        "outputId": "39bb8be4-1b61-4e8c-e4a8-601d473e942b"
      },
      "source": [
        "# visualizing a few sample images\n",
        "\n",
        "class_names = ['airplane', 'automobile', 'bird', 'cat', 'deer', 'dog', 'frog', 'horse', 'ship', 'truck']\n",
        "\n",
        "fig = plt.figure(figsize=(16,6))\n",
        "for i in range(10):\n",
        "    ax = fig.add_subplot(2, 5, 1 + i, xticks=[], yticks=[])\n",
        "    im = x_test[i, :]\n",
        "    ax.set_title(class_names[y_test[i][0]])\n",
        "    plt.imshow(im)\n",
        "plt.show()"
      ],
      "execution_count": null,
      "outputs": [
        {
          "output_type": "display_data",
          "data": {
            "image/png": "[encoded data removed]",
            "text/plain": [
              "<Figure size 1152x432 with 10 Axes>"
            ]
          },
          "metadata": {}
        }
      ]
    },
    {
      "cell_type": "code",
      "metadata": {
        "colab": {
          "base_uri": "https://localhost:8080/"
        },
        "id": "7dSj3TTuR3_J",
        "outputId": "4089fe91-5cc6-4024-b1a1-8277249232b3"
      },
      "source": [
        "# checking the format of data\n",
        "print(type(x_train[0]))\n",
        "print(x_train[0].shape)\n",
        "\n",
        "# retaining the original format for the test data\n",
        "x_test_retained=x_test.copy()\n",
        "\n",
        "# Convert class vectors to binary class matrices.\n",
        "y_test = tf.keras.utils.to_categorical(y_test, 10)\n",
        "y_train = tf.keras.utils.to_categorical(y_train, 10)\n",
        "\n",
        "print(y_test.shape)\n",
        "print(y_train.shape)\n",
        "\n",
        "# Normalizing the data by converting to float and dividing by 255 (max value for r,g,b)\n",
        "\n",
        "x_train = x_train.astype('float32')\n",
        "x_test = x_test.astype('float32')\n",
        "x_train  /= 255\n",
        "x_test /= 255\n",
        "\n",
        "# print(x_train[0])"
      ],
      "execution_count": null,
      "outputs": [
        {
          "output_type": "stream",
          "name": "stdout",
          "text": [
            "<class 'numpy.ndarray'>\n",
            "(32, 32, 3)\n",
            "(10000, 10)\n",
            "(50000, 10)\n"
          ]
        }
      ]
    },
    {
      "cell_type": "markdown",
      "metadata": {
        "id": "SG1sNdyzuXlZ"
      },
      "source": [
        "## Loading the blackbox model for this task named classifier"
      ]
    },
    {
      "cell_type": "code",
      "metadata": {
        "id": "_jyxwjby8lah"
      },
      "source": [
        "# # using keras to load the given model\n",
        "hub_url = \"https://tfhub.dev/deepmind/ganeval-cifar10-convnet/1\"\n",
        "model = hub.load(hub_url)\n",
        "\n",
        "classifier = tf.keras.Sequential()\n",
        "classifier.add(tf.keras.layers.InputLayer(input_shape=(32,32,3)))\n",
        "# classifier.add(hub.KerasLayer(model.signatures['default']))\n",
        "classifier.add(hub.KerasLayer(hub_url, signature='default'))\n",
        "classifier.add(tf.keras.layers.Activation('softmax'))\n",
        "\n",
        "classifier.compile(optimizer=tf.keras.optimizers.SGD(learning_rate=0.1, momentum=0.9, decay=1e-4), loss=tf.keras.losses.CategoricalCrossentropy(), metrics=['accuracy'])"
      ],
      "execution_count": null,
      "outputs": []
    },
    {
      "cell_type": "code",
      "metadata": {
        "colab": {
          "base_uri": "https://localhost:8080/"
        },
        "id": "KY8XiVX6AbEZ",
        "outputId": "2deb6e5f-0b78-42d7-f1f0-296c812ee925"
      },
      "source": [
        "print(classifier.summary())\n",
        "# tf.keras.utils.plot_model(model, \"my_first_model.png\")"
      ],
      "execution_count": null,
      "outputs": [
        {
          "output_type": "stream",
          "name": "stdout",
          "text": [
            "Model: \"sequential_2\"\n",
            "_________________________________________________________________\n",
            " Layer (type)                Output Shape              Param #   \n",
            "=================================================================\n",
            " keras_layer_1 (KerasLayer)  (None, 10)                7796426   \n",
            "                                                                 \n",
            " activation_1 (Activation)   (None, 10)                0         \n",
            "                                                                 \n",
            "=================================================================\n",
            "Total params: 7,796,426\n",
            "Trainable params: 0\n",
            "Non-trainable params: 7,796,426\n",
            "_________________________________________________________________\n",
            "None\n"
          ]
        }
      ]
    },
    {
      "cell_type": "code",
      "metadata": {
        "colab": {
          "base_uri": "https://localhost:8080/"
        },
        "id": "7K6WAhTeAoue",
        "outputId": "7abb73a5-4745-499c-c9d6-643a4632e7f0"
      },
      "source": [
        "# evaluating with a subset of training data. The expected accuracy is 1 since this is model is trained on Cifar10\n",
        "\n",
        "tf.config.run_functions_eagerly(True)\n",
        "x_train_trial=x_train[0:1000].copy()\n",
        "y_train_trial=y_train[0:1000].copy()\n",
        "classifier.evaluate(x_train_trial, y_train_trial)"
      ],
      "execution_count": null,
      "outputs": [
        {
          "output_type": "stream",
          "name": "stderr",
          "text": [
            "/usr/local/lib/python3.7/dist-packages/tensorflow/python/data/ops/dataset_ops.py:4527: UserWarning: Even though the `tf.config.experimental_run_functions_eagerly` option is set, this option does not apply to tf.data functions. To force eager execution of tf.data functions, please use `tf.data.experimental.enable_debug_mode()`.\n",
            "  \"Even though the `tf.config.experimental_run_functions_eagerly` \"\n"
          ]
        },
        {
          "output_type": "stream",
          "name": "stdout",
          "text": [
            "32/32 [==============================] - 11s 323ms/step - loss: 0.0017 - accuracy: 1.0000\n"
          ]
        },
        {
          "output_type": "execute_result",
          "data": {
            "text/plain": [
              "[0.0016680299304425716, 1.0]"
            ]
          },
          "metadata": {},
          "execution_count": 49
        }
      ]
    },
    {
      "cell_type": "code",
      "metadata": {
        "colab": {
          "base_uri": "https://localhost:8080/",
          "height": 334
        },
        "id": "GbZx-qAeVZLU",
        "outputId": "9e1d917b-bbd2-493c-f149-41dd903fbf1f"
      },
      "source": [
        "# Visualizing a prediction using the non scaled and retained test data saved earlier\n",
        "\n",
        "prediction = classifier.predict(x_test[:3])\n",
        "ans = np.argmax(prediction[2])\n",
        "print(ans)\n",
        "\n",
        "plt.imshow(x_test_retained[2])\n",
        "plt.axis( 'off' )\n",
        "plt.title(class_names[ans])\n",
        "plt.show( )"
      ],
      "execution_count": null,
      "outputs": [
        {
          "output_type": "stream",
          "name": "stdout",
          "text": [
            "8\n"
          ]
        },
        {
          "output_type": "stream",
          "name": "stderr",
          "text": [
            "/usr/local/lib/python3.7/dist-packages/tensorflow/python/data/ops/dataset_ops.py:4527: UserWarning: Even though the `tf.config.experimental_run_functions_eagerly` option is set, this option does not apply to tf.data functions. To force eager execution of tf.data functions, please use `tf.data.experimental.enable_debug_mode()`.\n",
            "  \"Even though the `tf.config.experimental_run_functions_eagerly` \"\n"
          ]
        },
        {
          "output_type": "display_data",
          "data": {
            "image/png": "[encoded data removed]",
            "text/plain": [
              "<Figure size 432x288 with 1 Axes>"
            ]
          },
          "metadata": {
            "needs_background": "light"
          }
        }
      ]
    },
    {
      "cell_type": "markdown",
      "metadata": {
        "id": "4Yt15DTpuoiK"
      },
      "source": [
        "## Since we know the data domain is CIFAR-10, we can design a custom CNN on this data named model"
      ]
    },
    {
      "cell_type": "code",
      "metadata": {
        "id": "yCW9tJ3Sux1g"
      },
      "source": [
        "model = Sequential()\n",
        "model.add( Conv2D(32, kernel_size=(3, 3), activation='relu', input_shape=(32,32,3) ) )\n",
        "model.add( Conv2D( 64, (3, 3), padding='same', activation='relu' ) )\n",
        "model.add( MaxPooling2D( pool_size=(2, 2) ) )\n",
        "model.add( Conv2D( 64, (3, 3), padding='same', activation='relu' ) )\n",
        "model.add( Conv2D( 64, (3, 3), padding='same', activation='relu' ) )\n",
        "model.add( MaxPooling2D( pool_size=(2, 2) ) )\n",
        "model.add( Conv2D( 128, (3, 3), padding='same', activation='relu' ) )\n",
        "model.add( Conv2D( 128, (3, 3), padding='same', activation='relu' ) )\n",
        "model.add( MaxPooling2D( pool_size=(2, 2) ) )\n",
        "model.add( Flatten() )\n",
        "model.add( Dense(128, activation='relu') )\n",
        "model.add( Dense(10, activation='softmax') )\n",
        "\n",
        "model.compile( loss='categorical_crossentropy', optimizer='adam', metrics=['accuracy'] )"
      ],
      "execution_count": null,
      "outputs": []
    },
    {
      "cell_type": "code",
      "metadata": {
        "colab": {
          "base_uri": "https://localhost:8080/"
        },
        "id": "QuiUlQ-yH-79",
        "outputId": "4b131be3-f5ee-4487-9222-34396c4ef300"
      },
      "source": [
        "model.summary()"
      ],
      "execution_count": null,
      "outputs": [
        {
          "output_type": "stream",
          "name": "stdout",
          "text": [
            "Model: \"sequential_4\"\n",
            "_________________________________________________________________\n",
            " Layer (type)                Output Shape              Param #   \n",
            "=================================================================\n",
            " conv2d_12 (Conv2D)          (None, 30, 30, 32)        896       \n",
            "                                                                 \n",
            " conv2d_13 (Conv2D)          (None, 30, 30, 64)        18496     \n",
            "                                                                 \n",
            " max_pooling2d_6 (MaxPooling  (None, 15, 15, 64)       0         \n",
            " 2D)                                                             \n",
            "                                                                 \n",
            " conv2d_14 (Conv2D)          (None, 15, 15, 64)        36928     \n",
            "                                                                 \n",
            " conv2d_15 (Conv2D)          (None, 15, 15, 64)        36928     \n",
            "                                                                 \n",
            " max_pooling2d_7 (MaxPooling  (None, 7, 7, 64)         0         \n",
            " 2D)                                                             \n",
            "                                                                 \n",
            " conv2d_16 (Conv2D)          (None, 7, 7, 128)         73856     \n",
            "                                                                 \n",
            " conv2d_17 (Conv2D)          (None, 7, 7, 128)         147584    \n",
            "                                                                 \n",
            " max_pooling2d_8 (MaxPooling  (None, 3, 3, 128)        0         \n",
            " 2D)                                                             \n",
            "                                                                 \n",
            " flatten_2 (Flatten)         (None, 1152)              0         \n",
            "                                                                 \n",
            " dense_4 (Dense)             (None, 128)               147584    \n",
            "                                                                 \n",
            " dense_5 (Dense)             (None, 10)                1290      \n",
            "                                                                 \n",
            "=================================================================\n",
            "Total params: 463,562\n",
            "Trainable params: 463,562\n",
            "Non-trainable params: 0\n",
            "_________________________________________________________________\n"
          ]
        }
      ]
    },
    {
      "cell_type": "code",
      "metadata": {
        "colab": {
          "base_uri": "https://localhost:8080/"
        },
        "id": "RFXzLZKwvLvj",
        "outputId": "cdc343b3-0bf9-49ac-aa80-fca9e0db011f"
      },
      "source": [
        "# train the model on CIFAR-10 data\n",
        "model.fit( x_train, y_train, epochs=5 )"
      ],
      "execution_count": null,
      "outputs": [
        {
          "output_type": "stream",
          "name": "stderr",
          "text": [
            "/usr/local/lib/python3.7/dist-packages/tensorflow/python/data/ops/dataset_ops.py:4527: UserWarning: Even though the `tf.config.experimental_run_functions_eagerly` option is set, this option does not apply to tf.data functions. To force eager execution of tf.data functions, please use `tf.data.experimental.enable_debug_mode()`.\n",
            "  \"Even though the `tf.config.experimental_run_functions_eagerly` \"\n"
          ]
        },
        {
          "output_type": "stream",
          "name": "stdout",
          "text": [
            "Epoch 1/5\n",
            "1563/1563 [==============================] - 478s 306ms/step - loss: 1.4721 - accuracy: 0.4578\n",
            "Epoch 2/5\n",
            "1563/1563 [==============================] - 478s 306ms/step - loss: 0.9370 - accuracy: 0.6684\n",
            "Epoch 3/5\n",
            "1563/1563 [==============================] - 478s 306ms/step - loss: 0.7407 - accuracy: 0.7405\n",
            "Epoch 4/5\n",
            "1563/1563 [==============================] - 476s 305ms/step - loss: 0.6197 - accuracy: 0.7831\n",
            "Epoch 5/5\n",
            "1563/1563 [==============================] - 477s 305ms/step - loss: 0.5254 - accuracy: 0.8182\n"
          ]
        },
        {
          "output_type": "execute_result",
          "data": {
            "text/plain": [
              "<keras.callbacks.History at 0x7f20d1c062d0>"
            ]
          },
          "metadata": {},
          "execution_count": 53
        }
      ]
    },
    {
      "cell_type": "markdown",
      "metadata": {
        "id": "eNILbc3ivS__"
      },
      "source": [
        "### Compare the performance of both the models"
      ]
    },
    {
      "cell_type": "code",
      "metadata": {
        "colab": {
          "base_uri": "https://localhost:8080/"
        },
        "id": "UzroZu1cvV73",
        "outputId": "c07caff8-d799-444b-910c-5c015de2687d"
      },
      "source": [
        "# compare how the models do on the test set\n",
        "acc_0 = classifier.evaluate( x_test, y_test )[ 1 ]\n",
        "acc_1 = model.evaluate( x_test, y_test )[ 1 ]\n",
        "\n",
        "print( 'acc back box model: ', acc_0 )\n",
        "print( 'acc our trained model: ', acc_1 )\n"
      ],
      "execution_count": null,
      "outputs": [
        {
          "output_type": "stream",
          "name": "stderr",
          "text": [
            "/usr/local/lib/python3.7/dist-packages/tensorflow/python/data/ops/dataset_ops.py:4527: UserWarning: Even though the `tf.config.experimental_run_functions_eagerly` option is set, this option does not apply to tf.data functions. To force eager execution of tf.data functions, please use `tf.data.experimental.enable_debug_mode()`.\n",
            "  \"Even though the `tf.config.experimental_run_functions_eagerly` \"\n"
          ]
        },
        {
          "output_type": "stream",
          "name": "stdout",
          "text": [
            "313/313 [==============================] - 102s 326ms/step - loss: 0.2056 - accuracy: 0.9452\n",
            "313/313 [==============================] - 23s 75ms/step - loss: 0.7722 - accuracy: 0.7429\n",
            "acc back box model:  0.9452000260353088\n",
            "acc our trained model:  0.742900013923645\n"
          ]
        }
      ]
    },
    {
      "cell_type": "markdown",
      "metadata": {
        "id": "WVj751nIvjy4"
      },
      "source": [
        "## Using a white box FGSM attack to generate the adversarial samples on custom trained model"
      ]
    },
    {
      "cell_type": "code",
      "metadata": {
        "id": "sa7M6rAXxGUv"
      },
      "source": [
        "# function to generate the needed samples for implementing attack\n",
        "\n",
        "def candidate_data(x_test, y_test, n):\n",
        "  cx_test=[]\n",
        "  cy_test=[]\n",
        "  \n",
        "  for i in list(range(y_test.shape[1])):\n",
        "    id = y_test[:,i]==1\n",
        "    cx_test.append(x_test[id][:n].copy())\n",
        "    cy_test.append(y_test[id][:n].copy())\n",
        "\n",
        "  cx_test = np.concatenate(cx_test)\n",
        "  cy_test = np.concatenate(cy_test)\n",
        "\n",
        "  return cx_test, cy_test"
      ],
      "execution_count": null,
      "outputs": []
    },
    {
      "cell_type": "code",
      "metadata": {
        "colab": {
          "base_uri": "https://localhost:8080/"
        },
        "id": "O-AdDFhLwrXD",
        "outputId": "150c26ab-666f-4fd6-ce7d-9561097d6ea1"
      },
      "source": [
        "from art.estimators.classification import TensorFlowV2Classifier\n",
        "from art.attacks.evasion import FastGradientMethod\n",
        "\n",
        "# Create a ART TensorFlow v2 classifier for the blackbox TensorFlow model\n",
        "artclassifier0 = TensorFlowV2Classifier(model=classifier, nb_classes=10, input_shape=(32, 32, 3), loss_object=classifier.loss, \n",
        "                                    clip_values=(0, 1), channels_first=False)\n",
        "\n",
        "# Create a ART TensorFlow v2 classifier for the custom model\n",
        "artclassifier1 = TensorFlowV2Classifier(model=model, nb_classes=10, input_shape=(32, 32, 3), loss_object=classifier.loss, \n",
        "                                    clip_values=(0, 1), channels_first=False)\n",
        "\n",
        "# fgsm_attack0 = FastGradientMethod( artclassifier0, targeted=False, eps_step=0.001, eps=0.01)\n",
        "\n",
        "fgsm_attack1 = FastGradientMethod( artclassifier1, targeted=False, eps_step=0.001, eps=0.01)\n",
        "\n",
        "sample_test, sample_label = candidate_data(x_test, y_test, 10)\n",
        "\n",
        "print(sample_test.shape)\n",
        "print(sample_label.shape)\n",
        "\n",
        "# implementing fgsm attack on our custom model and generating adversarial samples\n",
        "# x_test_adv0 = fgsm_attack0.generate(sample_test)\n",
        "x_test_adv1 = fgsm_attack1.generate(sample_test)"
      ],
      "execution_count": null,
      "outputs": [
        {
          "output_type": "stream",
          "name": "stdout",
          "text": [
            "(100, 32, 32, 3)\n",
            "(100, 10)\n"
          ]
        }
      ]
    },
    {
      "cell_type": "markdown",
      "metadata": {
        "id": "xthbFPpsL8KX"
      },
      "source": [
        "### Checking the accuracy of black box model and the custom model using the adversarial examples generated from the custom model (applying FGSM attack)"
      ]
    },
    {
      "cell_type": "code",
      "metadata": {
        "colab": {
          "base_uri": "https://localhost:8080/"
        },
        "id": "gPQ6AlDgysG7",
        "outputId": "834ce5d0-94d8-49f7-cdf9-e435c86847ba"
      },
      "source": [
        "# accuracy of both models on adversarial samples generated\n",
        "\n",
        "print( 'acc blackbox model on adverserial examples: ', classifier.evaluate( x_test_adv1, sample_label, verbose=0 )[ 1 ] )\n",
        "print( 'acc custom model on adverserial examples: ', model.evaluate( x_test_adv1, sample_label, verbose=0 )[ 1 ] )"
      ],
      "execution_count": null,
      "outputs": [
        {
          "output_type": "stream",
          "name": "stderr",
          "text": [
            "/usr/local/lib/python3.7/dist-packages/tensorflow/python/data/ops/dataset_ops.py:4527: UserWarning: Even though the `tf.config.experimental_run_functions_eagerly` option is set, this option does not apply to tf.data functions. To force eager execution of tf.data functions, please use `tf.data.experimental.enable_debug_mode()`.\n",
            "  \"Even though the `tf.config.experimental_run_functions_eagerly` \"\n"
          ]
        },
        {
          "output_type": "stream",
          "name": "stdout",
          "text": [
            "acc blackbox model on adverserial examples:  0.9200000166893005\n",
            "acc custom model on adverserial examples:  0.4099999964237213\n"
          ]
        }
      ]
    },
    {
      "cell_type": "code",
      "metadata": {
        "id": "m3BZS9WWy596"
      },
      "source": [
        "# # let's see how the models do when we give them the adversarial examples \n",
        "# # created against the other model\n",
        "\n",
        "# print( 'acc blackbox model on adverserial examples from custom model: ', classifier.evaluate( x_test_adv1, sample_label, verbose=0 )[ 1 ] )\n",
        "# print( 'acc custom model on adverserial examples from the black box model: ', model.evaluate( x_test_adv0, sample_label, verbose=0 )[ 1 ] )\n"
      ],
      "execution_count": null,
      "outputs": []
    },
    {
      "cell_type": "markdown",
      "metadata": {
        "id": "PIZP1QhO9AFg"
      },
      "source": [
        "## Using a black box Hopskipjump attack to generate the adversarial samples"
      ]
    },
    {
      "cell_type": "markdown",
      "metadata": {
        "id": "Yr0jCDKIApD6"
      },
      "source": [
        "### with 5 iterations"
      ]
    },
    {
      "cell_type": "code",
      "metadata": {
        "colab": {
          "base_uri": "https://localhost:8080/",
          "height": 82,
          "referenced_widgets": [
            "78307d4383084f61b5c90c3eb62b3e5b",
            "648e962ec5b24b2fba6f649113b73ebf",
            "a40124f7196d4b6d92320b62b6e729f8",
            "967c1ccd895d466aa84f8273f2b25977",
            "a5eb95ee17c64fc5822fbe6ccefbb45a",
            "166c516324074db29c4d92a30eb8ff93",
            "a0f9688250524a92900a490e70396f9b",
            "a1c2afc04dae40daa1e180b8412a18c0",
            "d6685db6e6fe4ea48fa66fdec32dfddd",
            "e0d7fe32b52e4359a42b0045765fbacd",
            "5880d85a2f68452593687fdf6855af88"
          ]
        },
        "id": "mP04kN-0ApD6",
        "outputId": "ec9b5ed2-f302-4530-db9c-274f1e327eca"
      },
      "source": [
        "from art.attacks.evasion import HopSkipJump\n",
        "\n",
        "sample_test, sample_label=candidate_data(x_test, y_test, 10)\n",
        "\n",
        "attack_hpskp = HopSkipJump(classifier=artclassifier0, batch_size=20, max_iter=5 ,max_eval=10000, init_eval=10, targeted=False)\n",
        "\n",
        "x_test_adv0 = attack_hpskp.generate(sample_test)"
      ],
      "execution_count": null,
      "outputs": [
        {
          "output_type": "display_data",
          "data": {
            "application/vnd.jupyter.widget-view+json": {
              "model_id": "78307d4383084f61b5c90c3eb62b3e5b",
              "version_minor": 0,
              "version_major": 2
            },
            "text/plain": [
              "HopSkipJump:   0%|          | 0/100 [00:00<?, ?it/s]"
            ]
          },
          "metadata": {}
        },
        {
          "output_type": "stream",
          "name": "stderr",
          "text": [
            "WARNING:art.attacks.evasion.hop_skip_jump:Failed to draw a random image that is adversarial, attack failed.\n",
            "WARNING:art.attacks.evasion.hop_skip_jump:Failed to draw a random image that is adversarial, attack failed.\n"
          ]
        }
      ]
    },
    {
      "cell_type": "markdown",
      "metadata": {
        "id": "IfSVaomDApD7"
      },
      "source": [
        "#### Evaluating how the black box model performs on the adversarial samples"
      ]
    },
    {
      "cell_type": "code",
      "metadata": {
        "colab": {
          "base_uri": "https://localhost:8080/"
        },
        "id": "NM4ZspVAApD7",
        "outputId": "3573cab4-7ad8-40d4-fd95-2632b6ba6c29"
      },
      "source": [
        "# accuracy of both models on adversarial samples generated\n",
        "\n",
        "print( 'acc blackbox model on adverserial examples: ', classifier.evaluate( x_test_adv0, sample_label, verbose=0 )[ 1 ] )"
      ],
      "execution_count": null,
      "outputs": [
        {
          "output_type": "stream",
          "name": "stderr",
          "text": [
            "/usr/local/lib/python3.7/dist-packages/tensorflow/python/data/ops/dataset_ops.py:4527: UserWarning: Even though the `tf.config.experimental_run_functions_eagerly` option is set, this option does not apply to tf.data functions. To force eager execution of tf.data functions, please use `tf.data.experimental.enable_debug_mode()`.\n",
            "  \"Even though the `tf.config.experimental_run_functions_eagerly` \"\n"
          ]
        },
        {
          "output_type": "stream",
          "name": "stdout",
          "text": [
            "acc blackbox model on adverserial examples:  0.07000000029802322\n"
          ]
        }
      ]
    },
    {
      "cell_type": "markdown",
      "metadata": {
        "id": "kzU1skP6ApD7"
      },
      "source": [
        "#### Checking how our custom model performs against the adversarial examples generated for the black box model"
      ]
    },
    {
      "cell_type": "code",
      "metadata": {
        "colab": {
          "base_uri": "https://localhost:8080/"
        },
        "id": "HrDkjqyXApD7",
        "outputId": "28a42025-a435-4e8b-8cab-59d958761679"
      },
      "source": [
        "# accuracy of both models on adversarial samples generated\n",
        "\n",
        "print( 'acc custom model on adverserial examples: ', model.evaluate( x_test_adv0, sample_label, verbose=0 )[ 1 ] )"
      ],
      "execution_count": null,
      "outputs": [
        {
          "output_type": "stream",
          "name": "stderr",
          "text": [
            "/usr/local/lib/python3.7/dist-packages/tensorflow/python/data/ops/dataset_ops.py:4527: UserWarning: Even though the `tf.config.experimental_run_functions_eagerly` option is set, this option does not apply to tf.data functions. To force eager execution of tf.data functions, please use `tf.data.experimental.enable_debug_mode()`.\n",
            "  \"Even though the `tf.config.experimental_run_functions_eagerly` \"\n"
          ]
        },
        {
          "output_type": "stream",
          "name": "stdout",
          "text": [
            "acc custom model on adverserial examples:  0.6700000166893005\n"
          ]
        }
      ]
    },
    {
      "cell_type": "markdown",
      "metadata": {
        "id": "LGd3Af1m--nc"
      },
      "source": [
        "### with 10 iterations"
      ]
    },
    {
      "cell_type": "code",
      "metadata": {
        "colab": {
          "base_uri": "https://localhost:8080/",
          "height": 99,
          "referenced_widgets": [
            "4c61b30f96c4476eab23214117c05fc9",
            "be417c8adbab4c3f83227c426583de89",
            "f3ae9d218d1e4746a03670a13958801e",
            "de800369b71b406181bef4cdf3f5f780",
            "efef086dafe14d4897177b293385a4d5",
            "ff8fc52cebbd483dadf818431e338fa5",
            "9f623f2bf53c43efbfa3975f129879a4",
            "5fc540b0e3324eacb6f0a713226b3972",
            "eb2bdd414e9e459c929a959e7fc4b702",
            "beaca67af58b4449bc3295c9ce36c2a0",
            "2767e1cdae884460bd5cf2aa06a54517"
          ]
        },
        "id": "0PFP_rwG9KSD",
        "outputId": "3af19cb7-f303-455d-f15f-e2766e08c9a1"
      },
      "source": [
        "from art.attacks.evasion import HopSkipJump\n",
        "\n",
        "sample_test, sample_label=candidate_data(x_test, y_test, 10)\n",
        "\n",
        "attack_hpskp = HopSkipJump(classifier=artclassifier0, batch_size=20, max_iter=10 ,max_eval=10000, init_eval=10, targeted=False)\n",
        "\n",
        "x_test_adv0 = attack_hpskp.generate(sample_test)"
      ],
      "execution_count": null,
      "outputs": [
        {
          "output_type": "display_data",
          "data": {
            "application/vnd.jupyter.widget-view+json": {
              "model_id": "4c61b30f96c4476eab23214117c05fc9",
              "version_minor": 0,
              "version_major": 2
            },
            "text/plain": [
              "HopSkipJump:   0%|          | 0/100 [00:00<?, ?it/s]"
            ]
          },
          "metadata": {}
        },
        {
          "output_type": "stream",
          "name": "stderr",
          "text": [
            "WARNING:art.attacks.evasion.hop_skip_jump:Failed to draw a random image that is adversarial, attack failed.\n",
            "WARNING:art.attacks.evasion.hop_skip_jump:Failed to draw a random image that is adversarial, attack failed.\n",
            "WARNING:art.attacks.evasion.hop_skip_jump:Failed to draw a random image that is adversarial, attack failed.\n"
          ]
        }
      ]
    },
    {
      "cell_type": "markdown",
      "metadata": {
        "id": "8fi1grXY9vUa"
      },
      "source": [
        "#### Evaluating how the black box model performs on the adversarial samples"
      ]
    },
    {
      "cell_type": "code",
      "metadata": {
        "colab": {
          "base_uri": "https://localhost:8080/"
        },
        "id": "GauOa62T97Lz",
        "outputId": "3fbb384c-8bdb-4d2b-aed9-58c11aa604b4"
      },
      "source": [
        "# accuracy of both models on adversarial samples generated\n",
        "\n",
        "print( 'acc blackbox model on adverserial examples: ', classifier.evaluate( x_test_adv0, sample_label, verbose=0 )[ 1 ] )"
      ],
      "execution_count": null,
      "outputs": [
        {
          "output_type": "stream",
          "name": "stderr",
          "text": [
            "/usr/local/lib/python3.7/dist-packages/tensorflow/python/data/ops/dataset_ops.py:4527: UserWarning: Even though the `tf.config.experimental_run_functions_eagerly` option is set, this option does not apply to tf.data functions. To force eager execution of tf.data functions, please use `tf.data.experimental.enable_debug_mode()`.\n",
            "  \"Even though the `tf.config.experimental_run_functions_eagerly` \"\n"
          ]
        },
        {
          "output_type": "stream",
          "name": "stdout",
          "text": [
            "acc blackbox model on adverserial examples:  0.07000000029802322\n"
          ]
        }
      ]
    },
    {
      "cell_type": "markdown",
      "metadata": {
        "id": "Y9FHHmW4-DvW"
      },
      "source": [
        "#### Checking how our custom model performs against the adversarial examples generated for the black box model"
      ]
    },
    {
      "cell_type": "code",
      "metadata": {
        "colab": {
          "base_uri": "https://localhost:8080/"
        },
        "id": "go3KKhCz-J7V",
        "outputId": "f147dfa7-2db9-49dd-d0d5-3db4ded5ceea"
      },
      "source": [
        "# accuracy of both models on adversarial samples generated\n",
        "\n",
        "print( 'acc custom model on adverserial examples: ', model.evaluate( x_test_adv0, sample_label, verbose=0 )[ 1 ] )"
      ],
      "execution_count": null,
      "outputs": [
        {
          "output_type": "stream",
          "name": "stderr",
          "text": [
            "/usr/local/lib/python3.7/dist-packages/tensorflow/python/data/ops/dataset_ops.py:4527: UserWarning: Even though the `tf.config.experimental_run_functions_eagerly` option is set, this option does not apply to tf.data functions. To force eager execution of tf.data functions, please use `tf.data.experimental.enable_debug_mode()`.\n",
            "  \"Even though the `tf.config.experimental_run_functions_eagerly` \"\n"
          ]
        },
        {
          "output_type": "stream",
          "name": "stdout",
          "text": [
            "acc custom model on adverserial examples:  0.6499999761581421\n"
          ]
        }
      ]
    },
    {
      "cell_type": "markdown",
      "metadata": {
        "id": "EnOtcu27A1KX"
      },
      "source": [
        "### with 25 iterations"
      ]
    },
    {
      "cell_type": "code",
      "metadata": {
        "colab": {
          "base_uri": "https://localhost:8080/",
          "height": 82,
          "referenced_widgets": [
            "74bab655ff8a423ea21744770816b481",
            "4ad74441a8c441c0ab847de71393e123",
            "cef65564e8f8453e9bffe9b1680c34f7",
            "7d2babad759342cea780259c62f16736",
            "8f6179f8b0a14b8ea05e651283f535da",
            "5ae0b50609134db9bb46d69c1c36b0ad",
            "b8251944a8954c4db41b0e3b1a514b18",
            "8b0e75abb5214119b4474a052868ff61",
            "cd021f90c42d442787a8eda35f6813ee",
            "24f18c6f45ae484082db4aaed7982c15",
            "82ad253253c34612b44ca32768b9a865"
          ]
        },
        "id": "W9uNvfXkA1KX",
        "outputId": "1197ea56-3227-4a8f-fb9c-fa84956d28c9"
      },
      "source": [
        "from art.attacks.evasion import HopSkipJump\n",
        "\n",
        "sample_test, sample_label=candidate_data(x_test, y_test, 10)\n",
        "\n",
        "attack_hpskp = HopSkipJump(classifier=artclassifier0, batch_size=20, max_iter=25 ,max_eval=10000, init_eval=10, targeted=False)\n",
        "\n",
        "x_test_adv0 = attack_hpskp.generate(sample_test)"
      ],
      "execution_count": null,
      "outputs": [
        {
          "output_type": "display_data",
          "data": {
            "application/vnd.jupyter.widget-view+json": {
              "model_id": "74bab655ff8a423ea21744770816b481",
              "version_minor": 0,
              "version_major": 2
            },
            "text/plain": [
              "HopSkipJump:   0%|          | 0/100 [00:00<?, ?it/s]"
            ]
          },
          "metadata": {}
        },
        {
          "output_type": "stream",
          "name": "stderr",
          "text": [
            "WARNING:art.attacks.evasion.hop_skip_jump:Failed to draw a random image that is adversarial, attack failed.\n",
            "WARNING:art.attacks.evasion.hop_skip_jump:Failed to draw a random image that is adversarial, attack failed.\n"
          ]
        }
      ]
    },
    {
      "cell_type": "markdown",
      "metadata": {
        "id": "aTYxPcP8A1KY"
      },
      "source": [
        "#### Evaluating how the black box model performs on the adversarial samples"
      ]
    },
    {
      "cell_type": "code",
      "metadata": {
        "colab": {
          "base_uri": "https://localhost:8080/"
        },
        "id": "siqdnRdPA1KY",
        "outputId": "cecb40ce-af6d-4ad8-8038-cbe7ac19bf28"
      },
      "source": [
        "# accuracy of both models on adversarial samples generated\n",
        "\n",
        "print( 'acc blackbox model on adverserial examples: ', classifier.evaluate( x_test_adv0, sample_label, verbose=0 )[ 1 ] )"
      ],
      "execution_count": null,
      "outputs": [
        {
          "output_type": "stream",
          "name": "stderr",
          "text": [
            "/usr/local/lib/python3.7/dist-packages/tensorflow/python/data/ops/dataset_ops.py:4527: UserWarning: Even though the `tf.config.experimental_run_functions_eagerly` option is set, this option does not apply to tf.data functions. To force eager execution of tf.data functions, please use `tf.data.experimental.enable_debug_mode()`.\n",
            "  \"Even though the `tf.config.experimental_run_functions_eagerly` \"\n"
          ]
        },
        {
          "output_type": "stream",
          "name": "stdout",
          "text": [
            "acc blackbox model on adverserial examples:  0.05999999865889549\n"
          ]
        }
      ]
    },
    {
      "cell_type": "markdown",
      "metadata": {
        "id": "RJK9X_KuA1KZ"
      },
      "source": [
        "#### Checking how our custom model performs against the adversarial examples generated for the black box model"
      ]
    },
    {
      "cell_type": "code",
      "metadata": {
        "colab": {
          "base_uri": "https://localhost:8080/"
        },
        "id": "pEqAJyfxA1KZ",
        "outputId": "2857704b-ac0d-40b9-b1f3-ce1a73163b5c"
      },
      "source": [
        "# accuracy of both models on adversarial samples generated\n",
        "\n",
        "print( 'acc custom model on adverserial examples: ', model.evaluate( x_test_adv0, sample_label, verbose=0 )[ 1 ] )"
      ],
      "execution_count": null,
      "outputs": [
        {
          "output_type": "stream",
          "name": "stderr",
          "text": [
            "/usr/local/lib/python3.7/dist-packages/tensorflow/python/data/ops/dataset_ops.py:4527: UserWarning: Even though the `tf.config.experimental_run_functions_eagerly` option is set, this option does not apply to tf.data functions. To force eager execution of tf.data functions, please use `tf.data.experimental.enable_debug_mode()`.\n",
            "  \"Even though the `tf.config.experimental_run_functions_eagerly` \"\n"
          ]
        },
        {
          "output_type": "stream",
          "name": "stdout",
          "text": [
            "acc custom model on adverserial examples:  0.6499999761581421\n"
          ]
        }
      ]
    }
  ]
}