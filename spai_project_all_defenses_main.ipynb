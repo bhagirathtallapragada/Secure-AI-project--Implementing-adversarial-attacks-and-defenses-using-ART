{
  "nbformat": 4,
  "nbformat_minor": 0,
  "metadata": {
    "colab": {
      "name": "spai_project_all_defenses_main.ipynb",
      "provenance": [],
      "collapsed_sections": [],
      "toc_visible": true,
      "authorship_tag": "ABX9TyMtAulNEPhVKtc0uzepLpyJ",
      "include_colab_link": true
    },
    "kernelspec": {
      "name": "python3",
      "display_name": "Python 3"
    },
    "language_info": {
      "name": "python"
    },
    "widgets": {
      "application/vnd.jupyter.widget-state+json": {
        "fb27421307bb45a6ac2b5ff4567be25b": {
          "model_module": "@jupyter-widgets/controls",
          "model_name": "HBoxModel",
          "model_module_version": "1.5.0",
          "state": {
            "_view_name": "HBoxView",
            "_dom_classes": [],
            "_model_name": "HBoxModel",
            "_view_module": "@jupyter-widgets/controls",
            "_model_module_version": "1.5.0",
            "_view_count": null,
            "_view_module_version": "1.5.0",
            "box_style": "",
            "layout": "IPY_MODEL_2457e772c0c249ffa99b9dbecbf9f85f",
            "_model_module": "@jupyter-widgets/controls",
            "children": [
              "IPY_MODEL_e020d2459ed34eedaef0dce947d05a9f",
              "IPY_MODEL_81fd40947f954793a2d67973428ac9bb",
              "IPY_MODEL_66daa67816ee4e3c8683752caf9c8b89"
            ]
          }
        },
        "2457e772c0c249ffa99b9dbecbf9f85f": {
          "model_module": "@jupyter-widgets/base",
          "model_name": "LayoutModel",
          "model_module_version": "1.2.0",
          "state": {
            "_view_name": "LayoutView",
            "grid_template_rows": null,
            "right": null,
            "justify_content": null,
            "_view_module": "@jupyter-widgets/base",
            "overflow": null,
            "_model_module_version": "1.2.0",
            "_view_count": null,
            "flex_flow": null,
            "width": null,
            "min_width": null,
            "border": null,
            "align_items": null,
            "bottom": null,
            "_model_module": "@jupyter-widgets/base",
            "top": null,
            "grid_column": null,
            "overflow_y": null,
            "overflow_x": null,
            "grid_auto_flow": null,
            "grid_area": null,
            "grid_template_columns": null,
            "flex": null,
            "_model_name": "LayoutModel",
            "justify_items": null,
            "grid_row": null,
            "max_height": null,
            "align_content": null,
            "visibility": null,
            "align_self": null,
            "height": null,
            "min_height": null,
            "padding": null,
            "grid_auto_rows": null,
            "grid_gap": null,
            "max_width": null,
            "order": null,
            "_view_module_version": "1.2.0",
            "grid_template_areas": null,
            "object_position": null,
            "object_fit": null,
            "grid_auto_columns": null,
            "margin": null,
            "display": null,
            "left": null
          }
        },
        "e020d2459ed34eedaef0dce947d05a9f": {
          "model_module": "@jupyter-widgets/controls",
          "model_name": "HTMLModel",
          "model_module_version": "1.5.0",
          "state": {
            "_view_name": "HTMLView",
            "style": "IPY_MODEL_4ae42e5dc1df474196d222c3856efd11",
            "_dom_classes": [],
            "description": "",
            "_model_name": "HTMLModel",
            "placeholder": "​",
            "_view_module": "@jupyter-widgets/controls",
            "_model_module_version": "1.5.0",
            "value": "JSMA: 100%",
            "_view_count": null,
            "_view_module_version": "1.5.0",
            "description_tooltip": null,
            "_model_module": "@jupyter-widgets/controls",
            "layout": "IPY_MODEL_d7f632fae1ea409a843a8fd7891d91d0"
          }
        },
        "81fd40947f954793a2d67973428ac9bb": {
          "model_module": "@jupyter-widgets/controls",
          "model_name": "FloatProgressModel",
          "model_module_version": "1.5.0",
          "state": {
            "_view_name": "ProgressView",
            "style": "IPY_MODEL_ab38dc523dcd4c1a8b0aff6d82d52b04",
            "_dom_classes": [],
            "description": "",
            "_model_name": "FloatProgressModel",
            "bar_style": "success",
            "max": 5,
            "_view_module": "@jupyter-widgets/controls",
            "_model_module_version": "1.5.0",
            "value": 5,
            "_view_count": null,
            "_view_module_version": "1.5.0",
            "orientation": "horizontal",
            "min": 0,
            "description_tooltip": null,
            "_model_module": "@jupyter-widgets/controls",
            "layout": "IPY_MODEL_0348d39a8d534c849b902bf121b724e9"
          }
        },
        "66daa67816ee4e3c8683752caf9c8b89": {
          "model_module": "@jupyter-widgets/controls",
          "model_name": "HTMLModel",
          "model_module_version": "1.5.0",
          "state": {
            "_view_name": "HTMLView",
            "style": "IPY_MODEL_56ea4a2315f34a7981a326fba1a77740",
            "_dom_classes": [],
            "description": "",
            "_model_name": "HTMLModel",
            "placeholder": "​",
            "_view_module": "@jupyter-widgets/controls",
            "_model_module_version": "1.5.0",
            "value": " 5/5 [12:00&lt;00:00, 141.17s/it]",
            "_view_count": null,
            "_view_module_version": "1.5.0",
            "description_tooltip": null,
            "_model_module": "@jupyter-widgets/controls",
            "layout": "IPY_MODEL_1cada1e69ded4321930e75ea0eefc329"
          }
        },
        "4ae42e5dc1df474196d222c3856efd11": {
          "model_module": "@jupyter-widgets/controls",
          "model_name": "DescriptionStyleModel",
          "model_module_version": "1.5.0",
          "state": {
            "_view_name": "StyleView",
            "_model_name": "DescriptionStyleModel",
            "description_width": "",
            "_view_module": "@jupyter-widgets/base",
            "_model_module_version": "1.5.0",
            "_view_count": null,
            "_view_module_version": "1.2.0",
            "_model_module": "@jupyter-widgets/controls"
          }
        },
        "d7f632fae1ea409a843a8fd7891d91d0": {
          "model_module": "@jupyter-widgets/base",
          "model_name": "LayoutModel",
          "model_module_version": "1.2.0",
          "state": {
            "_view_name": "LayoutView",
            "grid_template_rows": null,
            "right": null,
            "justify_content": null,
            "_view_module": "@jupyter-widgets/base",
            "overflow": null,
            "_model_module_version": "1.2.0",
            "_view_count": null,
            "flex_flow": null,
            "width": null,
            "min_width": null,
            "border": null,
            "align_items": null,
            "bottom": null,
            "_model_module": "@jupyter-widgets/base",
            "top": null,
            "grid_column": null,
            "overflow_y": null,
            "overflow_x": null,
            "grid_auto_flow": null,
            "grid_area": null,
            "grid_template_columns": null,
            "flex": null,
            "_model_name": "LayoutModel",
            "justify_items": null,
            "grid_row": null,
            "max_height": null,
            "align_content": null,
            "visibility": null,
            "align_self": null,
            "height": null,
            "min_height": null,
            "padding": null,
            "grid_auto_rows": null,
            "grid_gap": null,
            "max_width": null,
            "order": null,
            "_view_module_version": "1.2.0",
            "grid_template_areas": null,
            "object_position": null,
            "object_fit": null,
            "grid_auto_columns": null,
            "margin": null,
            "display": null,
            "left": null
          }
        },
        "ab38dc523dcd4c1a8b0aff6d82d52b04": {
          "model_module": "@jupyter-widgets/controls",
          "model_name": "ProgressStyleModel",
          "model_module_version": "1.5.0",
          "state": {
            "_view_name": "StyleView",
            "_model_name": "ProgressStyleModel",
            "description_width": "",
            "_view_module": "@jupyter-widgets/base",
            "_model_module_version": "1.5.0",
            "_view_count": null,
            "_view_module_version": "1.2.0",
            "bar_color": null,
            "_model_module": "@jupyter-widgets/controls"
          }
        },
        "0348d39a8d534c849b902bf121b724e9": {
          "model_module": "@jupyter-widgets/base",
          "model_name": "LayoutModel",
          "model_module_version": "1.2.0",
          "state": {
            "_view_name": "LayoutView",
            "grid_template_rows": null,
            "right": null,
            "justify_content": null,
            "_view_module": "@jupyter-widgets/base",
            "overflow": null,
            "_model_module_version": "1.2.0",
            "_view_count": null,
            "flex_flow": null,
            "width": null,
            "min_width": null,
            "border": null,
            "align_items": null,
            "bottom": null,
            "_model_module": "@jupyter-widgets/base",
            "top": null,
            "grid_column": null,
            "overflow_y": null,
            "overflow_x": null,
            "grid_auto_flow": null,
            "grid_area": null,
            "grid_template_columns": null,
            "flex": null,
            "_model_name": "LayoutModel",
            "justify_items": null,
            "grid_row": null,
            "max_height": null,
            "align_content": null,
            "visibility": null,
            "align_self": null,
            "height": null,
            "min_height": null,
            "padding": null,
            "grid_auto_rows": null,
            "grid_gap": null,
            "max_width": null,
            "order": null,
            "_view_module_version": "1.2.0",
            "grid_template_areas": null,
            "object_position": null,
            "object_fit": null,
            "grid_auto_columns": null,
            "margin": null,
            "display": null,
            "left": null
          }
        },
        "56ea4a2315f34a7981a326fba1a77740": {
          "model_module": "@jupyter-widgets/controls",
          "model_name": "DescriptionStyleModel",
          "model_module_version": "1.5.0",
          "state": {
            "_view_name": "StyleView",
            "_model_name": "DescriptionStyleModel",
            "description_width": "",
            "_view_module": "@jupyter-widgets/base",
            "_model_module_version": "1.5.0",
            "_view_count": null,
            "_view_module_version": "1.2.0",
            "_model_module": "@jupyter-widgets/controls"
          }
        },
        "1cada1e69ded4321930e75ea0eefc329": {
          "model_module": "@jupyter-widgets/base",
          "model_name": "LayoutModel",
          "model_module_version": "1.2.0",
          "state": {
            "_view_name": "LayoutView",
            "grid_template_rows": null,
            "right": null,
            "justify_content": null,
            "_view_module": "@jupyter-widgets/base",
            "overflow": null,
            "_model_module_version": "1.2.0",
            "_view_count": null,
            "flex_flow": null,
            "width": null,
            "min_width": null,
            "border": null,
            "align_items": null,
            "bottom": null,
            "_model_module": "@jupyter-widgets/base",
            "top": null,
            "grid_column": null,
            "overflow_y": null,
            "overflow_x": null,
            "grid_auto_flow": null,
            "grid_area": null,
            "grid_template_columns": null,
            "flex": null,
            "_model_name": "LayoutModel",
            "justify_items": null,
            "grid_row": null,
            "max_height": null,
            "align_content": null,
            "visibility": null,
            "align_self": null,
            "height": null,
            "min_height": null,
            "padding": null,
            "grid_auto_rows": null,
            "grid_gap": null,
            "max_width": null,
            "order": null,
            "_view_module_version": "1.2.0",
            "grid_template_areas": null,
            "object_position": null,
            "object_fit": null,
            "grid_auto_columns": null,
            "margin": null,
            "display": null,
            "left": null
          }
        },
        "8ebab2c5aac343e2840f842e0d850b32": {
          "model_module": "@jupyter-widgets/controls",
          "model_name": "HBoxModel",
          "model_module_version": "1.5.0",
          "state": {
            "_view_name": "HBoxView",
            "_dom_classes": [],
            "_model_name": "HBoxModel",
            "_view_module": "@jupyter-widgets/controls",
            "_model_module_version": "1.5.0",
            "_view_count": null,
            "_view_module_version": "1.5.0",
            "box_style": "",
            "layout": "IPY_MODEL_2fb1778067574657b791980404806bb8",
            "_model_module": "@jupyter-widgets/controls",
            "children": [
              "IPY_MODEL_616544e7f5ca4710bd6cc40afdcfd126",
              "IPY_MODEL_81e29d60addd458c9a70650936ab0654",
              "IPY_MODEL_d50e5714e5fc48b4ad1503eb31c29292"
            ]
          }
        },
        "2fb1778067574657b791980404806bb8": {
          "model_module": "@jupyter-widgets/base",
          "model_name": "LayoutModel",
          "model_module_version": "1.2.0",
          "state": {
            "_view_name": "LayoutView",
            "grid_template_rows": null,
            "right": null,
            "justify_content": null,
            "_view_module": "@jupyter-widgets/base",
            "overflow": null,
            "_model_module_version": "1.2.0",
            "_view_count": null,
            "flex_flow": null,
            "width": null,
            "min_width": null,
            "border": null,
            "align_items": null,
            "bottom": null,
            "_model_module": "@jupyter-widgets/base",
            "top": null,
            "grid_column": null,
            "overflow_y": null,
            "overflow_x": null,
            "grid_auto_flow": null,
            "grid_area": null,
            "grid_template_columns": null,
            "flex": null,
            "_model_name": "LayoutModel",
            "justify_items": null,
            "grid_row": null,
            "max_height": null,
            "align_content": null,
            "visibility": null,
            "align_self": null,
            "height": null,
            "min_height": null,
            "padding": null,
            "grid_auto_rows": null,
            "grid_gap": null,
            "max_width": null,
            "order": null,
            "_view_module_version": "1.2.0",
            "grid_template_areas": null,
            "object_position": null,
            "object_fit": null,
            "grid_auto_columns": null,
            "margin": null,
            "display": null,
            "left": null
          }
        },
        "616544e7f5ca4710bd6cc40afdcfd126": {
          "model_module": "@jupyter-widgets/controls",
          "model_name": "HTMLModel",
          "model_module_version": "1.5.0",
          "state": {
            "_view_name": "HTMLView",
            "style": "IPY_MODEL_3eefd2300384464c9ee3a88d7ddc03ce",
            "_dom_classes": [],
            "description": "",
            "_model_name": "HTMLModel",
            "placeholder": "​",
            "_view_module": "@jupyter-widgets/controls",
            "_model_module_version": "1.5.0",
            "value": "JSMA: 100%",
            "_view_count": null,
            "_view_module_version": "1.5.0",
            "description_tooltip": null,
            "_model_module": "@jupyter-widgets/controls",
            "layout": "IPY_MODEL_d731a90a30b44712bc18fe13308da918"
          }
        },
        "81e29d60addd458c9a70650936ab0654": {
          "model_module": "@jupyter-widgets/controls",
          "model_name": "FloatProgressModel",
          "model_module_version": "1.5.0",
          "state": {
            "_view_name": "ProgressView",
            "style": "IPY_MODEL_fe6fae4dd1bd4b9fafc42ba6caaf1dee",
            "_dom_classes": [],
            "description": "",
            "_model_name": "FloatProgressModel",
            "bar_style": "success",
            "max": 5,
            "_view_module": "@jupyter-widgets/controls",
            "_model_module_version": "1.5.0",
            "value": 5,
            "_view_count": null,
            "_view_module_version": "1.5.0",
            "orientation": "horizontal",
            "min": 0,
            "description_tooltip": null,
            "_model_module": "@jupyter-widgets/controls",
            "layout": "IPY_MODEL_de780af46e734378afed993660392f41"
          }
        },
        "d50e5714e5fc48b4ad1503eb31c29292": {
          "model_module": "@jupyter-widgets/controls",
          "model_name": "HTMLModel",
          "model_module_version": "1.5.0",
          "state": {
            "_view_name": "HTMLView",
            "style": "IPY_MODEL_a7807de6d69a48f69bcd4863b6615788",
            "_dom_classes": [],
            "description": "",
            "_model_name": "HTMLModel",
            "placeholder": "​",
            "_view_module": "@jupyter-widgets/controls",
            "_model_module_version": "1.5.0",
            "value": " 5/5 [10:38&lt;00:00, 129.50s/it]",
            "_view_count": null,
            "_view_module_version": "1.5.0",
            "description_tooltip": null,
            "_model_module": "@jupyter-widgets/controls",
            "layout": "IPY_MODEL_81f99f99c8274884997bbf25c91bdf8b"
          }
        },
        "3eefd2300384464c9ee3a88d7ddc03ce": {
          "model_module": "@jupyter-widgets/controls",
          "model_name": "DescriptionStyleModel",
          "model_module_version": "1.5.0",
          "state": {
            "_view_name": "StyleView",
            "_model_name": "DescriptionStyleModel",
            "description_width": "",
            "_view_module": "@jupyter-widgets/base",
            "_model_module_version": "1.5.0",
            "_view_count": null,
            "_view_module_version": "1.2.0",
            "_model_module": "@jupyter-widgets/controls"
          }
        },
        "d731a90a30b44712bc18fe13308da918": {
          "model_module": "@jupyter-widgets/base",
          "model_name": "LayoutModel",
          "model_module_version": "1.2.0",
          "state": {
            "_view_name": "LayoutView",
            "grid_template_rows": null,
            "right": null,
            "justify_content": null,
            "_view_module": "@jupyter-widgets/base",
            "overflow": null,
            "_model_module_version": "1.2.0",
            "_view_count": null,
            "flex_flow": null,
            "width": null,
            "min_width": null,
            "border": null,
            "align_items": null,
            "bottom": null,
            "_model_module": "@jupyter-widgets/base",
            "top": null,
            "grid_column": null,
            "overflow_y": null,
            "overflow_x": null,
            "grid_auto_flow": null,
            "grid_area": null,
            "grid_template_columns": null,
            "flex": null,
            "_model_name": "LayoutModel",
            "justify_items": null,
            "grid_row": null,
            "max_height": null,
            "align_content": null,
            "visibility": null,
            "align_self": null,
            "height": null,
            "min_height": null,
            "padding": null,
            "grid_auto_rows": null,
            "grid_gap": null,
            "max_width": null,
            "order": null,
            "_view_module_version": "1.2.0",
            "grid_template_areas": null,
            "object_position": null,
            "object_fit": null,
            "grid_auto_columns": null,
            "margin": null,
            "display": null,
            "left": null
          }
        },
        "fe6fae4dd1bd4b9fafc42ba6caaf1dee": {
          "model_module": "@jupyter-widgets/controls",
          "model_name": "ProgressStyleModel",
          "model_module_version": "1.5.0",
          "state": {
            "_view_name": "StyleView",
            "_model_name": "ProgressStyleModel",
            "description_width": "",
            "_view_module": "@jupyter-widgets/base",
            "_model_module_version": "1.5.0",
            "_view_count": null,
            "_view_module_version": "1.2.0",
            "bar_color": null,
            "_model_module": "@jupyter-widgets/controls"
          }
        },
        "de780af46e734378afed993660392f41": {
          "model_module": "@jupyter-widgets/base",
          "model_name": "LayoutModel",
          "model_module_version": "1.2.0",
          "state": {
            "_view_name": "LayoutView",
            "grid_template_rows": null,
            "right": null,
            "justify_content": null,
            "_view_module": "@jupyter-widgets/base",
            "overflow": null,
            "_model_module_version": "1.2.0",
            "_view_count": null,
            "flex_flow": null,
            "width": null,
            "min_width": null,
            "border": null,
            "align_items": null,
            "bottom": null,
            "_model_module": "@jupyter-widgets/base",
            "top": null,
            "grid_column": null,
            "overflow_y": null,
            "overflow_x": null,
            "grid_auto_flow": null,
            "grid_area": null,
            "grid_template_columns": null,
            "flex": null,
            "_model_name": "LayoutModel",
            "justify_items": null,
            "grid_row": null,
            "max_height": null,
            "align_content": null,
            "visibility": null,
            "align_self": null,
            "height": null,
            "min_height": null,
            "padding": null,
            "grid_auto_rows": null,
            "grid_gap": null,
            "max_width": null,
            "order": null,
            "_view_module_version": "1.2.0",
            "grid_template_areas": null,
            "object_position": null,
            "object_fit": null,
            "grid_auto_columns": null,
            "margin": null,
            "display": null,
            "left": null
          }
        },
        "a7807de6d69a48f69bcd4863b6615788": {
          "model_module": "@jupyter-widgets/controls",
          "model_name": "DescriptionStyleModel",
          "model_module_version": "1.5.0",
          "state": {
            "_view_name": "StyleView",
            "_model_name": "DescriptionStyleModel",
            "description_width": "",
            "_view_module": "@jupyter-widgets/base",
            "_model_module_version": "1.5.0",
            "_view_count": null,
            "_view_module_version": "1.2.0",
            "_model_module": "@jupyter-widgets/controls"
          }
        },
        "81f99f99c8274884997bbf25c91bdf8b": {
          "model_module": "@jupyter-widgets/base",
          "model_name": "LayoutModel",
          "model_module_version": "1.2.0",
          "state": {
            "_view_name": "LayoutView",
            "grid_template_rows": null,
            "right": null,
            "justify_content": null,
            "_view_module": "@jupyter-widgets/base",
            "overflow": null,
            "_model_module_version": "1.2.0",
            "_view_count": null,
            "flex_flow": null,
            "width": null,
            "min_width": null,
            "border": null,
            "align_items": null,
            "bottom": null,
            "_model_module": "@jupyter-widgets/base",
            "top": null,
            "grid_column": null,
            "overflow_y": null,
            "overflow_x": null,
            "grid_auto_flow": null,
            "grid_area": null,
            "grid_template_columns": null,
            "flex": null,
            "_model_name": "LayoutModel",
            "justify_items": null,
            "grid_row": null,
            "max_height": null,
            "align_content": null,
            "visibility": null,
            "align_self": null,
            "height": null,
            "min_height": null,
            "padding": null,
            "grid_auto_rows": null,
            "grid_gap": null,
            "max_width": null,
            "order": null,
            "_view_module_version": "1.2.0",
            "grid_template_areas": null,
            "object_position": null,
            "object_fit": null,
            "grid_auto_columns": null,
            "margin": null,
            "display": null,
            "left": null
          }
        },
        "3ca75c34d23249789db18595cf2bc0d2": {
          "model_module": "@jupyter-widgets/controls",
          "model_name": "HBoxModel",
          "model_module_version": "1.5.0",
          "state": {
            "_view_name": "HBoxView",
            "_dom_classes": [],
            "_model_name": "HBoxModel",
            "_view_module": "@jupyter-widgets/controls",
            "_model_module_version": "1.5.0",
            "_view_count": null,
            "_view_module_version": "1.5.0",
            "box_style": "",
            "layout": "IPY_MODEL_5cdc251211b54a4986cbfc81a5bf1ff7",
            "_model_module": "@jupyter-widgets/controls",
            "children": [
              "IPY_MODEL_4bab3ba971e24af5bd0dd508bd69f444",
              "IPY_MODEL_d509727cc44541bb87b9b8dc1c4cc5fa",
              "IPY_MODEL_c2536826b86d4836804d6ea7007e8a4f"
            ]
          }
        },
        "5cdc251211b54a4986cbfc81a5bf1ff7": {
          "model_module": "@jupyter-widgets/base",
          "model_name": "LayoutModel",
          "model_module_version": "1.2.0",
          "state": {
            "_view_name": "LayoutView",
            "grid_template_rows": null,
            "right": null,
            "justify_content": null,
            "_view_module": "@jupyter-widgets/base",
            "overflow": null,
            "_model_module_version": "1.2.0",
            "_view_count": null,
            "flex_flow": null,
            "width": null,
            "min_width": null,
            "border": null,
            "align_items": null,
            "bottom": null,
            "_model_module": "@jupyter-widgets/base",
            "top": null,
            "grid_column": null,
            "overflow_y": null,
            "overflow_x": null,
            "grid_auto_flow": null,
            "grid_area": null,
            "grid_template_columns": null,
            "flex": null,
            "_model_name": "LayoutModel",
            "justify_items": null,
            "grid_row": null,
            "max_height": null,
            "align_content": null,
            "visibility": null,
            "align_self": null,
            "height": null,
            "min_height": null,
            "padding": null,
            "grid_auto_rows": null,
            "grid_gap": null,
            "max_width": null,
            "order": null,
            "_view_module_version": "1.2.0",
            "grid_template_areas": null,
            "object_position": null,
            "object_fit": null,
            "grid_auto_columns": null,
            "margin": null,
            "display": null,
            "left": null
          }
        },
        "4bab3ba971e24af5bd0dd508bd69f444": {
          "model_module": "@jupyter-widgets/controls",
          "model_name": "HTMLModel",
          "model_module_version": "1.5.0",
          "state": {
            "_view_name": "HTMLView",
            "style": "IPY_MODEL_a59cf51b4a364745955cc3e0f286ee6d",
            "_dom_classes": [],
            "description": "",
            "_model_name": "HTMLModel",
            "placeholder": "​",
            "_view_module": "@jupyter-widgets/controls",
            "_model_module_version": "1.5.0",
            "value": "JSMA: 100%",
            "_view_count": null,
            "_view_module_version": "1.5.0",
            "description_tooltip": null,
            "_model_module": "@jupyter-widgets/controls",
            "layout": "IPY_MODEL_7224ce834e0f4fc58df0f02f802267ed"
          }
        },
        "d509727cc44541bb87b9b8dc1c4cc5fa": {
          "model_module": "@jupyter-widgets/controls",
          "model_name": "FloatProgressModel",
          "model_module_version": "1.5.0",
          "state": {
            "_view_name": "ProgressView",
            "style": "IPY_MODEL_75334f757178483eb3ed501e72d0a847",
            "_dom_classes": [],
            "description": "",
            "_model_name": "FloatProgressModel",
            "bar_style": "success",
            "max": 5,
            "_view_module": "@jupyter-widgets/controls",
            "_model_module_version": "1.5.0",
            "value": 5,
            "_view_count": null,
            "_view_module_version": "1.5.0",
            "orientation": "horizontal",
            "min": 0,
            "description_tooltip": null,
            "_model_module": "@jupyter-widgets/controls",
            "layout": "IPY_MODEL_8028ff23290f4f3a9ce43a827339d87a"
          }
        },
        "c2536826b86d4836804d6ea7007e8a4f": {
          "model_module": "@jupyter-widgets/controls",
          "model_name": "HTMLModel",
          "model_module_version": "1.5.0",
          "state": {
            "_view_name": "HTMLView",
            "style": "IPY_MODEL_cdc65b3b100c4391a12673e48be681a0",
            "_dom_classes": [],
            "description": "",
            "_model_name": "HTMLModel",
            "placeholder": "​",
            "_view_module": "@jupyter-widgets/controls",
            "_model_module_version": "1.5.0",
            "value": " 5/5 [10:46&lt;00:00, 127.65s/it]",
            "_view_count": null,
            "_view_module_version": "1.5.0",
            "description_tooltip": null,
            "_model_module": "@jupyter-widgets/controls",
            "layout": "IPY_MODEL_40f2bf63c4d44a2e9410597e2b6844a0"
          }
        },
        "a59cf51b4a364745955cc3e0f286ee6d": {
          "model_module": "@jupyter-widgets/controls",
          "model_name": "DescriptionStyleModel",
          "model_module_version": "1.5.0",
          "state": {
            "_view_name": "StyleView",
            "_model_name": "DescriptionStyleModel",
            "description_width": "",
            "_view_module": "@jupyter-widgets/base",
            "_model_module_version": "1.5.0",
            "_view_count": null,
            "_view_module_version": "1.2.0",
            "_model_module": "@jupyter-widgets/controls"
          }
        },
        "7224ce834e0f4fc58df0f02f802267ed": {
          "model_module": "@jupyter-widgets/base",
          "model_name": "LayoutModel",
          "model_module_version": "1.2.0",
          "state": {
            "_view_name": "LayoutView",
            "grid_template_rows": null,
            "right": null,
            "justify_content": null,
            "_view_module": "@jupyter-widgets/base",
            "overflow": null,
            "_model_module_version": "1.2.0",
            "_view_count": null,
            "flex_flow": null,
            "width": null,
            "min_width": null,
            "border": null,
            "align_items": null,
            "bottom": null,
            "_model_module": "@jupyter-widgets/base",
            "top": null,
            "grid_column": null,
            "overflow_y": null,
            "overflow_x": null,
            "grid_auto_flow": null,
            "grid_area": null,
            "grid_template_columns": null,
            "flex": null,
            "_model_name": "LayoutModel",
            "justify_items": null,
            "grid_row": null,
            "max_height": null,
            "align_content": null,
            "visibility": null,
            "align_self": null,
            "height": null,
            "min_height": null,
            "padding": null,
            "grid_auto_rows": null,
            "grid_gap": null,
            "max_width": null,
            "order": null,
            "_view_module_version": "1.2.0",
            "grid_template_areas": null,
            "object_position": null,
            "object_fit": null,
            "grid_auto_columns": null,
            "margin": null,
            "display": null,
            "left": null
          }
        },
        "75334f757178483eb3ed501e72d0a847": {
          "model_module": "@jupyter-widgets/controls",
          "model_name": "ProgressStyleModel",
          "model_module_version": "1.5.0",
          "state": {
            "_view_name": "StyleView",
            "_model_name": "ProgressStyleModel",
            "description_width": "",
            "_view_module": "@jupyter-widgets/base",
            "_model_module_version": "1.5.0",
            "_view_count": null,
            "_view_module_version": "1.2.0",
            "bar_color": null,
            "_model_module": "@jupyter-widgets/controls"
          }
        },
        "8028ff23290f4f3a9ce43a827339d87a": {
          "model_module": "@jupyter-widgets/base",
          "model_name": "LayoutModel",
          "model_module_version": "1.2.0",
          "state": {
            "_view_name": "LayoutView",
            "grid_template_rows": null,
            "right": null,
            "justify_content": null,
            "_view_module": "@jupyter-widgets/base",
            "overflow": null,
            "_model_module_version": "1.2.0",
            "_view_count": null,
            "flex_flow": null,
            "width": null,
            "min_width": null,
            "border": null,
            "align_items": null,
            "bottom": null,
            "_model_module": "@jupyter-widgets/base",
            "top": null,
            "grid_column": null,
            "overflow_y": null,
            "overflow_x": null,
            "grid_auto_flow": null,
            "grid_area": null,
            "grid_template_columns": null,
            "flex": null,
            "_model_name": "LayoutModel",
            "justify_items": null,
            "grid_row": null,
            "max_height": null,
            "align_content": null,
            "visibility": null,
            "align_self": null,
            "height": null,
            "min_height": null,
            "padding": null,
            "grid_auto_rows": null,
            "grid_gap": null,
            "max_width": null,
            "order": null,
            "_view_module_version": "1.2.0",
            "grid_template_areas": null,
            "object_position": null,
            "object_fit": null,
            "grid_auto_columns": null,
            "margin": null,
            "display": null,
            "left": null
          }
        },
        "cdc65b3b100c4391a12673e48be681a0": {
          "model_module": "@jupyter-widgets/controls",
          "model_name": "DescriptionStyleModel",
          "model_module_version": "1.5.0",
          "state": {
            "_view_name": "StyleView",
            "_model_name": "DescriptionStyleModel",
            "description_width": "",
            "_view_module": "@jupyter-widgets/base",
            "_model_module_version": "1.5.0",
            "_view_count": null,
            "_view_module_version": "1.2.0",
            "_model_module": "@jupyter-widgets/controls"
          }
        },
        "40f2bf63c4d44a2e9410597e2b6844a0": {
          "model_module": "@jupyter-widgets/base",
          "model_name": "LayoutModel",
          "model_module_version": "1.2.0",
          "state": {
            "_view_name": "LayoutView",
            "grid_template_rows": null,
            "right": null,
            "justify_content": null,
            "_view_module": "@jupyter-widgets/base",
            "overflow": null,
            "_model_module_version": "1.2.0",
            "_view_count": null,
            "flex_flow": null,
            "width": null,
            "min_width": null,
            "border": null,
            "align_items": null,
            "bottom": null,
            "_model_module": "@jupyter-widgets/base",
            "top": null,
            "grid_column": null,
            "overflow_y": null,
            "overflow_x": null,
            "grid_auto_flow": null,
            "grid_area": null,
            "grid_template_columns": null,
            "flex": null,
            "_model_name": "LayoutModel",
            "justify_items": null,
            "grid_row": null,
            "max_height": null,
            "align_content": null,
            "visibility": null,
            "align_self": null,
            "height": null,
            "min_height": null,
            "padding": null,
            "grid_auto_rows": null,
            "grid_gap": null,
            "max_width": null,
            "order": null,
            "_view_module_version": "1.2.0",
            "grid_template_areas": null,
            "object_position": null,
            "object_fit": null,
            "grid_auto_columns": null,
            "margin": null,
            "display": null,
            "left": null
          }
        },
        "fb7392d9f567434b8d60cd1d4a4ce57e": {
          "model_module": "@jupyter-widgets/controls",
          "model_name": "HBoxModel",
          "model_module_version": "1.5.0",
          "state": {
            "_view_name": "HBoxView",
            "_dom_classes": [],
            "_model_name": "HBoxModel",
            "_view_module": "@jupyter-widgets/controls",
            "_model_module_version": "1.5.0",
            "_view_count": null,
            "_view_module_version": "1.5.0",
            "box_style": "",
            "layout": "IPY_MODEL_7ea9b5f908154991ac176db1f71fd74c",
            "_model_module": "@jupyter-widgets/controls",
            "children": [
              "IPY_MODEL_7bbd9807c0554c2c893f8e296d714610",
              "IPY_MODEL_9d114b10b9834351ad2e3b43dd814218",
              "IPY_MODEL_bf8f4e181e134e6fa26ec84bf77a5907"
            ]
          }
        },
        "7ea9b5f908154991ac176db1f71fd74c": {
          "model_module": "@jupyter-widgets/base",
          "model_name": "LayoutModel",
          "model_module_version": "1.2.0",
          "state": {
            "_view_name": "LayoutView",
            "grid_template_rows": null,
            "right": null,
            "justify_content": null,
            "_view_module": "@jupyter-widgets/base",
            "overflow": null,
            "_model_module_version": "1.2.0",
            "_view_count": null,
            "flex_flow": null,
            "width": null,
            "min_width": null,
            "border": null,
            "align_items": null,
            "bottom": null,
            "_model_module": "@jupyter-widgets/base",
            "top": null,
            "grid_column": null,
            "overflow_y": null,
            "overflow_x": null,
            "grid_auto_flow": null,
            "grid_area": null,
            "grid_template_columns": null,
            "flex": null,
            "_model_name": "LayoutModel",
            "justify_items": null,
            "grid_row": null,
            "max_height": null,
            "align_content": null,
            "visibility": null,
            "align_self": null,
            "height": null,
            "min_height": null,
            "padding": null,
            "grid_auto_rows": null,
            "grid_gap": null,
            "max_width": null,
            "order": null,
            "_view_module_version": "1.2.0",
            "grid_template_areas": null,
            "object_position": null,
            "object_fit": null,
            "grid_auto_columns": null,
            "margin": null,
            "display": null,
            "left": null
          }
        },
        "7bbd9807c0554c2c893f8e296d714610": {
          "model_module": "@jupyter-widgets/controls",
          "model_name": "HTMLModel",
          "model_module_version": "1.5.0",
          "state": {
            "_view_name": "HTMLView",
            "style": "IPY_MODEL_d4e02383a7c54855bb2e37bc66549a5d",
            "_dom_classes": [],
            "description": "",
            "_model_name": "HTMLModel",
            "placeholder": "​",
            "_view_module": "@jupyter-widgets/controls",
            "_model_module_version": "1.5.0",
            "value": "JSMA: 100%",
            "_view_count": null,
            "_view_module_version": "1.5.0",
            "description_tooltip": null,
            "_model_module": "@jupyter-widgets/controls",
            "layout": "IPY_MODEL_11d92179191b4beeb70f609ed18716da"
          }
        },
        "9d114b10b9834351ad2e3b43dd814218": {
          "model_module": "@jupyter-widgets/controls",
          "model_name": "FloatProgressModel",
          "model_module_version": "1.5.0",
          "state": {
            "_view_name": "ProgressView",
            "style": "IPY_MODEL_7024a9f645a54aba9160173754023c44",
            "_dom_classes": [],
            "description": "",
            "_model_name": "FloatProgressModel",
            "bar_style": "success",
            "max": 5,
            "_view_module": "@jupyter-widgets/controls",
            "_model_module_version": "1.5.0",
            "value": 5,
            "_view_count": null,
            "_view_module_version": "1.5.0",
            "orientation": "horizontal",
            "min": 0,
            "description_tooltip": null,
            "_model_module": "@jupyter-widgets/controls",
            "layout": "IPY_MODEL_51c66ff8dbf94d819344bc8afa5cf239"
          }
        },
        "bf8f4e181e134e6fa26ec84bf77a5907": {
          "model_module": "@jupyter-widgets/controls",
          "model_name": "HTMLModel",
          "model_module_version": "1.5.0",
          "state": {
            "_view_name": "HTMLView",
            "style": "IPY_MODEL_5bffd9dfc2124acb999db3afe6ea6e45",
            "_dom_classes": [],
            "description": "",
            "_model_name": "HTMLModel",
            "placeholder": "​",
            "_view_module": "@jupyter-widgets/controls",
            "_model_module_version": "1.5.0",
            "value": " 5/5 [11:07&lt;00:00, 120.39s/it]",
            "_view_count": null,
            "_view_module_version": "1.5.0",
            "description_tooltip": null,
            "_model_module": "@jupyter-widgets/controls",
            "layout": "IPY_MODEL_1d622d0cd9cb4a63a02ee06cae23a0f8"
          }
        },
        "d4e02383a7c54855bb2e37bc66549a5d": {
          "model_module": "@jupyter-widgets/controls",
          "model_name": "DescriptionStyleModel",
          "model_module_version": "1.5.0",
          "state": {
            "_view_name": "StyleView",
            "_model_name": "DescriptionStyleModel",
            "description_width": "",
            "_view_module": "@jupyter-widgets/base",
            "_model_module_version": "1.5.0",
            "_view_count": null,
            "_view_module_version": "1.2.0",
            "_model_module": "@jupyter-widgets/controls"
          }
        },
        "11d92179191b4beeb70f609ed18716da": {
          "model_module": "@jupyter-widgets/base",
          "model_name": "LayoutModel",
          "model_module_version": "1.2.0",
          "state": {
            "_view_name": "LayoutView",
            "grid_template_rows": null,
            "right": null,
            "justify_content": null,
            "_view_module": "@jupyter-widgets/base",
            "overflow": null,
            "_model_module_version": "1.2.0",
            "_view_count": null,
            "flex_flow": null,
            "width": null,
            "min_width": null,
            "border": null,
            "align_items": null,
            "bottom": null,
            "_model_module": "@jupyter-widgets/base",
            "top": null,
            "grid_column": null,
            "overflow_y": null,
            "overflow_x": null,
            "grid_auto_flow": null,
            "grid_area": null,
            "grid_template_columns": null,
            "flex": null,
            "_model_name": "LayoutModel",
            "justify_items": null,
            "grid_row": null,
            "max_height": null,
            "align_content": null,
            "visibility": null,
            "align_self": null,
            "height": null,
            "min_height": null,
            "padding": null,
            "grid_auto_rows": null,
            "grid_gap": null,
            "max_width": null,
            "order": null,
            "_view_module_version": "1.2.0",
            "grid_template_areas": null,
            "object_position": null,
            "object_fit": null,
            "grid_auto_columns": null,
            "margin": null,
            "display": null,
            "left": null
          }
        },
        "7024a9f645a54aba9160173754023c44": {
          "model_module": "@jupyter-widgets/controls",
          "model_name": "ProgressStyleModel",
          "model_module_version": "1.5.0",
          "state": {
            "_view_name": "StyleView",
            "_model_name": "ProgressStyleModel",
            "description_width": "",
            "_view_module": "@jupyter-widgets/base",
            "_model_module_version": "1.5.0",
            "_view_count": null,
            "_view_module_version": "1.2.0",
            "bar_color": null,
            "_model_module": "@jupyter-widgets/controls"
          }
        },
        "51c66ff8dbf94d819344bc8afa5cf239": {
          "model_module": "@jupyter-widgets/base",
          "model_name": "LayoutModel",
          "model_module_version": "1.2.0",
          "state": {
            "_view_name": "LayoutView",
            "grid_template_rows": null,
            "right": null,
            "justify_content": null,
            "_view_module": "@jupyter-widgets/base",
            "overflow": null,
            "_model_module_version": "1.2.0",
            "_view_count": null,
            "flex_flow": null,
            "width": null,
            "min_width": null,
            "border": null,
            "align_items": null,
            "bottom": null,
            "_model_module": "@jupyter-widgets/base",
            "top": null,
            "grid_column": null,
            "overflow_y": null,
            "overflow_x": null,
            "grid_auto_flow": null,
            "grid_area": null,
            "grid_template_columns": null,
            "flex": null,
            "_model_name": "LayoutModel",
            "justify_items": null,
            "grid_row": null,
            "max_height": null,
            "align_content": null,
            "visibility": null,
            "align_self": null,
            "height": null,
            "min_height": null,
            "padding": null,
            "grid_auto_rows": null,
            "grid_gap": null,
            "max_width": null,
            "order": null,
            "_view_module_version": "1.2.0",
            "grid_template_areas": null,
            "object_position": null,
            "object_fit": null,
            "grid_auto_columns": null,
            "margin": null,
            "display": null,
            "left": null
          }
        },
        "5bffd9dfc2124acb999db3afe6ea6e45": {
          "model_module": "@jupyter-widgets/controls",
          "model_name": "DescriptionStyleModel",
          "model_module_version": "1.5.0",
          "state": {
            "_view_name": "StyleView",
            "_model_name": "DescriptionStyleModel",
            "description_width": "",
            "_view_module": "@jupyter-widgets/base",
            "_model_module_version": "1.5.0",
            "_view_count": null,
            "_view_module_version": "1.2.0",
            "_model_module": "@jupyter-widgets/controls"
          }
        },
        "1d622d0cd9cb4a63a02ee06cae23a0f8": {
          "model_module": "@jupyter-widgets/base",
          "model_name": "LayoutModel",
          "model_module_version": "1.2.0",
          "state": {
            "_view_name": "LayoutView",
            "grid_template_rows": null,
            "right": null,
            "justify_content": null,
            "_view_module": "@jupyter-widgets/base",
            "overflow": null,
            "_model_module_version": "1.2.0",
            "_view_count": null,
            "flex_flow": null,
            "width": null,
            "min_width": null,
            "border": null,
            "align_items": null,
            "bottom": null,
            "_model_module": "@jupyter-widgets/base",
            "top": null,
            "grid_column": null,
            "overflow_y": null,
            "overflow_x": null,
            "grid_auto_flow": null,
            "grid_area": null,
            "grid_template_columns": null,
            "flex": null,
            "_model_name": "LayoutModel",
            "justify_items": null,
            "grid_row": null,
            "max_height": null,
            "align_content": null,
            "visibility": null,
            "align_self": null,
            "height": null,
            "min_height": null,
            "padding": null,
            "grid_auto_rows": null,
            "grid_gap": null,
            "max_width": null,
            "order": null,
            "_view_module_version": "1.2.0",
            "grid_template_areas": null,
            "object_position": null,
            "object_fit": null,
            "grid_auto_columns": null,
            "margin": null,
            "display": null,
            "left": null
          }
        },
        "b8b24e8abad443bb99c6f0ab3e705dc6": {
          "model_module": "@jupyter-widgets/controls",
          "model_name": "HBoxModel",
          "model_module_version": "1.5.0",
          "state": {
            "_view_name": "HBoxView",
            "_dom_classes": [],
            "_model_name": "HBoxModel",
            "_view_module": "@jupyter-widgets/controls",
            "_model_module_version": "1.5.0",
            "_view_count": null,
            "_view_module_version": "1.5.0",
            "box_style": "",
            "layout": "IPY_MODEL_52fc984fa96f4483842533769ab77ab8",
            "_model_module": "@jupyter-widgets/controls",
            "children": [
              "IPY_MODEL_a65ac9773ad244659b239364eae14a91",
              "IPY_MODEL_a54b562642414ad38dc0c4d8c0e8d252",
              "IPY_MODEL_2c20f5cb140345d08649fb38103e583e"
            ]
          }
        },
        "52fc984fa96f4483842533769ab77ab8": {
          "model_module": "@jupyter-widgets/base",
          "model_name": "LayoutModel",
          "model_module_version": "1.2.0",
          "state": {
            "_view_name": "LayoutView",
            "grid_template_rows": null,
            "right": null,
            "justify_content": null,
            "_view_module": "@jupyter-widgets/base",
            "overflow": null,
            "_model_module_version": "1.2.0",
            "_view_count": null,
            "flex_flow": null,
            "width": null,
            "min_width": null,
            "border": null,
            "align_items": null,
            "bottom": null,
            "_model_module": "@jupyter-widgets/base",
            "top": null,
            "grid_column": null,
            "overflow_y": null,
            "overflow_x": null,
            "grid_auto_flow": null,
            "grid_area": null,
            "grid_template_columns": null,
            "flex": null,
            "_model_name": "LayoutModel",
            "justify_items": null,
            "grid_row": null,
            "max_height": null,
            "align_content": null,
            "visibility": null,
            "align_self": null,
            "height": null,
            "min_height": null,
            "padding": null,
            "grid_auto_rows": null,
            "grid_gap": null,
            "max_width": null,
            "order": null,
            "_view_module_version": "1.2.0",
            "grid_template_areas": null,
            "object_position": null,
            "object_fit": null,
            "grid_auto_columns": null,
            "margin": null,
            "display": null,
            "left": null
          }
        },
        "a65ac9773ad244659b239364eae14a91": {
          "model_module": "@jupyter-widgets/controls",
          "model_name": "HTMLModel",
          "model_module_version": "1.5.0",
          "state": {
            "_view_name": "HTMLView",
            "style": "IPY_MODEL_6cdeada2a2db4eb2b1a3b32cada4b4a5",
            "_dom_classes": [],
            "description": "",
            "_model_name": "HTMLModel",
            "placeholder": "​",
            "_view_module": "@jupyter-widgets/controls",
            "_model_module_version": "1.5.0",
            "value": "JSMA: 100%",
            "_view_count": null,
            "_view_module_version": "1.5.0",
            "description_tooltip": null,
            "_model_module": "@jupyter-widgets/controls",
            "layout": "IPY_MODEL_24d7cea63b2b4ab887e70ac1d92648ab"
          }
        },
        "a54b562642414ad38dc0c4d8c0e8d252": {
          "model_module": "@jupyter-widgets/controls",
          "model_name": "FloatProgressModel",
          "model_module_version": "1.5.0",
          "state": {
            "_view_name": "ProgressView",
            "style": "IPY_MODEL_8d92abc584e34cbb95f10ec8b02f09b6",
            "_dom_classes": [],
            "description": "",
            "_model_name": "FloatProgressModel",
            "bar_style": "success",
            "max": 5,
            "_view_module": "@jupyter-widgets/controls",
            "_model_module_version": "1.5.0",
            "value": 5,
            "_view_count": null,
            "_view_module_version": "1.5.0",
            "orientation": "horizontal",
            "min": 0,
            "description_tooltip": null,
            "_model_module": "@jupyter-widgets/controls",
            "layout": "IPY_MODEL_932905cc6fd24a07a66c58487f707d67"
          }
        },
        "2c20f5cb140345d08649fb38103e583e": {
          "model_module": "@jupyter-widgets/controls",
          "model_name": "HTMLModel",
          "model_module_version": "1.5.0",
          "state": {
            "_view_name": "HTMLView",
            "style": "IPY_MODEL_17e4d4fe36da49868a7f913a846edafd",
            "_dom_classes": [],
            "description": "",
            "_model_name": "HTMLModel",
            "placeholder": "​",
            "_view_module": "@jupyter-widgets/controls",
            "_model_module_version": "1.5.0",
            "value": " 5/5 [10:42&lt;00:00, 124.79s/it]",
            "_view_count": null,
            "_view_module_version": "1.5.0",
            "description_tooltip": null,
            "_model_module": "@jupyter-widgets/controls",
            "layout": "IPY_MODEL_c91afd3a073e45fba95ce9afea7fa466"
          }
        },
        "6cdeada2a2db4eb2b1a3b32cada4b4a5": {
          "model_module": "@jupyter-widgets/controls",
          "model_name": "DescriptionStyleModel",
          "model_module_version": "1.5.0",
          "state": {
            "_view_name": "StyleView",
            "_model_name": "DescriptionStyleModel",
            "description_width": "",
            "_view_module": "@jupyter-widgets/base",
            "_model_module_version": "1.5.0",
            "_view_count": null,
            "_view_module_version": "1.2.0",
            "_model_module": "@jupyter-widgets/controls"
          }
        },
        "24d7cea63b2b4ab887e70ac1d92648ab": {
          "model_module": "@jupyter-widgets/base",
          "model_name": "LayoutModel",
          "model_module_version": "1.2.0",
          "state": {
            "_view_name": "LayoutView",
            "grid_template_rows": null,
            "right": null,
            "justify_content": null,
            "_view_module": "@jupyter-widgets/base",
            "overflow": null,
            "_model_module_version": "1.2.0",
            "_view_count": null,
            "flex_flow": null,
            "width": null,
            "min_width": null,
            "border": null,
            "align_items": null,
            "bottom": null,
            "_model_module": "@jupyter-widgets/base",
            "top": null,
            "grid_column": null,
            "overflow_y": null,
            "overflow_x": null,
            "grid_auto_flow": null,
            "grid_area": null,
            "grid_template_columns": null,
            "flex": null,
            "_model_name": "LayoutModel",
            "justify_items": null,
            "grid_row": null,
            "max_height": null,
            "align_content": null,
            "visibility": null,
            "align_self": null,
            "height": null,
            "min_height": null,
            "padding": null,
            "grid_auto_rows": null,
            "grid_gap": null,
            "max_width": null,
            "order": null,
            "_view_module_version": "1.2.0",
            "grid_template_areas": null,
            "object_position": null,
            "object_fit": null,
            "grid_auto_columns": null,
            "margin": null,
            "display": null,
            "left": null
          }
        },
        "8d92abc584e34cbb95f10ec8b02f09b6": {
          "model_module": "@jupyter-widgets/controls",
          "model_name": "ProgressStyleModel",
          "model_module_version": "1.5.0",
          "state": {
            "_view_name": "StyleView",
            "_model_name": "ProgressStyleModel",
            "description_width": "",
            "_view_module": "@jupyter-widgets/base",
            "_model_module_version": "1.5.0",
            "_view_count": null,
            "_view_module_version": "1.2.0",
            "bar_color": null,
            "_model_module": "@jupyter-widgets/controls"
          }
        },
        "932905cc6fd24a07a66c58487f707d67": {
          "model_module": "@jupyter-widgets/base",
          "model_name": "LayoutModel",
          "model_module_version": "1.2.0",
          "state": {
            "_view_name": "LayoutView",
            "grid_template_rows": null,
            "right": null,
            "justify_content": null,
            "_view_module": "@jupyter-widgets/base",
            "overflow": null,
            "_model_module_version": "1.2.0",
            "_view_count": null,
            "flex_flow": null,
            "width": null,
            "min_width": null,
            "border": null,
            "align_items": null,
            "bottom": null,
            "_model_module": "@jupyter-widgets/base",
            "top": null,
            "grid_column": null,
            "overflow_y": null,
            "overflow_x": null,
            "grid_auto_flow": null,
            "grid_area": null,
            "grid_template_columns": null,
            "flex": null,
            "_model_name": "LayoutModel",
            "justify_items": null,
            "grid_row": null,
            "max_height": null,
            "align_content": null,
            "visibility": null,
            "align_self": null,
            "height": null,
            "min_height": null,
            "padding": null,
            "grid_auto_rows": null,
            "grid_gap": null,
            "max_width": null,
            "order": null,
            "_view_module_version": "1.2.0",
            "grid_template_areas": null,
            "object_position": null,
            "object_fit": null,
            "grid_auto_columns": null,
            "margin": null,
            "display": null,
            "left": null
          }
        },
        "17e4d4fe36da49868a7f913a846edafd": {
          "model_module": "@jupyter-widgets/controls",
          "model_name": "DescriptionStyleModel",
          "model_module_version": "1.5.0",
          "state": {
            "_view_name": "StyleView",
            "_model_name": "DescriptionStyleModel",
            "description_width": "",
            "_view_module": "@jupyter-widgets/base",
            "_model_module_version": "1.5.0",
            "_view_count": null,
            "_view_module_version": "1.2.0",
            "_model_module": "@jupyter-widgets/controls"
          }
        },
        "c91afd3a073e45fba95ce9afea7fa466": {
          "model_module": "@jupyter-widgets/base",
          "model_name": "LayoutModel",
          "model_module_version": "1.2.0",
          "state": {
            "_view_name": "LayoutView",
            "grid_template_rows": null,
            "right": null,
            "justify_content": null,
            "_view_module": "@jupyter-widgets/base",
            "overflow": null,
            "_model_module_version": "1.2.0",
            "_view_count": null,
            "flex_flow": null,
            "width": null,
            "min_width": null,
            "border": null,
            "align_items": null,
            "bottom": null,
            "_model_module": "@jupyter-widgets/base",
            "top": null,
            "grid_column": null,
            "overflow_y": null,
            "overflow_x": null,
            "grid_auto_flow": null,
            "grid_area": null,
            "grid_template_columns": null,
            "flex": null,
            "_model_name": "LayoutModel",
            "justify_items": null,
            "grid_row": null,
            "max_height": null,
            "align_content": null,
            "visibility": null,
            "align_self": null,
            "height": null,
            "min_height": null,
            "padding": null,
            "grid_auto_rows": null,
            "grid_gap": null,
            "max_width": null,
            "order": null,
            "_view_module_version": "1.2.0",
            "grid_template_areas": null,
            "object_position": null,
            "object_fit": null,
            "grid_auto_columns": null,
            "margin": null,
            "display": null,
            "left": null
          }
        },
        "c4ccf204d7a24ba19d8974a4a7ecaa32": {
          "model_module": "@jupyter-widgets/controls",
          "model_name": "HBoxModel",
          "model_module_version": "1.5.0",
          "state": {
            "_view_name": "HBoxView",
            "_dom_classes": [],
            "_model_name": "HBoxModel",
            "_view_module": "@jupyter-widgets/controls",
            "_model_module_version": "1.5.0",
            "_view_count": null,
            "_view_module_version": "1.5.0",
            "box_style": "",
            "layout": "IPY_MODEL_96e34416a0814ac7b059f65daa9e5bfc",
            "_model_module": "@jupyter-widgets/controls",
            "children": [
              "IPY_MODEL_05710704b87a4d15b9baa4863f717ea9",
              "IPY_MODEL_0242b66c6c9d4b87bc0ac94bf0841e4f",
              "IPY_MODEL_286db25f34d94960a1eae8d312c68f5c"
            ]
          }
        },
        "96e34416a0814ac7b059f65daa9e5bfc": {
          "model_module": "@jupyter-widgets/base",
          "model_name": "LayoutModel",
          "model_module_version": "1.2.0",
          "state": {
            "_view_name": "LayoutView",
            "grid_template_rows": null,
            "right": null,
            "justify_content": null,
            "_view_module": "@jupyter-widgets/base",
            "overflow": null,
            "_model_module_version": "1.2.0",
            "_view_count": null,
            "flex_flow": null,
            "width": null,
            "min_width": null,
            "border": null,
            "align_items": null,
            "bottom": null,
            "_model_module": "@jupyter-widgets/base",
            "top": null,
            "grid_column": null,
            "overflow_y": null,
            "overflow_x": null,
            "grid_auto_flow": null,
            "grid_area": null,
            "grid_template_columns": null,
            "flex": null,
            "_model_name": "LayoutModel",
            "justify_items": null,
            "grid_row": null,
            "max_height": null,
            "align_content": null,
            "visibility": null,
            "align_self": null,
            "height": null,
            "min_height": null,
            "padding": null,
            "grid_auto_rows": null,
            "grid_gap": null,
            "max_width": null,
            "order": null,
            "_view_module_version": "1.2.0",
            "grid_template_areas": null,
            "object_position": null,
            "object_fit": null,
            "grid_auto_columns": null,
            "margin": null,
            "display": null,
            "left": null
          }
        },
        "05710704b87a4d15b9baa4863f717ea9": {
          "model_module": "@jupyter-widgets/controls",
          "model_name": "HTMLModel",
          "model_module_version": "1.5.0",
          "state": {
            "_view_name": "HTMLView",
            "style": "IPY_MODEL_d74242e6c07c4747b216214aa60a00cb",
            "_dom_classes": [],
            "description": "",
            "_model_name": "HTMLModel",
            "placeholder": "​",
            "_view_module": "@jupyter-widgets/controls",
            "_model_module_version": "1.5.0",
            "value": "JSMA: 100%",
            "_view_count": null,
            "_view_module_version": "1.5.0",
            "description_tooltip": null,
            "_model_module": "@jupyter-widgets/controls",
            "layout": "IPY_MODEL_0c6d8f0c755b4048bdba4eea926e351f"
          }
        },
        "0242b66c6c9d4b87bc0ac94bf0841e4f": {
          "model_module": "@jupyter-widgets/controls",
          "model_name": "FloatProgressModel",
          "model_module_version": "1.5.0",
          "state": {
            "_view_name": "ProgressView",
            "style": "IPY_MODEL_0bff5efe54954f43be96eed4c66c6036",
            "_dom_classes": [],
            "description": "",
            "_model_name": "FloatProgressModel",
            "bar_style": "success",
            "max": 5,
            "_view_module": "@jupyter-widgets/controls",
            "_model_module_version": "1.5.0",
            "value": 5,
            "_view_count": null,
            "_view_module_version": "1.5.0",
            "orientation": "horizontal",
            "min": 0,
            "description_tooltip": null,
            "_model_module": "@jupyter-widgets/controls",
            "layout": "IPY_MODEL_6d0bc79978bc49c48f4ac1707872adc0"
          }
        },
        "286db25f34d94960a1eae8d312c68f5c": {
          "model_module": "@jupyter-widgets/controls",
          "model_name": "HTMLModel",
          "model_module_version": "1.5.0",
          "state": {
            "_view_name": "HTMLView",
            "style": "IPY_MODEL_753372d4313440cdabf7ba1bd1df6065",
            "_dom_classes": [],
            "description": "",
            "_model_name": "HTMLModel",
            "placeholder": "​",
            "_view_module": "@jupyter-widgets/controls",
            "_model_module_version": "1.5.0",
            "value": " 5/5 [12:23&lt;00:00, 146.20s/it]",
            "_view_count": null,
            "_view_module_version": "1.5.0",
            "description_tooltip": null,
            "_model_module": "@jupyter-widgets/controls",
            "layout": "IPY_MODEL_f628c071a82d4ea495279d456099798f"
          }
        },
        "d74242e6c07c4747b216214aa60a00cb": {
          "model_module": "@jupyter-widgets/controls",
          "model_name": "DescriptionStyleModel",
          "model_module_version": "1.5.0",
          "state": {
            "_view_name": "StyleView",
            "_model_name": "DescriptionStyleModel",
            "description_width": "",
            "_view_module": "@jupyter-widgets/base",
            "_model_module_version": "1.5.0",
            "_view_count": null,
            "_view_module_version": "1.2.0",
            "_model_module": "@jupyter-widgets/controls"
          }
        },
        "0c6d8f0c755b4048bdba4eea926e351f": {
          "model_module": "@jupyter-widgets/base",
          "model_name": "LayoutModel",
          "model_module_version": "1.2.0",
          "state": {
            "_view_name": "LayoutView",
            "grid_template_rows": null,
            "right": null,
            "justify_content": null,
            "_view_module": "@jupyter-widgets/base",
            "overflow": null,
            "_model_module_version": "1.2.0",
            "_view_count": null,
            "flex_flow": null,
            "width": null,
            "min_width": null,
            "border": null,
            "align_items": null,
            "bottom": null,
            "_model_module": "@jupyter-widgets/base",
            "top": null,
            "grid_column": null,
            "overflow_y": null,
            "overflow_x": null,
            "grid_auto_flow": null,
            "grid_area": null,
            "grid_template_columns": null,
            "flex": null,
            "_model_name": "LayoutModel",
            "justify_items": null,
            "grid_row": null,
            "max_height": null,
            "align_content": null,
            "visibility": null,
            "align_self": null,
            "height": null,
            "min_height": null,
            "padding": null,
            "grid_auto_rows": null,
            "grid_gap": null,
            "max_width": null,
            "order": null,
            "_view_module_version": "1.2.0",
            "grid_template_areas": null,
            "object_position": null,
            "object_fit": null,
            "grid_auto_columns": null,
            "margin": null,
            "display": null,
            "left": null
          }
        },
        "0bff5efe54954f43be96eed4c66c6036": {
          "model_module": "@jupyter-widgets/controls",
          "model_name": "ProgressStyleModel",
          "model_module_version": "1.5.0",
          "state": {
            "_view_name": "StyleView",
            "_model_name": "ProgressStyleModel",
            "description_width": "",
            "_view_module": "@jupyter-widgets/base",
            "_model_module_version": "1.5.0",
            "_view_count": null,
            "_view_module_version": "1.2.0",
            "bar_color": null,
            "_model_module": "@jupyter-widgets/controls"
          }
        },
        "6d0bc79978bc49c48f4ac1707872adc0": {
          "model_module": "@jupyter-widgets/base",
          "model_name": "LayoutModel",
          "model_module_version": "1.2.0",
          "state": {
            "_view_name": "LayoutView",
            "grid_template_rows": null,
            "right": null,
            "justify_content": null,
            "_view_module": "@jupyter-widgets/base",
            "overflow": null,
            "_model_module_version": "1.2.0",
            "_view_count": null,
            "flex_flow": null,
            "width": null,
            "min_width": null,
            "border": null,
            "align_items": null,
            "bottom": null,
            "_model_module": "@jupyter-widgets/base",
            "top": null,
            "grid_column": null,
            "overflow_y": null,
            "overflow_x": null,
            "grid_auto_flow": null,
            "grid_area": null,
            "grid_template_columns": null,
            "flex": null,
            "_model_name": "LayoutModel",
            "justify_items": null,
            "grid_row": null,
            "max_height": null,
            "align_content": null,
            "visibility": null,
            "align_self": null,
            "height": null,
            "min_height": null,
            "padding": null,
            "grid_auto_rows": null,
            "grid_gap": null,
            "max_width": null,
            "order": null,
            "_view_module_version": "1.2.0",
            "grid_template_areas": null,
            "object_position": null,
            "object_fit": null,
            "grid_auto_columns": null,
            "margin": null,
            "display": null,
            "left": null
          }
        },
        "753372d4313440cdabf7ba1bd1df6065": {
          "model_module": "@jupyter-widgets/controls",
          "model_name": "DescriptionStyleModel",
          "model_module_version": "1.5.0",
          "state": {
            "_view_name": "StyleView",
            "_model_name": "DescriptionStyleModel",
            "description_width": "",
            "_view_module": "@jupyter-widgets/base",
            "_model_module_version": "1.5.0",
            "_view_count": null,
            "_view_module_version": "1.2.0",
            "_model_module": "@jupyter-widgets/controls"
          }
        },
        "f628c071a82d4ea495279d456099798f": {
          "model_module": "@jupyter-widgets/base",
          "model_name": "LayoutModel",
          "model_module_version": "1.2.0",
          "state": {
            "_view_name": "LayoutView",
            "grid_template_rows": null,
            "right": null,
            "justify_content": null,
            "_view_module": "@jupyter-widgets/base",
            "overflow": null,
            "_model_module_version": "1.2.0",
            "_view_count": null,
            "flex_flow": null,
            "width": null,
            "min_width": null,
            "border": null,
            "align_items": null,
            "bottom": null,
            "_model_module": "@jupyter-widgets/base",
            "top": null,
            "grid_column": null,
            "overflow_y": null,
            "overflow_x": null,
            "grid_auto_flow": null,
            "grid_area": null,
            "grid_template_columns": null,
            "flex": null,
            "_model_name": "LayoutModel",
            "justify_items": null,
            "grid_row": null,
            "max_height": null,
            "align_content": null,
            "visibility": null,
            "align_self": null,
            "height": null,
            "min_height": null,
            "padding": null,
            "grid_auto_rows": null,
            "grid_gap": null,
            "max_width": null,
            "order": null,
            "_view_module_version": "1.2.0",
            "grid_template_areas": null,
            "object_position": null,
            "object_fit": null,
            "grid_auto_columns": null,
            "margin": null,
            "display": null,
            "left": null
          }
        },
        "c7d59cc98c3c4ca49561402e9aba142b": {
          "model_module": "@jupyter-widgets/controls",
          "model_name": "HBoxModel",
          "model_module_version": "1.5.0",
          "state": {
            "_view_name": "HBoxView",
            "_dom_classes": [],
            "_model_name": "HBoxModel",
            "_view_module": "@jupyter-widgets/controls",
            "_model_module_version": "1.5.0",
            "_view_count": null,
            "_view_module_version": "1.5.0",
            "box_style": "",
            "layout": "IPY_MODEL_c1381fcf9225483bbbc4e86fae50c139",
            "_model_module": "@jupyter-widgets/controls",
            "children": [
              "IPY_MODEL_272dbeb170304532bd56c8c2b92b406f",
              "IPY_MODEL_48c6963f884b4820a53d8b24a97949ba",
              "IPY_MODEL_647c0864113042dea29437e4bb7ca396"
            ]
          }
        },
        "c1381fcf9225483bbbc4e86fae50c139": {
          "model_module": "@jupyter-widgets/base",
          "model_name": "LayoutModel",
          "model_module_version": "1.2.0",
          "state": {
            "_view_name": "LayoutView",
            "grid_template_rows": null,
            "right": null,
            "justify_content": null,
            "_view_module": "@jupyter-widgets/base",
            "overflow": null,
            "_model_module_version": "1.2.0",
            "_view_count": null,
            "flex_flow": null,
            "width": null,
            "min_width": null,
            "border": null,
            "align_items": null,
            "bottom": null,
            "_model_module": "@jupyter-widgets/base",
            "top": null,
            "grid_column": null,
            "overflow_y": null,
            "overflow_x": null,
            "grid_auto_flow": null,
            "grid_area": null,
            "grid_template_columns": null,
            "flex": null,
            "_model_name": "LayoutModel",
            "justify_items": null,
            "grid_row": null,
            "max_height": null,
            "align_content": null,
            "visibility": null,
            "align_self": null,
            "height": null,
            "min_height": null,
            "padding": null,
            "grid_auto_rows": null,
            "grid_gap": null,
            "max_width": null,
            "order": null,
            "_view_module_version": "1.2.0",
            "grid_template_areas": null,
            "object_position": null,
            "object_fit": null,
            "grid_auto_columns": null,
            "margin": null,
            "display": null,
            "left": null
          }
        },
        "272dbeb170304532bd56c8c2b92b406f": {
          "model_module": "@jupyter-widgets/controls",
          "model_name": "HTMLModel",
          "model_module_version": "1.5.0",
          "state": {
            "_view_name": "HTMLView",
            "style": "IPY_MODEL_321d2ff2bf4f427d96daaff643001d7a",
            "_dom_classes": [],
            "description": "",
            "_model_name": "HTMLModel",
            "placeholder": "​",
            "_view_module": "@jupyter-widgets/controls",
            "_model_module_version": "1.5.0",
            "value": "Precompute adv samples: 100%",
            "_view_count": null,
            "_view_module_version": "1.5.0",
            "description_tooltip": null,
            "_model_module": "@jupyter-widgets/controls",
            "layout": "IPY_MODEL_e2017f6dd4734ef48a9c363063b70cc6"
          }
        },
        "48c6963f884b4820a53d8b24a97949ba": {
          "model_module": "@jupyter-widgets/controls",
          "model_name": "FloatProgressModel",
          "model_module_version": "1.5.0",
          "state": {
            "_view_name": "ProgressView",
            "style": "IPY_MODEL_d4ef92d262fc447ba5bae3c277e10ffd",
            "_dom_classes": [],
            "description": "",
            "_model_name": "FloatProgressModel",
            "bar_style": "success",
            "max": 1,
            "_view_module": "@jupyter-widgets/controls",
            "_model_module_version": "1.5.0",
            "value": 1,
            "_view_count": null,
            "_view_module_version": "1.5.0",
            "orientation": "horizontal",
            "min": 0,
            "description_tooltip": null,
            "_model_module": "@jupyter-widgets/controls",
            "layout": "IPY_MODEL_ea0b636acb9a427891332165ff4f02d0"
          }
        },
        "647c0864113042dea29437e4bb7ca396": {
          "model_module": "@jupyter-widgets/controls",
          "model_name": "HTMLModel",
          "model_module_version": "1.5.0",
          "state": {
            "_view_name": "HTMLView",
            "style": "IPY_MODEL_1d64d46fe0864fa8b2e9dc20ab21761d",
            "_dom_classes": [],
            "description": "",
            "_model_name": "HTMLModel",
            "placeholder": "​",
            "_view_module": "@jupyter-widgets/controls",
            "_model_module_version": "1.5.0",
            "value": " 1/1 [00:06&lt;00:00,  6.96s/it]",
            "_view_count": null,
            "_view_module_version": "1.5.0",
            "description_tooltip": null,
            "_model_module": "@jupyter-widgets/controls",
            "layout": "IPY_MODEL_704153117b2146739a68881b205f559d"
          }
        },
        "321d2ff2bf4f427d96daaff643001d7a": {
          "model_module": "@jupyter-widgets/controls",
          "model_name": "DescriptionStyleModel",
          "model_module_version": "1.5.0",
          "state": {
            "_view_name": "StyleView",
            "_model_name": "DescriptionStyleModel",
            "description_width": "",
            "_view_module": "@jupyter-widgets/base",
            "_model_module_version": "1.5.0",
            "_view_count": null,
            "_view_module_version": "1.2.0",
            "_model_module": "@jupyter-widgets/controls"
          }
        },
        "e2017f6dd4734ef48a9c363063b70cc6": {
          "model_module": "@jupyter-widgets/base",
          "model_name": "LayoutModel",
          "model_module_version": "1.2.0",
          "state": {
            "_view_name": "LayoutView",
            "grid_template_rows": null,
            "right": null,
            "justify_content": null,
            "_view_module": "@jupyter-widgets/base",
            "overflow": null,
            "_model_module_version": "1.2.0",
            "_view_count": null,
            "flex_flow": null,
            "width": null,
            "min_width": null,
            "border": null,
            "align_items": null,
            "bottom": null,
            "_model_module": "@jupyter-widgets/base",
            "top": null,
            "grid_column": null,
            "overflow_y": null,
            "overflow_x": null,
            "grid_auto_flow": null,
            "grid_area": null,
            "grid_template_columns": null,
            "flex": null,
            "_model_name": "LayoutModel",
            "justify_items": null,
            "grid_row": null,
            "max_height": null,
            "align_content": null,
            "visibility": null,
            "align_self": null,
            "height": null,
            "min_height": null,
            "padding": null,
            "grid_auto_rows": null,
            "grid_gap": null,
            "max_width": null,
            "order": null,
            "_view_module_version": "1.2.0",
            "grid_template_areas": null,
            "object_position": null,
            "object_fit": null,
            "grid_auto_columns": null,
            "margin": null,
            "display": null,
            "left": null
          }
        },
        "d4ef92d262fc447ba5bae3c277e10ffd": {
          "model_module": "@jupyter-widgets/controls",
          "model_name": "ProgressStyleModel",
          "model_module_version": "1.5.0",
          "state": {
            "_view_name": "StyleView",
            "_model_name": "ProgressStyleModel",
            "description_width": "",
            "_view_module": "@jupyter-widgets/base",
            "_model_module_version": "1.5.0",
            "_view_count": null,
            "_view_module_version": "1.2.0",
            "bar_color": null,
            "_model_module": "@jupyter-widgets/controls"
          }
        },
        "ea0b636acb9a427891332165ff4f02d0": {
          "model_module": "@jupyter-widgets/base",
          "model_name": "LayoutModel",
          "model_module_version": "1.2.0",
          "state": {
            "_view_name": "LayoutView",
            "grid_template_rows": null,
            "right": null,
            "justify_content": null,
            "_view_module": "@jupyter-widgets/base",
            "overflow": null,
            "_model_module_version": "1.2.0",
            "_view_count": null,
            "flex_flow": null,
            "width": null,
            "min_width": null,
            "border": null,
            "align_items": null,
            "bottom": null,
            "_model_module": "@jupyter-widgets/base",
            "top": null,
            "grid_column": null,
            "overflow_y": null,
            "overflow_x": null,
            "grid_auto_flow": null,
            "grid_area": null,
            "grid_template_columns": null,
            "flex": null,
            "_model_name": "LayoutModel",
            "justify_items": null,
            "grid_row": null,
            "max_height": null,
            "align_content": null,
            "visibility": null,
            "align_self": null,
            "height": null,
            "min_height": null,
            "padding": null,
            "grid_auto_rows": null,
            "grid_gap": null,
            "max_width": null,
            "order": null,
            "_view_module_version": "1.2.0",
            "grid_template_areas": null,
            "object_position": null,
            "object_fit": null,
            "grid_auto_columns": null,
            "margin": null,
            "display": null,
            "left": null
          }
        },
        "1d64d46fe0864fa8b2e9dc20ab21761d": {
          "model_module": "@jupyter-widgets/controls",
          "model_name": "DescriptionStyleModel",
          "model_module_version": "1.5.0",
          "state": {
            "_view_name": "StyleView",
            "_model_name": "DescriptionStyleModel",
            "description_width": "",
            "_view_module": "@jupyter-widgets/base",
            "_model_module_version": "1.5.0",
            "_view_count": null,
            "_view_module_version": "1.2.0",
            "_model_module": "@jupyter-widgets/controls"
          }
        },
        "704153117b2146739a68881b205f559d": {
          "model_module": "@jupyter-widgets/base",
          "model_name": "LayoutModel",
          "model_module_version": "1.2.0",
          "state": {
            "_view_name": "LayoutView",
            "grid_template_rows": null,
            "right": null,
            "justify_content": null,
            "_view_module": "@jupyter-widgets/base",
            "overflow": null,
            "_model_module_version": "1.2.0",
            "_view_count": null,
            "flex_flow": null,
            "width": null,
            "min_width": null,
            "border": null,
            "align_items": null,
            "bottom": null,
            "_model_module": "@jupyter-widgets/base",
            "top": null,
            "grid_column": null,
            "overflow_y": null,
            "overflow_x": null,
            "grid_auto_flow": null,
            "grid_area": null,
            "grid_template_columns": null,
            "flex": null,
            "_model_name": "LayoutModel",
            "justify_items": null,
            "grid_row": null,
            "max_height": null,
            "align_content": null,
            "visibility": null,
            "align_self": null,
            "height": null,
            "min_height": null,
            "padding": null,
            "grid_auto_rows": null,
            "grid_gap": null,
            "max_width": null,
            "order": null,
            "_view_module_version": "1.2.0",
            "grid_template_areas": null,
            "object_position": null,
            "object_fit": null,
            "grid_auto_columns": null,
            "margin": null,
            "display": null,
            "left": null
          }
        },
        "2cfbd102292348dd8a4d2463b7d16bc2": {
          "model_module": "@jupyter-widgets/controls",
          "model_name": "HBoxModel",
          "model_module_version": "1.5.0",
          "state": {
            "_view_name": "HBoxView",
            "_dom_classes": [],
            "_model_name": "HBoxModel",
            "_view_module": "@jupyter-widgets/controls",
            "_model_module_version": "1.5.0",
            "_view_count": null,
            "_view_module_version": "1.5.0",
            "box_style": "",
            "layout": "IPY_MODEL_da92d92f29be46c8ac9bd068180e3e10",
            "_model_module": "@jupyter-widgets/controls",
            "children": [
              "IPY_MODEL_c3e5d32a00a04556ad1b78a4d4d1b8b4",
              "IPY_MODEL_69dc8a86fb37405ca7132792fa257fca",
              "IPY_MODEL_313f6f50bfdb4811b6d493fae3f51db3"
            ]
          }
        },
        "da92d92f29be46c8ac9bd068180e3e10": {
          "model_module": "@jupyter-widgets/base",
          "model_name": "LayoutModel",
          "model_module_version": "1.2.0",
          "state": {
            "_view_name": "LayoutView",
            "grid_template_rows": null,
            "right": null,
            "justify_content": null,
            "_view_module": "@jupyter-widgets/base",
            "overflow": null,
            "_model_module_version": "1.2.0",
            "_view_count": null,
            "flex_flow": null,
            "width": null,
            "min_width": null,
            "border": null,
            "align_items": null,
            "bottom": null,
            "_model_module": "@jupyter-widgets/base",
            "top": null,
            "grid_column": null,
            "overflow_y": null,
            "overflow_x": null,
            "grid_auto_flow": null,
            "grid_area": null,
            "grid_template_columns": null,
            "flex": null,
            "_model_name": "LayoutModel",
            "justify_items": null,
            "grid_row": null,
            "max_height": null,
            "align_content": null,
            "visibility": null,
            "align_self": null,
            "height": null,
            "min_height": null,
            "padding": null,
            "grid_auto_rows": null,
            "grid_gap": null,
            "max_width": null,
            "order": null,
            "_view_module_version": "1.2.0",
            "grid_template_areas": null,
            "object_position": null,
            "object_fit": null,
            "grid_auto_columns": null,
            "margin": null,
            "display": null,
            "left": null
          }
        },
        "c3e5d32a00a04556ad1b78a4d4d1b8b4": {
          "model_module": "@jupyter-widgets/controls",
          "model_name": "HTMLModel",
          "model_module_version": "1.5.0",
          "state": {
            "_view_name": "HTMLView",
            "style": "IPY_MODEL_be948689da45440096c6faf913f1a58c",
            "_dom_classes": [],
            "description": "",
            "_model_name": "HTMLModel",
            "placeholder": "​",
            "_view_module": "@jupyter-widgets/controls",
            "_model_module_version": "1.5.0",
            "value": "Adversarial training epochs: 100%",
            "_view_count": null,
            "_view_module_version": "1.5.0",
            "description_tooltip": null,
            "_model_module": "@jupyter-widgets/controls",
            "layout": "IPY_MODEL_8d06ade13ebf4aadb0171e0220657bba"
          }
        },
        "69dc8a86fb37405ca7132792fa257fca": {
          "model_module": "@jupyter-widgets/controls",
          "model_name": "FloatProgressModel",
          "model_module_version": "1.5.0",
          "state": {
            "_view_name": "ProgressView",
            "style": "IPY_MODEL_10896292147045dfb5367c47937b3342",
            "_dom_classes": [],
            "description": "",
            "_model_name": "FloatProgressModel",
            "bar_style": "success",
            "max": 20,
            "_view_module": "@jupyter-widgets/controls",
            "_model_module_version": "1.5.0",
            "value": 20,
            "_view_count": null,
            "_view_module_version": "1.5.0",
            "orientation": "horizontal",
            "min": 0,
            "description_tooltip": null,
            "_model_module": "@jupyter-widgets/controls",
            "layout": "IPY_MODEL_eaae213a2a484a62a375919db62e1ffb"
          }
        },
        "313f6f50bfdb4811b6d493fae3f51db3": {
          "model_module": "@jupyter-widgets/controls",
          "model_name": "HTMLModel",
          "model_module_version": "1.5.0",
          "state": {
            "_view_name": "HTMLView",
            "style": "IPY_MODEL_e1a47ac6cc114913ac101f3d2d493005",
            "_dom_classes": [],
            "description": "",
            "_model_name": "HTMLModel",
            "placeholder": "​",
            "_view_module": "@jupyter-widgets/controls",
            "_model_module_version": "1.5.0",
            "value": " 20/20 [02:24&lt;00:00,  7.31s/it]",
            "_view_count": null,
            "_view_module_version": "1.5.0",
            "description_tooltip": null,
            "_model_module": "@jupyter-widgets/controls",
            "layout": "IPY_MODEL_10212b43f2424bf58a1b1f222da07b33"
          }
        },
        "be948689da45440096c6faf913f1a58c": {
          "model_module": "@jupyter-widgets/controls",
          "model_name": "DescriptionStyleModel",
          "model_module_version": "1.5.0",
          "state": {
            "_view_name": "StyleView",
            "_model_name": "DescriptionStyleModel",
            "description_width": "",
            "_view_module": "@jupyter-widgets/base",
            "_model_module_version": "1.5.0",
            "_view_count": null,
            "_view_module_version": "1.2.0",
            "_model_module": "@jupyter-widgets/controls"
          }
        },
        "8d06ade13ebf4aadb0171e0220657bba": {
          "model_module": "@jupyter-widgets/base",
          "model_name": "LayoutModel",
          "model_module_version": "1.2.0",
          "state": {
            "_view_name": "LayoutView",
            "grid_template_rows": null,
            "right": null,
            "justify_content": null,
            "_view_module": "@jupyter-widgets/base",
            "overflow": null,
            "_model_module_version": "1.2.0",
            "_view_count": null,
            "flex_flow": null,
            "width": null,
            "min_width": null,
            "border": null,
            "align_items": null,
            "bottom": null,
            "_model_module": "@jupyter-widgets/base",
            "top": null,
            "grid_column": null,
            "overflow_y": null,
            "overflow_x": null,
            "grid_auto_flow": null,
            "grid_area": null,
            "grid_template_columns": null,
            "flex": null,
            "_model_name": "LayoutModel",
            "justify_items": null,
            "grid_row": null,
            "max_height": null,
            "align_content": null,
            "visibility": null,
            "align_self": null,
            "height": null,
            "min_height": null,
            "padding": null,
            "grid_auto_rows": null,
            "grid_gap": null,
            "max_width": null,
            "order": null,
            "_view_module_version": "1.2.0",
            "grid_template_areas": null,
            "object_position": null,
            "object_fit": null,
            "grid_auto_columns": null,
            "margin": null,
            "display": null,
            "left": null
          }
        },
        "10896292147045dfb5367c47937b3342": {
          "model_module": "@jupyter-widgets/controls",
          "model_name": "ProgressStyleModel",
          "model_module_version": "1.5.0",
          "state": {
            "_view_name": "StyleView",
            "_model_name": "ProgressStyleModel",
            "description_width": "",
            "_view_module": "@jupyter-widgets/base",
            "_model_module_version": "1.5.0",
            "_view_count": null,
            "_view_module_version": "1.2.0",
            "bar_color": null,
            "_model_module": "@jupyter-widgets/controls"
          }
        },
        "eaae213a2a484a62a375919db62e1ffb": {
          "model_module": "@jupyter-widgets/base",
          "model_name": "LayoutModel",
          "model_module_version": "1.2.0",
          "state": {
            "_view_name": "LayoutView",
            "grid_template_rows": null,
            "right": null,
            "justify_content": null,
            "_view_module": "@jupyter-widgets/base",
            "overflow": null,
            "_model_module_version": "1.2.0",
            "_view_count": null,
            "flex_flow": null,
            "width": null,
            "min_width": null,
            "border": null,
            "align_items": null,
            "bottom": null,
            "_model_module": "@jupyter-widgets/base",
            "top": null,
            "grid_column": null,
            "overflow_y": null,
            "overflow_x": null,
            "grid_auto_flow": null,
            "grid_area": null,
            "grid_template_columns": null,
            "flex": null,
            "_model_name": "LayoutModel",
            "justify_items": null,
            "grid_row": null,
            "max_height": null,
            "align_content": null,
            "visibility": null,
            "align_self": null,
            "height": null,
            "min_height": null,
            "padding": null,
            "grid_auto_rows": null,
            "grid_gap": null,
            "max_width": null,
            "order": null,
            "_view_module_version": "1.2.0",
            "grid_template_areas": null,
            "object_position": null,
            "object_fit": null,
            "grid_auto_columns": null,
            "margin": null,
            "display": null,
            "left": null
          }
        },
        "e1a47ac6cc114913ac101f3d2d493005": {
          "model_module": "@jupyter-widgets/controls",
          "model_name": "DescriptionStyleModel",
          "model_module_version": "1.5.0",
          "state": {
            "_view_name": "StyleView",
            "_model_name": "DescriptionStyleModel",
            "description_width": "",
            "_view_module": "@jupyter-widgets/base",
            "_model_module_version": "1.5.0",
            "_view_count": null,
            "_view_module_version": "1.2.0",
            "_model_module": "@jupyter-widgets/controls"
          }
        },
        "10212b43f2424bf58a1b1f222da07b33": {
          "model_module": "@jupyter-widgets/base",
          "model_name": "LayoutModel",
          "model_module_version": "1.2.0",
          "state": {
            "_view_name": "LayoutView",
            "grid_template_rows": null,
            "right": null,
            "justify_content": null,
            "_view_module": "@jupyter-widgets/base",
            "overflow": null,
            "_model_module_version": "1.2.0",
            "_view_count": null,
            "flex_flow": null,
            "width": null,
            "min_width": null,
            "border": null,
            "align_items": null,
            "bottom": null,
            "_model_module": "@jupyter-widgets/base",
            "top": null,
            "grid_column": null,
            "overflow_y": null,
            "overflow_x": null,
            "grid_auto_flow": null,
            "grid_area": null,
            "grid_template_columns": null,
            "flex": null,
            "_model_name": "LayoutModel",
            "justify_items": null,
            "grid_row": null,
            "max_height": null,
            "align_content": null,
            "visibility": null,
            "align_self": null,
            "height": null,
            "min_height": null,
            "padding": null,
            "grid_auto_rows": null,
            "grid_gap": null,
            "max_width": null,
            "order": null,
            "_view_module_version": "1.2.0",
            "grid_template_areas": null,
            "object_position": null,
            "object_fit": null,
            "grid_auto_columns": null,
            "margin": null,
            "display": null,
            "left": null
          }
        }
      }
    }
  },
  "cells": [
    {
      "cell_type": "markdown",
      "metadata": {
        "id": "view-in-github",
        "colab_type": "text"
      },
      "source": [
        "<a href=\"https://colab.research.google.com/github/bhagirathtallapragada/Secure-AI-project--Implementing-adversarial-attacks-and-defenses-using-ART/blob/main/spai_project_all_defenses_main.ipynb\" target=\"_parent\"><img src=\"https://colab.research.google.com/assets/colab-badge.svg\" alt=\"Open In Colab\"/></a>"
      ]
    },
    {
      "cell_type": "code",
      "metadata": {
        "colab": {
          "base_uri": "https://localhost:8080/"
        },
        "id": "hCAC385euFw3",
        "outputId": "813e8402-632d-4f41-9f90-6da0e699014e"
      },
      "source": [
        "!pip install adversarial-robustness-toolbox==1.7.1"
      ],
      "execution_count": null,
      "outputs": [
        {
          "output_type": "stream",
          "name": "stdout",
          "text": [
            "Requirement already satisfied: adversarial-robustness-toolbox in /usr/local/lib/python3.7/dist-packages (1.7.1)\n",
            "Requirement already satisfied: numba~=0.53.1 in /usr/local/lib/python3.7/dist-packages (from adversarial-robustness-toolbox) (0.53.1)\n",
            "Requirement already satisfied: scipy>=1.4.1 in /usr/local/lib/python3.7/dist-packages (from adversarial-robustness-toolbox) (1.4.1)\n",
            "Requirement already satisfied: setuptools in /usr/local/lib/python3.7/dist-packages (from adversarial-robustness-toolbox) (57.4.0)\n",
            "Requirement already satisfied: tqdm in /usr/local/lib/python3.7/dist-packages (from adversarial-robustness-toolbox) (4.62.3)\n",
            "Requirement already satisfied: numpy>=1.18.0 in /usr/local/lib/python3.7/dist-packages (from adversarial-robustness-toolbox) (1.19.5)\n",
            "Requirement already satisfied: six in /usr/local/lib/python3.7/dist-packages (from adversarial-robustness-toolbox) (1.15.0)\n",
            "Requirement already satisfied: scikit-learn<0.24.3,>=0.22.2 in /usr/local/lib/python3.7/dist-packages (from adversarial-robustness-toolbox) (0.22.2.post1)\n",
            "Requirement already satisfied: llvmlite<0.37,>=0.36.0rc1 in /usr/local/lib/python3.7/dist-packages (from numba~=0.53.1->adversarial-robustness-toolbox) (0.36.0)\n",
            "Requirement already satisfied: joblib>=0.11 in /usr/local/lib/python3.7/dist-packages (from scikit-learn<0.24.3,>=0.22.2->adversarial-robustness-toolbox) (1.1.0)\n"
          ]
        }
      ]
    },
    {
      "cell_type": "code",
      "metadata": {
        "colab": {
          "base_uri": "https://localhost:8080/"
        },
        "id": "8QXe3a8o1o32",
        "outputId": "fb530532-4dcb-4382-e424-c357ef93dc33"
      },
      "source": [
        "# only for adversarial training defence. Use version 1.7.1 for all other implementations\n",
        "!pip install adversarial-robustness-toolbox "
      ],
      "execution_count": null,
      "outputs": [
        {
          "output_type": "stream",
          "name": "stdout",
          "text": [
            "Collecting adversarial-robustness-toolbox\n",
            "  Downloading adversarial_robustness_toolbox-1.8.1-py3-none-any.whl (1.1 MB)\n",
            "\u001b[?25l\r\u001b[K     |▎                               | 10 kB 20.4 MB/s eta 0:00:01\r\u001b[K     |▋                               | 20 kB 21.0 MB/s eta 0:00:01\r\u001b[K     |█                               | 30 kB 23.6 MB/s eta 0:00:01\r\u001b[K     |█▏                              | 40 kB 25.2 MB/s eta 0:00:01\r\u001b[K     |█▌                              | 51 kB 25.5 MB/s eta 0:00:01\r\u001b[K     |█▉                              | 61 kB 26.0 MB/s eta 0:00:01\r\u001b[K     |██                              | 71 kB 24.5 MB/s eta 0:00:01\r\u001b[K     |██▍                             | 81 kB 25.5 MB/s eta 0:00:01\r\u001b[K     |██▊                             | 92 kB 25.3 MB/s eta 0:00:01\r\u001b[K     |███                             | 102 kB 26.7 MB/s eta 0:00:01\r\u001b[K     |███▎                            | 112 kB 26.7 MB/s eta 0:00:01\r\u001b[K     |███▋                            | 122 kB 26.7 MB/s eta 0:00:01\r\u001b[K     |███▉                            | 133 kB 26.7 MB/s eta 0:00:01\r\u001b[K     |████▏                           | 143 kB 26.7 MB/s eta 0:00:01\r\u001b[K     |████▌                           | 153 kB 26.7 MB/s eta 0:00:01\r\u001b[K     |████▊                           | 163 kB 26.7 MB/s eta 0:00:01\r\u001b[K     |█████                           | 174 kB 26.7 MB/s eta 0:00:01\r\u001b[K     |█████▍                          | 184 kB 26.7 MB/s eta 0:00:01\r\u001b[K     |█████▋                          | 194 kB 26.7 MB/s eta 0:00:01\r\u001b[K     |██████                          | 204 kB 26.7 MB/s eta 0:00:01\r\u001b[K     |██████▎                         | 215 kB 26.7 MB/s eta 0:00:01\r\u001b[K     |██████▌                         | 225 kB 26.7 MB/s eta 0:00:01\r\u001b[K     |██████▉                         | 235 kB 26.7 MB/s eta 0:00:01\r\u001b[K     |███████▏                        | 245 kB 26.7 MB/s eta 0:00:01\r\u001b[K     |███████▍                        | 256 kB 26.7 MB/s eta 0:00:01\r\u001b[K     |███████▊                        | 266 kB 26.7 MB/s eta 0:00:01\r\u001b[K     |████████                        | 276 kB 26.7 MB/s eta 0:00:01\r\u001b[K     |████████▎                       | 286 kB 26.7 MB/s eta 0:00:01\r\u001b[K     |████████▋                       | 296 kB 26.7 MB/s eta 0:00:01\r\u001b[K     |█████████                       | 307 kB 26.7 MB/s eta 0:00:01\r\u001b[K     |█████████▏                      | 317 kB 26.7 MB/s eta 0:00:01\r\u001b[K     |█████████▌                      | 327 kB 26.7 MB/s eta 0:00:01\r\u001b[K     |█████████▉                      | 337 kB 26.7 MB/s eta 0:00:01\r\u001b[K     |██████████                      | 348 kB 26.7 MB/s eta 0:00:01\r\u001b[K     |██████████▍                     | 358 kB 26.7 MB/s eta 0:00:01\r\u001b[K     |██████████▊                     | 368 kB 26.7 MB/s eta 0:00:01\r\u001b[K     |███████████                     | 378 kB 26.7 MB/s eta 0:00:01\r\u001b[K     |███████████▎                    | 389 kB 26.7 MB/s eta 0:00:01\r\u001b[K     |███████████▋                    | 399 kB 26.7 MB/s eta 0:00:01\r\u001b[K     |███████████▉                    | 409 kB 26.7 MB/s eta 0:00:01\r\u001b[K     |████████████▏                   | 419 kB 26.7 MB/s eta 0:00:01\r\u001b[K     |████████████▌                   | 430 kB 26.7 MB/s eta 0:00:01\r\u001b[K     |████████████▊                   | 440 kB 26.7 MB/s eta 0:00:01\r\u001b[K     |█████████████                   | 450 kB 26.7 MB/s eta 0:00:01\r\u001b[K     |█████████████▍                  | 460 kB 26.7 MB/s eta 0:00:01\r\u001b[K     |█████████████▋                  | 471 kB 26.7 MB/s eta 0:00:01\r\u001b[K     |██████████████                  | 481 kB 26.7 MB/s eta 0:00:01\r\u001b[K     |██████████████▎                 | 491 kB 26.7 MB/s eta 0:00:01\r\u001b[K     |██████████████▌                 | 501 kB 26.7 MB/s eta 0:00:01\r\u001b[K     |██████████████▉                 | 512 kB 26.7 MB/s eta 0:00:01\r\u001b[K     |███████████████▏                | 522 kB 26.7 MB/s eta 0:00:01\r\u001b[K     |███████████████▍                | 532 kB 26.7 MB/s eta 0:00:01\r\u001b[K     |███████████████▊                | 542 kB 26.7 MB/s eta 0:00:01\r\u001b[K     |████████████████                | 552 kB 26.7 MB/s eta 0:00:01\r\u001b[K     |████████████████▎               | 563 kB 26.7 MB/s eta 0:00:01\r\u001b[K     |████████████████▋               | 573 kB 26.7 MB/s eta 0:00:01\r\u001b[K     |█████████████████               | 583 kB 26.7 MB/s eta 0:00:01\r\u001b[K     |█████████████████▏              | 593 kB 26.7 MB/s eta 0:00:01\r\u001b[K     |█████████████████▌              | 604 kB 26.7 MB/s eta 0:00:01\r\u001b[K     |█████████████████▉              | 614 kB 26.7 MB/s eta 0:00:01\r\u001b[K     |██████████████████              | 624 kB 26.7 MB/s eta 0:00:01\r\u001b[K     |██████████████████▍             | 634 kB 26.7 MB/s eta 0:00:01\r\u001b[K     |██████████████████▊             | 645 kB 26.7 MB/s eta 0:00:01\r\u001b[K     |███████████████████             | 655 kB 26.7 MB/s eta 0:00:01\r\u001b[K     |███████████████████▎            | 665 kB 26.7 MB/s eta 0:00:01\r\u001b[K     |███████████████████▋            | 675 kB 26.7 MB/s eta 0:00:01\r\u001b[K     |███████████████████▉            | 686 kB 26.7 MB/s eta 0:00:01\r\u001b[K     |████████████████████▏           | 696 kB 26.7 MB/s eta 0:00:01\r\u001b[K     |████████████████████▌           | 706 kB 26.7 MB/s eta 0:00:01\r\u001b[K     |████████████████████▊           | 716 kB 26.7 MB/s eta 0:00:01\r\u001b[K     |█████████████████████           | 727 kB 26.7 MB/s eta 0:00:01\r\u001b[K     |█████████████████████▍          | 737 kB 26.7 MB/s eta 0:00:01\r\u001b[K     |█████████████████████▋          | 747 kB 26.7 MB/s eta 0:00:01\r\u001b[K     |██████████████████████          | 757 kB 26.7 MB/s eta 0:00:01\r\u001b[K     |██████████████████████▎         | 768 kB 26.7 MB/s eta 0:00:01\r\u001b[K     |██████████████████████▌         | 778 kB 26.7 MB/s eta 0:00:01\r\u001b[K     |██████████████████████▉         | 788 kB 26.7 MB/s eta 0:00:01\r\u001b[K     |███████████████████████▏        | 798 kB 26.7 MB/s eta 0:00:01\r\u001b[K     |███████████████████████▍        | 808 kB 26.7 MB/s eta 0:00:01\r\u001b[K     |███████████████████████▊        | 819 kB 26.7 MB/s eta 0:00:01\r\u001b[K     |████████████████████████        | 829 kB 26.7 MB/s eta 0:00:01\r\u001b[K     |████████████████████████▎       | 839 kB 26.7 MB/s eta 0:00:01\r\u001b[K     |████████████████████████▋       | 849 kB 26.7 MB/s eta 0:00:01\r\u001b[K     |█████████████████████████       | 860 kB 26.7 MB/s eta 0:00:01\r\u001b[K     |█████████████████████████▏      | 870 kB 26.7 MB/s eta 0:00:01\r\u001b[K     |█████████████████████████▌      | 880 kB 26.7 MB/s eta 0:00:01\r\u001b[K     |█████████████████████████▉      | 890 kB 26.7 MB/s eta 0:00:01\r\u001b[K     |██████████████████████████      | 901 kB 26.7 MB/s eta 0:00:01\r\u001b[K     |██████████████████████████▍     | 911 kB 26.7 MB/s eta 0:00:01\r\u001b[K     |██████████████████████████▊     | 921 kB 26.7 MB/s eta 0:00:01\r\u001b[K     |███████████████████████████     | 931 kB 26.7 MB/s eta 0:00:01\r\u001b[K     |███████████████████████████▎    | 942 kB 26.7 MB/s eta 0:00:01\r\u001b[K     |███████████████████████████▋    | 952 kB 26.7 MB/s eta 0:00:01\r\u001b[K     |████████████████████████████    | 962 kB 26.7 MB/s eta 0:00:01\r\u001b[K     |████████████████████████████▏   | 972 kB 26.7 MB/s eta 0:00:01\r\u001b[K     |████████████████████████████▌   | 983 kB 26.7 MB/s eta 0:00:01\r\u001b[K     |████████████████████████████▉   | 993 kB 26.7 MB/s eta 0:00:01\r\u001b[K     |█████████████████████████████   | 1.0 MB 26.7 MB/s eta 0:00:01\r\u001b[K     |█████████████████████████████▍  | 1.0 MB 26.7 MB/s eta 0:00:01\r\u001b[K     |█████████████████████████████▊  | 1.0 MB 26.7 MB/s eta 0:00:01\r\u001b[K     |██████████████████████████████  | 1.0 MB 26.7 MB/s eta 0:00:01\r\u001b[K     |██████████████████████████████▎ | 1.0 MB 26.7 MB/s eta 0:00:01\r\u001b[K     |██████████████████████████████▋ | 1.1 MB 26.7 MB/s eta 0:00:01\r\u001b[K     |██████████████████████████████▉ | 1.1 MB 26.7 MB/s eta 0:00:01\r\u001b[K     |███████████████████████████████▏| 1.1 MB 26.7 MB/s eta 0:00:01\r\u001b[K     |███████████████████████████████▌| 1.1 MB 26.7 MB/s eta 0:00:01\r\u001b[K     |███████████████████████████████▊| 1.1 MB 26.7 MB/s eta 0:00:01\r\u001b[K     |████████████████████████████████| 1.1 MB 26.7 MB/s \n",
            "\u001b[?25hRequirement already satisfied: scikit-learn<1.1.0,>=0.22.2 in /usr/local/lib/python3.7/dist-packages (from adversarial-robustness-toolbox) (0.22.2.post1)\n",
            "Requirement already satisfied: tqdm in /usr/local/lib/python3.7/dist-packages (from adversarial-robustness-toolbox) (4.62.3)\n",
            "Requirement already satisfied: six in /usr/local/lib/python3.7/dist-packages (from adversarial-robustness-toolbox) (1.15.0)\n",
            "Requirement already satisfied: numpy>=1.18.0 in /usr/local/lib/python3.7/dist-packages (from adversarial-robustness-toolbox) (1.19.5)\n",
            "Requirement already satisfied: scipy>=1.4.1 in /usr/local/lib/python3.7/dist-packages (from adversarial-robustness-toolbox) (1.4.1)\n",
            "Requirement already satisfied: setuptools in /usr/local/lib/python3.7/dist-packages (from adversarial-robustness-toolbox) (57.4.0)\n",
            "Collecting numba>=0.53.1\n",
            "  Downloading numba-0.54.1-cp37-cp37m-manylinux2014_x86_64.manylinux_2_17_x86_64.whl (3.3 MB)\n",
            "\u001b[K     |████████████████████████████████| 3.3 MB 47.5 MB/s \n",
            "\u001b[?25hCollecting llvmlite<0.38,>=0.37.0rc1\n",
            "  Downloading llvmlite-0.37.0-cp37-cp37m-manylinux2014_x86_64.whl (26.3 MB)\n",
            "\u001b[K     |████████████████████████████████| 26.3 MB 83 kB/s \n",
            "\u001b[?25hRequirement already satisfied: joblib>=0.11 in /usr/local/lib/python3.7/dist-packages (from scikit-learn<1.1.0,>=0.22.2->adversarial-robustness-toolbox) (1.1.0)\n",
            "Installing collected packages: llvmlite, numba, adversarial-robustness-toolbox\n",
            "  Attempting uninstall: llvmlite\n",
            "    Found existing installation: llvmlite 0.34.0\n",
            "    Uninstalling llvmlite-0.34.0:\n",
            "      Successfully uninstalled llvmlite-0.34.0\n",
            "  Attempting uninstall: numba\n",
            "    Found existing installation: numba 0.51.2\n",
            "    Uninstalling numba-0.51.2:\n",
            "      Successfully uninstalled numba-0.51.2\n",
            "Successfully installed adversarial-robustness-toolbox-1.8.1 llvmlite-0.37.0 numba-0.54.1\n"
          ]
        }
      ]
    },
    {
      "cell_type": "code",
      "metadata": {
        "colab": {
          "base_uri": "https://localhost:8080/"
        },
        "id": "S51e3UyAuTtd",
        "outputId": "7c923cf3-d203-4d89-d68e-0b281cbbcaa2"
      },
      "source": [
        "# mounting the drive to store the results\n",
        "\n",
        "from google.colab import drive\n",
        "drive.mount('/content/drive') #, force_remount = True)"
      ],
      "execution_count": null,
      "outputs": [
        {
          "output_type": "stream",
          "name": "stdout",
          "text": [
            "Mounted at /content/drive\n"
          ]
        }
      ]
    },
    {
      "cell_type": "markdown",
      "metadata": {
        "id": "UatSbxW2zrPs"
      },
      "source": [
        "# Setting up the dataset and the model"
      ]
    },
    {
      "cell_type": "code",
      "metadata": {
        "id": "ZZxvy0a_OdDN"
      },
      "source": [
        "import tensorflow as tf\n",
        "import tensorflow_hub as hub\n",
        "import tensorflow_datasets as tfds\n",
        "from tensorflow.keras import Model\n",
        "import numpy as np\n",
        "%matplotlib inline \n",
        "import matplotlib.pyplot as plt\n",
        "from keras.datasets import cifar10\n",
        "from keras.models import Sequential\n",
        "from keras.layers import Dense, Flatten, Conv2D, MaxPooling2D, Dropout\n",
        "# from keras.optimizers import Adam\n",
        "from tensorflow.keras.layers import InputLayer, Reshape\n",
        "from tensorflow.keras import Sequential\n",
        "from tensorflow.keras.layers import Dense, Flatten, Conv2D, MaxPooling2D, Dropout\n",
        "from tensorflow.keras.optimizers import SGD, Adam\n",
        "from tensorflow.keras.utils import to_categorical\n",
        "from tensorflow.keras.losses import CategoricalCrossentropy\n",
        "\n",
        "from sklearn.metrics import classification_report\n",
        "import pickle\n",
        "import os\n",
        "\n",
        "from art.estimators.classification import TensorFlowV2Classifier\n",
        "from art.estimators.classification import KerasClassifier"
      ],
      "execution_count": null,
      "outputs": []
    },
    {
      "cell_type": "code",
      "metadata": {
        "id": "UANS9jWwagHl"
      },
      "source": [
        "tf.compat.v1.enable_eager_execution()"
      ],
      "execution_count": null,
      "outputs": []
    },
    {
      "cell_type": "code",
      "metadata": {
        "id": "uUbWr9aQRcrP"
      },
      "source": [
        "# (x_train, y_train), (x_test, y_test) = tf.keras.datasets.cifar10.load_data()\n",
        "(x_train, y_train), (x_test, y_test) = cifar10.load_data()\n",
        "assert x_train.shape == (50000, 32, 32, 3)\n",
        "assert x_test.shape == (10000, 32, 32, 3)\n",
        "assert y_train.shape == (50000, 1)\n",
        "assert y_test.shape == (10000, 1)"
      ],
      "execution_count": null,
      "outputs": []
    },
    {
      "cell_type": "code",
      "metadata": {
        "colab": {
          "base_uri": "https://localhost:8080/",
          "height": 377
        },
        "id": "GcwywI32XM6z",
        "outputId": "e58d9f89-49de-411f-b2d0-f58a06f63e90"
      },
      "source": [
        "# visualizing a few sample images\n",
        "\n",
        "class_names = ['airplane', 'automobile', 'bird', 'cat', 'deer', 'dog', 'frog', 'horse', 'ship', 'truck']\n",
        "\n",
        "fig = plt.figure(figsize=(16,6))\n",
        "for i in range(10):\n",
        "    ax = fig.add_subplot(2, 5, 1 + i, xticks=[], yticks=[])\n",
        "    im = x_test[i, :]\n",
        "    ax.set_title(class_names[y_test[i][0]])\n",
        "    plt.imshow(im)\n",
        "plt.show()"
      ],
      "execution_count": null,
      "outputs": [
        {
          "output_type": "display_data",
          "data": {
            "image/png": "[encoded data removed]",
            "text/plain": [
              "<Figure size 1152x432 with 10 Axes>"
            ]
          },
          "metadata": {}
        }
      ]
    },
    {
      "cell_type": "code",
      "metadata": {
        "colab": {
          "base_uri": "https://localhost:8080/"
        },
        "id": "7dSj3TTuR3_J",
        "outputId": "5d248524-11dc-4247-95ec-79621e463dd0"
      },
      "source": [
        "# checking the format of data\n",
        "print(type(x_train[0]))\n",
        "print(x_train[0].shape)\n",
        "\n",
        "# retaining the original format for the test data\n",
        "x_test_retained=x_test.copy()\n",
        "\n",
        "# Convert class vectors to binary class matrices.\n",
        "y_test = tf.keras.utils.to_categorical(y_test, 10)\n",
        "y_train = tf.keras.utils.to_categorical(y_train, 10)\n",
        "\n",
        "print(y_test.shape)\n",
        "print(y_train.shape)\n",
        "\n",
        "# Normalizing the data by converting to float and dividing by 255 (max value for r,g,b)\n",
        "\n",
        "x_train = x_train.astype('float32')\n",
        "x_test = x_test.astype('float32')\n",
        "x_train  /= 255\n",
        "x_test /= 255\n",
        "\n",
        "# print(x_train[0])"
      ],
      "execution_count": null,
      "outputs": [
        {
          "output_type": "stream",
          "name": "stdout",
          "text": [
            "<class 'numpy.ndarray'>\n",
            "(32, 32, 3)\n",
            "(10000, 10)\n",
            "(50000, 10)\n"
          ]
        }
      ]
    },
    {
      "cell_type": "code",
      "metadata": {
        "id": "_jyxwjby8lah"
      },
      "source": [
        "# # using keras to load the given model\n",
        "hub_url = \"https://tfhub.dev/deepmind/ganeval-cifar10-convnet/1\"\n",
        "model = hub.load(hub_url)\n",
        "\n",
        "classifier = tf.keras.Sequential()\n",
        "classifier.add(tf.keras.layers.InputLayer(input_shape=(32,32,3)))\n",
        "# classifier.add(hub.KerasLayer(model.signatures['default']))\n",
        "classifier.add(hub.KerasLayer(hub_url, signature='default'))\n",
        "classifier.add(tf.keras.layers.Activation('softmax'))\n",
        "\n",
        "classifier.compile(optimizer=tf.keras.optimizers.SGD(learning_rate=0.1, momentum=0.9, decay=1e-4), loss=tf.keras.losses.CategoricalCrossentropy(), metrics=['accuracy'])"
      ],
      "execution_count": null,
      "outputs": []
    },
    {
      "cell_type": "code",
      "metadata": {
        "colab": {
          "base_uri": "https://localhost:8080/"
        },
        "id": "KY8XiVX6AbEZ",
        "outputId": "eb6d941c-efb6-4d78-ab71-742a054974d0"
      },
      "source": [
        "print(classifier.summary())\n",
        "# tf.keras.utils.plot_model(model, \"my_first_model.png\")"
      ],
      "execution_count": null,
      "outputs": [
        {
          "output_type": "stream",
          "name": "stdout",
          "text": [
            "Model: \"sequential\"\n",
            "_________________________________________________________________\n",
            " Layer (type)                Output Shape              Param #   \n",
            "=================================================================\n",
            " keras_layer (KerasLayer)    (None, 10)                7796426   \n",
            "                                                                 \n",
            " activation (Activation)     (None, 10)                0         \n",
            "                                                                 \n",
            "=================================================================\n",
            "Total params: 7,796,426\n",
            "Trainable params: 0\n",
            "Non-trainable params: 7,796,426\n",
            "_________________________________________________________________\n",
            "None\n"
          ]
        }
      ]
    },
    {
      "cell_type": "code",
      "metadata": {
        "colab": {
          "base_uri": "https://localhost:8080/"
        },
        "id": "7K6WAhTeAoue",
        "outputId": "1c946689-7b69-43c5-cc80-e2fa8f2f81ba"
      },
      "source": [
        "# evaluating with a subset of training data. The expected accuracy is 1 since this is model is trained on Cifar10\n",
        "\n",
        "tf.config.run_functions_eagerly(True)\n",
        "x_train_trial=x_train[0:1000].copy()\n",
        "y_train_trial=y_train[0:1000].copy()\n",
        "classifier.evaluate(x_train_trial, y_train_trial)"
      ],
      "execution_count": null,
      "outputs": [
        {
          "output_type": "stream",
          "name": "stderr",
          "text": [
            "/usr/local/lib/python3.7/dist-packages/tensorflow/python/data/ops/dataset_ops.py:4527: UserWarning: Even though the `tf.config.experimental_run_functions_eagerly` option is set, this option does not apply to tf.data functions. To force eager execution of tf.data functions, please use `tf.data.experimental.enable_debug_mode()`.\n",
            "  \"Even though the `tf.config.experimental_run_functions_eagerly` \"\n"
          ]
        },
        {
          "output_type": "stream",
          "name": "stdout",
          "text": [
            "32/32 [==============================] - 11s 326ms/step - loss: 0.0017 - accuracy: 1.0000\n"
          ]
        },
        {
          "output_type": "execute_result",
          "data": {
            "text/plain": [
              "[0.0016680299304425716, 1.0]"
            ]
          },
          "metadata": {},
          "execution_count": 6
        }
      ]
    },
    {
      "cell_type": "code",
      "metadata": {
        "colab": {
          "base_uri": "https://localhost:8080/",
          "height": 334
        },
        "id": "GbZx-qAeVZLU",
        "outputId": "e92d4bf2-a2c9-4a27-ea0f-01cbd0c2fa8f"
      },
      "source": [
        "# Visualizing a prediction using the non scaled and retained test data saved earlier\n",
        "\n",
        "prediction = classifier.predict(x_test[:3])\n",
        "ans = np.argmax(prediction[2])\n",
        "print(ans)\n",
        "\n",
        "plt.imshow(x_test_retained[2])\n",
        "plt.axis( 'off' )\n",
        "plt.title(class_names[ans])\n",
        "plt.show( )"
      ],
      "execution_count": null,
      "outputs": [
        {
          "output_type": "stream",
          "name": "stdout",
          "text": [
            "8\n"
          ]
        },
        {
          "output_type": "stream",
          "name": "stderr",
          "text": [
            "/usr/local/lib/python3.7/dist-packages/tensorflow/python/data/ops/dataset_ops.py:4212: UserWarning: Even though the `tf.config.experimental_run_functions_eagerly` option is set, this option does not apply to tf.data functions. To force eager execution of tf.data functions, please use `tf.data.experimental.enable_debug_mode()`.\n",
            "  \"Even though the `tf.config.experimental_run_functions_eagerly` \"\n"
          ]
        },
        {
          "output_type": "display_data",
          "data": {
            "image/png": "[encoded data removed]",
            "text/plain": [
              "<Figure size 432x288 with 1 Axes>"
            ]
          },
          "metadata": {
            "needs_background": "light"
          }
        }
      ]
    },
    {
      "cell_type": "markdown",
      "metadata": {
        "id": "Hg_hYQJX1ghv"
      },
      "source": [
        "### Defining classifier 2 with the same model to create the evasion attack"
      ]
    },
    {
      "cell_type": "code",
      "metadata": {
        "id": "IB-FkqCt1y0X"
      },
      "source": [
        "# # using keras to load the given model\n",
        "hub_url = \"https://tfhub.dev/deepmind/ganeval-cifar10-convnet/1\"\n",
        "model = hub.load(hub_url)\n",
        "\n",
        "classifier2 = tf.keras.Sequential()\n",
        "classifier2.add(tf.keras.layers.InputLayer(input_shape=(32,32,3)))\n",
        "# classifier.add(hub.KerasLayer(model.signatures['default']))\n",
        "classifier2.add(hub.KerasLayer(hub_url, signature='default'))\n",
        "classifier2.add(tf.keras.layers.Activation('softmax'))\n",
        "\n",
        "classifier2.compile(optimizer=tf.keras.optimizers.SGD(learning_rate=0.1, momentum=0.9, decay=1e-4), loss=tf.keras.losses.CategoricalCrossentropy(), metrics=['accuracy'])"
      ],
      "execution_count": null,
      "outputs": []
    },
    {
      "cell_type": "code",
      "metadata": {
        "id": "8EuHzb9SKYCR"
      },
      "source": [
        "# function to generate the needed samples for implementing attack\n",
        "\n",
        "def candidate_data(x_test, y_test, n):\n",
        "  cx_test=[]\n",
        "  cy_test=[]\n",
        "  \n",
        "  for i in list(range(y_test.shape[1])):\n",
        "    id = y_test[:,i]==1\n",
        "    cx_test.append(x_test[id][:n].copy())\n",
        "    cy_test.append(y_test[id][:n].copy())\n",
        "\n",
        "  cx_test = np.concatenate(cx_test)\n",
        "  cy_test = np.concatenate(cy_test)\n",
        "\n",
        "  return cx_test, cy_test"
      ],
      "execution_count": null,
      "outputs": []
    },
    {
      "cell_type": "markdown",
      "metadata": {
        "id": "HlVBoNUmKI9F"
      },
      "source": [
        "Implementing a helper function to implement attacks"
      ]
    },
    {
      "cell_type": "code",
      "metadata": {
        "id": "4PdNgi6BKQHo"
      },
      "source": [
        "def implement_attack(classifier, attack, sample_test, test_labels, attack_name):\n",
        "  # generate the adverserial examples\n",
        "  x_test_adv = attack.generate(sample_test)\n",
        "  performance_metrics=classifier.evaluate( x_test_adv, test_labels)\n",
        "  predictions=classifier.predict(x_test_adv)\n",
        "  report = classification_report(np.argmax(test_labels, axis=1), np.argmax(predictions, axis=1), output_dict=True)\n",
        "\n",
        "  report=report['weighted avg']\n",
        "  report.update({'Loss':performance_metrics[0]})\n",
        "  report.update({'Accuracy':performance_metrics[1]})\n",
        "  report.update({'Attack':attack_name})\n",
        "\n",
        "  return report, x_test_adv, predictions"
      ],
      "execution_count": null,
      "outputs": []
    },
    {
      "cell_type": "markdown",
      "metadata": {
        "id": "c6j_jSDPxKNF"
      },
      "source": [
        "# Implementing pre processor attacks"
      ]
    },
    {
      "cell_type": "markdown",
      "metadata": {
        "id": "6kTWGLF9xTtL"
      },
      "source": [
        "## Feature Squeezing"
      ]
    },
    {
      "cell_type": "code",
      "metadata": {
        "id": "85cKifyQxzDD"
      },
      "source": [
        "from art.defences.preprocessor import FeatureSqueezing"
      ],
      "execution_count": null,
      "outputs": []
    },
    {
      "cell_type": "code",
      "metadata": {
        "id": "jCylpx6hyAAi"
      },
      "source": [
        "fs_def = FeatureSqueezing(clip_values=(0,1), bit_depth=16, apply_fit = True, apply_predict = False)"
      ],
      "execution_count": null,
      "outputs": []
    },
    {
      "cell_type": "code",
      "metadata": {
        "id": "iRjxFTGm2Aw4"
      },
      "source": [
        "x_def,y_def = fs_def.__call__(x=x_train,y=y_train)"
      ],
      "execution_count": null,
      "outputs": []
    },
    {
      "cell_type": "markdown",
      "metadata": {
        "id": "G_caXNNlN1dx"
      },
      "source": [
        "We train the model with the defensive samples generated above"
      ]
    },
    {
      "cell_type": "code",
      "metadata": {
        "colab": {
          "base_uri": "https://localhost:8080/"
        },
        "id": "yTYsGBvP2dO3",
        "outputId": "65eb66a6-7e99-4464-a7ed-c37e17f23b78"
      },
      "source": [
        "classifier.fit(x_def,y_def)"
      ],
      "execution_count": null,
      "outputs": [
        {
          "output_type": "stream",
          "name": "stdout",
          "text": [
            "1563/1563 [==============================] - 583s 372ms/step - loss: 0.0018 - accuracy: 1.0000\n"
          ]
        },
        {
          "output_type": "execute_result",
          "data": {
            "text/plain": [
              "<keras.callbacks.History at 0x7f41fb991110>"
            ]
          },
          "metadata": {},
          "execution_count": 18
        }
      ]
    },
    {
      "cell_type": "code",
      "metadata": {
        "id": "l9GoFBzAEztx"
      },
      "source": [
        "# Create a ART TensorFlow v2 classifier for the target TensorFlow model for the fgsm attack\n",
        "artclassifier2 = TensorFlowV2Classifier(model=classifier2, nb_classes=10, input_shape=(32, 32, 3), loss_object=classifier2.loss, \n",
        "                                    clip_values=(0, 1), channels_first=False)"
      ],
      "execution_count": null,
      "outputs": []
    },
    {
      "cell_type": "markdown",
      "metadata": {
        "id": "IUOnvRbBCT6l"
      },
      "source": [
        "Impementing evasion attack and generating the adverserial samples on classifier2 (non defensively robust)"
      ]
    },
    {
      "cell_type": "code",
      "metadata": {
        "colab": {
          "base_uri": "https://localhost:8080/"
        },
        "id": "IWMrURFdCQ5c",
        "outputId": "4d46396b-ff24-40bc-8cfd-62beaf4735f4"
      },
      "source": [
        "# White box evasion attack\n",
        "\n",
        "from art.attacks.evasion import FastGradientMethod\n",
        "\n",
        "sample_test, sample_label=candidate_data(x_test, y_test, 10)\n",
        "fgsm_attack = FastGradientMethod(artclassifier2, targeted=False, eps_step=0.001, eps=0.01)\n",
        "\n",
        "# report, x_test_adv, predictions = implement_attack(classifier, fgsm_attack, sample_test=sample_test, test_labels=sample_label, attack_name='fgsm attack on defensively trained model')\n",
        "# perturbation = np.mean(np.abs((x_test_adv - sample_test)))\n",
        "# report['perturbation']=perturbation\n",
        "\n",
        "# collective_res[report['Attack']]=report\n",
        "# generate adverserial samples\n",
        "x_test_adv=fgsm_attack.generate(sample_test)\n",
        "\n",
        "# checking the performance of adverserial examples on the model trained with defensively robust samples\n",
        "perf =  classifier.evaluate(x_test_adv, sample_label)\n",
        "print( 'loss & accuracy on adversarial examples: ', perf )"
      ],
      "execution_count": null,
      "outputs": [
        {
          "output_type": "stream",
          "name": "stdout",
          "text": [
            "4/4 [==============================] - 1s 197ms/step - loss: 3.9229 - accuracy: 0.4000\n",
            "loss & accuracy on adversarial examples:  [3.9228835105895996, 0.4000000059604645]\n"
          ]
        }
      ]
    },
    {
      "cell_type": "code",
      "metadata": {
        "colab": {
          "base_uri": "https://localhost:8080/"
        },
        "id": "RD91X3HAO-N3",
        "outputId": "ce1534a0-2b3b-4c79-f08a-2872f22e24cb"
      },
      "source": [
        "collective_res={}\n",
        "collective_res['fgsm attack on defensively trained model (feature squeezing)']={'loss': perf[0], 'accuracy': perf[1]}\n",
        "print(collective_res)"
      ],
      "execution_count": null,
      "outputs": [
        {
          "output_type": "stream",
          "name": "stdout",
          "text": [
            "{'fgsm attack on defensively trained model (feature squeezing)': {'loss': 3.9228830337524414, 'accuracy': 0.4000000059604645}}\n"
          ]
        }
      ]
    },
    {
      "cell_type": "code",
      "metadata": {
        "id": "6sMS8QHzVt7e"
      },
      "source": [
        "# save the results dictionary in a pickle file\n",
        "f = open(\"/content/drive/MyDrive/spai/defense_results.pickle\", \"wb\")\n",
        "pickle.dump(collective_res, f)\n",
        "f.close()"
      ],
      "execution_count": null,
      "outputs": []
    },
    {
      "cell_type": "code",
      "metadata": {
        "colab": {
          "base_uri": "https://localhost:8080/"
        },
        "id": "nByiBrb8WNqY",
        "outputId": "408da26b-58f8-48a1-adda-b729a70a2a44"
      },
      "source": [
        "# check to see if everything stored properly\n",
        "file_to_read = open(\"/content/drive/MyDrive/spai/defense_results.pickle\", \"rb\")\n",
        "\n",
        "collective_res = pickle.load(file_to_read)\n",
        "print(collective_res)"
      ],
      "execution_count": null,
      "outputs": [
        {
          "output_type": "stream",
          "name": "stdout",
          "text": [
            "{'fgsm attack on defensively trained model (feature squeezing)': {'loss': 3.9228830337524414, 'accuracy': 0.4000000059604645}}\n"
          ]
        }
      ]
    },
    {
      "cell_type": "code",
      "metadata": {
        "colab": {
          "base_uri": "https://localhost:8080/",
          "height": 136,
          "referenced_widgets": [
            "fb27421307bb45a6ac2b5ff4567be25b",
            "2457e772c0c249ffa99b9dbecbf9f85f",
            "e020d2459ed34eedaef0dce947d05a9f",
            "81fd40947f954793a2d67973428ac9bb",
            "66daa67816ee4e3c8683752caf9c8b89",
            "4ae42e5dc1df474196d222c3856efd11",
            "d7f632fae1ea409a843a8fd7891d91d0",
            "ab38dc523dcd4c1a8b0aff6d82d52b04",
            "0348d39a8d534c849b902bf121b724e9",
            "56ea4a2315f34a7981a326fba1a77740",
            "1cada1e69ded4321930e75ea0eefc329"
          ]
        },
        "id": "ltEl9YrCdLs4",
        "outputId": "081de1eb-052e-4831-9a2c-c25d097dfa3e"
      },
      "source": [
        "# Trying Jacobian Saliency map attack\n",
        "from art.attacks.evasion import SaliencyMapMethod\n",
        "\n",
        "sample_test, sample_label=candidate_data(x_test, y_test, 10)\n",
        "jsm_attack = SaliencyMapMethod(artclassifier2, theta=0.1, gamma=1.0, batch_size=20)\n",
        "\n",
        "x_test_adv=jsm_attack.generate(sample_test)\n",
        "\n",
        "# checking the performance of adverserial examples on the model trained with defensively robust samples\n",
        "perf =  classifier.evaluate(x_test_adv, sample_label)\n",
        "print( 'loss & accuracy on adversarial examples: ', perf )"
      ],
      "execution_count": null,
      "outputs": [
        {
          "output_type": "display_data",
          "data": {
            "application/vnd.jupyter.widget-view+json": {
              "model_id": "fb27421307bb45a6ac2b5ff4567be25b",
              "version_minor": 0,
              "version_major": 2
            },
            "text/plain": [
              "JSMA:   0%|          | 0/5 [00:00<?, ?it/s]"
            ]
          },
          "metadata": {}
        },
        {
          "output_type": "stream",
          "name": "stdout",
          "text": [
            "WARNING:tensorflow:Calling GradientTape.gradient on a persistent tape inside its context is significantly less efficient than calling it outside the context (it causes the gradient ops to be recorded on the tape, leading to increased CPU and memory usage). Only call GradientTape.gradient inside the context if you actually want to trace the gradient in order to compute higher order derivatives.\n"
          ]
        },
        {
          "output_type": "stream",
          "name": "stderr",
          "text": [
            "WARNING:tensorflow:Calling GradientTape.gradient on a persistent tape inside its context is significantly less efficient than calling it outside the context (it causes the gradient ops to be recorded on the tape, leading to increased CPU and memory usage). Only call GradientTape.gradient inside the context if you actually want to trace the gradient in order to compute higher order derivatives.\n"
          ]
        },
        {
          "output_type": "stream",
          "name": "stdout",
          "text": [
            "4/4 [==============================] - 1s 272ms/step - loss: 1.2060 - accuracy: 0.0100\n",
            "loss & accuracy on adversarial examples:  [1.2059839963912964, 0.009999999776482582]\n"
          ]
        }
      ]
    },
    {
      "cell_type": "code",
      "metadata": {
        "colab": {
          "base_uri": "https://localhost:8080/"
        },
        "id": "WpN_L-f8hVlX",
        "outputId": "790aacee-2007-4f68-8732-1035779ae94d"
      },
      "source": [
        "collective_res={}\n",
        "collective_res['jsm attack on defensively trained model (feature squeezing)']={'loss': perf[0], 'accuracy': perf[1]}\n",
        "print(collective_res)"
      ],
      "execution_count": null,
      "outputs": [
        {
          "output_type": "stream",
          "name": "stdout",
          "text": [
            "{'jsm attack on defensively trained model (feature squeezing)': {'loss': 1.2059839963912964, 'accuracy': 0.009999999776482582}}\n"
          ]
        }
      ]
    },
    {
      "cell_type": "code",
      "metadata": {
        "colab": {
          "base_uri": "https://localhost:8080/"
        },
        "id": "Ua3fmiVghjRg",
        "outputId": "2d2996af-96ef-4b85-ae5d-7cd7f93daa87"
      },
      "source": [
        "# Append the results of this attack to the pickle file storing the collective results\n",
        "\n",
        "file_to_read = open(\"/content/drive/MyDrive/spai/defense_results.pickle\", \"rb\")\n",
        "\n",
        "collective_res_pre = pickle.load(file_to_read)\n",
        "file_to_read.close()\n",
        "collective_res_pre['jsm attack on defensively trained model (feature squeezing)']={'loss': perf[0], 'accuracy': perf[1]}\n",
        "print(collective_res_pre)\n",
        "\n",
        "# pickle the updated dictionary again\n",
        "f = open(\"/content/drive/MyDrive/spai/defense_results.pickle\", \"wb\")\n",
        "pickle.dump(collective_res_pre, f)\n",
        "f.close()"
      ],
      "execution_count": null,
      "outputs": [
        {
          "output_type": "stream",
          "name": "stdout",
          "text": [
            "{'fgsm attack on defensively trained model (feature squeezing)': {'loss': 3.9228830337524414, 'accuracy': 0.4000000059604645}, 'fgsm attack on defensively trained model (JPEG compression)': {'loss': 3.9228830337524414, 'accuracy': 0.4000000059604645}, 'fgsm attack on defensively trained model (Gaussian data augmentation)': {'loss': 3.9228830337524414, 'accuracy': 0.4000000059604645}, 'fgsm attack on defensively trained model (spatial smoothing)': {'loss': 3.9228835105895996, 'accuracy': 0.4000000059604645}, 'fgsm attack on defensively trained model (total variance minimization)': {'loss': 3.9228835105895996, 'accuracy': 0.4000000059604645}, 'jsm attack on defensively trained model (feature squeezing)': {'loss': 1.2059839963912964, 'accuracy': 0.009999999776482582}}\n"
          ]
        }
      ]
    },
    {
      "cell_type": "markdown",
      "metadata": {
        "id": "BCrlbxXhdQUz"
      },
      "source": [
        "## Gaussian Data Augmentation"
      ]
    },
    {
      "cell_type": "code",
      "metadata": {
        "id": "RsIQrYi9dXr9"
      },
      "source": [
        "from art.defences.preprocessor import GaussianAugmentation\n",
        "ga_def = GaussianAugmentation(sigma=0.02, augmentation=False, ratio=0.5, apply_predict=True)"
      ],
      "execution_count": null,
      "outputs": []
    },
    {
      "cell_type": "code",
      "metadata": {
        "id": "o86GlDLEhig3"
      },
      "source": [
        "x_def,y_def = ga_def.__call__(x=x_train,y=y_train)"
      ],
      "execution_count": null,
      "outputs": []
    },
    {
      "cell_type": "markdown",
      "metadata": {
        "id": "5nWIKFcaicdB"
      },
      "source": [
        "Load the model afresh"
      ]
    },
    {
      "cell_type": "code",
      "metadata": {
        "id": "ezS44u2yia-i"
      },
      "source": [
        "# # using keras to load the given model\n",
        "hub_url = \"https://tfhub.dev/deepmind/ganeval-cifar10-convnet/1\"\n",
        "model = hub.load(hub_url)\n",
        "\n",
        "classifier = tf.keras.Sequential()\n",
        "classifier.add(tf.keras.layers.InputLayer(input_shape=(32,32,3)))\n",
        "# classifier.add(hub.KerasLayer(model.signatures['default']))\n",
        "classifier.add(hub.KerasLayer(hub_url, signature='default'))\n",
        "classifier.add(tf.keras.layers.Activation('softmax'))\n",
        "\n",
        "classifier.compile(optimizer=tf.keras.optimizers.SGD(learning_rate=0.1, momentum=0.9, decay=1e-4), loss=tf.keras.losses.CategoricalCrossentropy(), metrics=['accuracy'])"
      ],
      "execution_count": null,
      "outputs": []
    },
    {
      "cell_type": "markdown",
      "metadata": {
        "id": "jSaghQpfhig3"
      },
      "source": [
        "We train the model with the defensive samples generated above"
      ]
    },
    {
      "cell_type": "code",
      "metadata": {
        "colab": {
          "base_uri": "https://localhost:8080/"
        },
        "id": "5lkVaeWRhig3",
        "outputId": "8572cecf-3c66-469f-b512-b4fbb5796c05"
      },
      "source": [
        "classifier.fit(x_def,y_def)"
      ],
      "execution_count": null,
      "outputs": [
        {
          "output_type": "stream",
          "name": "stdout",
          "text": [
            "1563/1563 [==============================] - 507s 324ms/step - loss: 0.0473 - accuracy: 0.9854\n"
          ]
        },
        {
          "output_type": "execute_result",
          "data": {
            "text/plain": [
              "<keras.callbacks.History at 0x7fb47e304b50>"
            ]
          },
          "metadata": {},
          "execution_count": 14
        }
      ]
    },
    {
      "cell_type": "code",
      "metadata": {
        "id": "llgM_Zv-hig3"
      },
      "source": [
        "# Create a ART TensorFlow v2 classifier for the target TensorFlow model\n",
        "# Create a ART Keras classifier for the target TensorFlow model\n",
        "artclassifier2 = TensorFlowV2Classifier(model=classifier2, nb_classes=10, input_shape=(32, 32, 3), loss_object=classifier2.loss, \n",
        "                                    clip_values=(0, 1), channels_first=False)\n",
        "# import tensorflow as tf\n",
        "# tf.compat.v1.disable_eager_execution()\n",
        "\n",
        "# artclassifier2 = KerasClassifier(model=classifier2, clip_values=(0, 1), channels_first=False)"
      ],
      "execution_count": null,
      "outputs": []
    },
    {
      "cell_type": "code",
      "metadata": {
        "colab": {
          "base_uri": "https://localhost:8080/"
        },
        "id": "csIdlxS_hig4",
        "outputId": "06de26e4-210f-4a1c-e7cc-26d9abb99fde"
      },
      "source": [
        "# White box evasion attack\n",
        "\n",
        "from art.attacks.evasion import FastGradientMethod\n",
        "\n",
        "sample_test, sample_label=candidate_data(x_test, y_test, 10)\n",
        "fgsm_attack = FastGradientMethod(artclassifier2, targeted=False, eps_step=0.001, eps=0.01)\n",
        "\n",
        "# report, x_test_adv, predictions = implement_attack(classifier, fgsm_attack, sample_test=sample_test, test_labels=sample_label, attack_name='fgsm attack on defensively trained model')\n",
        "# perturbation = np.mean(np.abs((x_test_adv - sample_test)))\n",
        "# report['perturbation']=perturbation\n",
        "\n",
        "# collective_res[report['Attack']]=report\n",
        "# generate adverserial samples\n",
        "x_test_adv=fgsm_attack.generate(sample_test)\n",
        "\n",
        "# checking the performance of adverserial examples on the model trained with defensively robust samples \n",
        "perf =  classifier.evaluate(x_test_adv, sample_label)\n",
        "print( 'loss & accuracy on adversarial examples: ', perf )"
      ],
      "execution_count": null,
      "outputs": [
        {
          "output_type": "stream",
          "name": "stdout",
          "text": [
            "4/4 [==============================] - 1s 233ms/step - loss: 3.9229 - accuracy: 0.4000\n",
            "loss & accuracy on adversarial examples:  [3.9228830337524414, 0.4000000059604645]\n"
          ]
        }
      ]
    },
    {
      "cell_type": "code",
      "metadata": {
        "colab": {
          "base_uri": "https://localhost:8080/"
        },
        "id": "_P11-VLMhig4",
        "outputId": "3c27b51d-3433-4517-901e-419676affebc"
      },
      "source": [
        "collective_res={}\n",
        "collective_res['fgsm attack on defensively trained model (Gaussian Augmentation)']={'loss': perf[0], 'accuracy': perf[1]}\n",
        "print(collective_res)"
      ],
      "execution_count": null,
      "outputs": [
        {
          "output_type": "stream",
          "name": "stdout",
          "text": [
            "{'fgsm attack on defensively trained model (Gaussian Augmentation)': {'loss': 3.9228830337524414, 'accuracy': 0.4000000059604645}}\n"
          ]
        }
      ]
    },
    {
      "cell_type": "code",
      "metadata": {
        "colab": {
          "base_uri": "https://localhost:8080/"
        },
        "id": "KgyXpYnajSno",
        "outputId": "012ac747-435e-45d3-c878-482dfa476e9b"
      },
      "source": [
        "# Append the results of this attack to the pickle file storing the collective results\n",
        "\n",
        "file_to_read = open(\"/content/drive/MyDrive/spai/defense_results.pickle\", \"rb\")\n",
        "\n",
        "collective_res_pre = pickle.load(file_to_read)\n",
        "file_to_read.close()\n",
        "collective_res_pre['fgsm attack on defensively trained model (Gaussian data augmentation)']={'loss': perf[0], 'accuracy': perf[1]}\n",
        "print(collective_res_pre)\n",
        "\n",
        "\n",
        "# pickle the updated dictionary again\n",
        "f = open(\"/content/drive/MyDrive/spai/defense_results.pickle\", \"wb\")\n",
        "pickle.dump(collective_res_pre, f)\n",
        "f.close()"
      ],
      "execution_count": null,
      "outputs": [
        {
          "output_type": "stream",
          "name": "stdout",
          "text": [
            "{'fgsm attack on defensively trained model (feature squeezing)': {'loss': 3.9228830337524414, 'accuracy': 0.4000000059604645}, 'fgsm attack on defensively trained model (JPEG compression)': {'loss': 3.9228830337524414, 'accuracy': 0.4000000059604645}, 'fgsm attack on defensively trained model (Gaussian data augmentation)': {'loss': 3.9228830337524414, 'accuracy': 0.4000000059604645}}\n"
          ]
        }
      ]
    },
    {
      "cell_type": "code",
      "metadata": {
        "colab": {
          "base_uri": "https://localhost:8080/",
          "height": 82,
          "referenced_widgets": [
            "8ebab2c5aac343e2840f842e0d850b32",
            "2fb1778067574657b791980404806bb8",
            "616544e7f5ca4710bd6cc40afdcfd126",
            "81e29d60addd458c9a70650936ab0654",
            "d50e5714e5fc48b4ad1503eb31c29292",
            "3eefd2300384464c9ee3a88d7ddc03ce",
            "d731a90a30b44712bc18fe13308da918",
            "fe6fae4dd1bd4b9fafc42ba6caaf1dee",
            "de780af46e734378afed993660392f41",
            "a7807de6d69a48f69bcd4863b6615788",
            "81f99f99c8274884997bbf25c91bdf8b"
          ]
        },
        "id": "aE99dgkUvvJj",
        "outputId": "bcbaccab-612a-4677-bb7b-39ad38ba81a9"
      },
      "source": [
        "# Trying Jacobian Saliency map attack\n",
        "from art.attacks.evasion import SaliencyMapMethod\n",
        "\n",
        "sample_test, sample_label=candidate_data(x_test, y_test, 10)\n",
        "jsm_attack = SaliencyMapMethod(artclassifier2, theta=0.1, gamma=1.0, batch_size=20)\n",
        "\n",
        "x_test_adv=jsm_attack.generate(sample_test)\n",
        "\n",
        "# checking the performance of adverserial examples on the model trained with defensively robust samples\n",
        "perf =  classifier.evaluate(x_test_adv, sample_label)\n",
        "print( 'loss & accuracy on adversarial examples: ', perf )"
      ],
      "execution_count": null,
      "outputs": [
        {
          "output_type": "display_data",
          "data": {
            "application/vnd.jupyter.widget-view+json": {
              "model_id": "8ebab2c5aac343e2840f842e0d850b32",
              "version_minor": 0,
              "version_major": 2
            },
            "text/plain": [
              "JSMA:   0%|          | 0/5 [00:00<?, ?it/s]"
            ]
          },
          "metadata": {}
        },
        {
          "output_type": "stream",
          "name": "stdout",
          "text": [
            "4/4 [==============================] - 1s 275ms/step - loss: 1.2475 - accuracy: 0.0200\n",
            "loss & accuracy on adversarial examples:  [1.2475407123565674, 0.019999999552965164]\n"
          ]
        }
      ]
    },
    {
      "cell_type": "code",
      "metadata": {
        "colab": {
          "base_uri": "https://localhost:8080/"
        },
        "id": "o54HudnJvvJl",
        "outputId": "3274a33f-18e3-4d68-ad15-f6bfac4b7a37"
      },
      "source": [
        "collective_res={}\n",
        "collective_res['jsm attack on defensively trained model (Gaussian Augmentation)']={'loss': perf[0], 'accuracy': perf[1]}\n",
        "print(collective_res)"
      ],
      "execution_count": null,
      "outputs": [
        {
          "output_type": "stream",
          "name": "stdout",
          "text": [
            "{'jsm attack on defensively trained model (Gaussian Augmentation)': {'loss': 1.2475407123565674, 'accuracy': 0.019999999552965164}}\n"
          ]
        }
      ]
    },
    {
      "cell_type": "code",
      "metadata": {
        "colab": {
          "base_uri": "https://localhost:8080/"
        },
        "id": "uuF1lM6RvvJm",
        "outputId": "b70beee8-60a7-4a89-c7e4-b15c249b3145"
      },
      "source": [
        "# Append the results of this attack to the pickle file storing the collective results\n",
        "\n",
        "file_to_read = open(\"/content/drive/MyDrive/spai/defense_results.pickle\", \"rb\")\n",
        "\n",
        "collective_res_pre = pickle.load(file_to_read)\n",
        "file_to_read.close()\n",
        "collective_res_pre['jsm attack on defensively trained model (Gaussian Augmentation)']={'loss': perf[0], 'accuracy': perf[1]}\n",
        "print(collective_res_pre)\n",
        "\n",
        "# pickle the updated dictionary again\n",
        "f = open(\"/content/drive/MyDrive/spai/defense_results.pickle\", \"wb\")\n",
        "pickle.dump(collective_res_pre, f)\n",
        "f.close()"
      ],
      "execution_count": null,
      "outputs": [
        {
          "output_type": "stream",
          "name": "stdout",
          "text": [
            "{'fgsm attack on defensively trained model (feature squeezing)': {'loss': 3.9228830337524414, 'accuracy': 0.4000000059604645}, 'fgsm attack on defensively trained model (JPEG compression)': {'loss': 3.9228830337524414, 'accuracy': 0.4000000059604645}, 'fgsm attack on defensively trained model (Gaussian data augmentation)': {'loss': 3.9228830337524414, 'accuracy': 0.4000000059604645}, 'fgsm attack on defensively trained model (spatial smoothing)': {'loss': 3.9228835105895996, 'accuracy': 0.4000000059604645}, 'fgsm attack on defensively trained model (total variance minimization)': {'loss': 3.9228835105895996, 'accuracy': 0.4000000059604645}, 'jsm attack on defensively trained model (feature squeezing)': {'loss': 1.2059839963912964, 'accuracy': 0.009999999776482582}, 'jsm attack on defensively trained model (Gaussian Augmentation)': {'loss': 1.2475407123565674, 'accuracy': 0.019999999552965164}}\n"
          ]
        }
      ]
    },
    {
      "cell_type": "markdown",
      "metadata": {
        "id": "KUjknY_tkTa1"
      },
      "source": [
        "## JPEG Compression"
      ]
    },
    {
      "cell_type": "code",
      "metadata": {
        "id": "RTq9EZcikX20"
      },
      "source": [
        "from art.defences.preprocessor import JpegCompression\n",
        "jpeg_def = JpegCompression(quality=95, clip_values=(0,1), apply_fit=True, apply_predict=False)"
      ],
      "execution_count": null,
      "outputs": []
    },
    {
      "cell_type": "code",
      "metadata": {
        "id": "1CD8zbfplzpD"
      },
      "source": [
        "x_def,y_def = jpeg_def.__call__(x=x_train,y=y_train)"
      ],
      "execution_count": null,
      "outputs": []
    },
    {
      "cell_type": "markdown",
      "metadata": {
        "id": "qUH0EbdBlzpD"
      },
      "source": [
        "Load the model afresh"
      ]
    },
    {
      "cell_type": "code",
      "metadata": {
        "id": "KqTpf13plzpD"
      },
      "source": [
        "# # using keras to load the given model\n",
        "hub_url = \"https://tfhub.dev/deepmind/ganeval-cifar10-convnet/1\"\n",
        "model = hub.load(hub_url)\n",
        "\n",
        "classifier = tf.keras.Sequential()\n",
        "classifier.add(tf.keras.layers.InputLayer(input_shape=(32,32,3)))\n",
        "# classifier.add(hub.KerasLayer(model.signatures['default']))\n",
        "classifier.add(hub.KerasLayer(hub_url, signature='default'))\n",
        "classifier.add(tf.keras.layers.Activation('softmax'))\n",
        "\n",
        "classifier.compile(optimizer=tf.keras.optimizers.SGD(learning_rate=0.1, momentum=0.9, decay=1e-4), loss=tf.keras.losses.CategoricalCrossentropy(), metrics=['accuracy'])"
      ],
      "execution_count": null,
      "outputs": []
    },
    {
      "cell_type": "markdown",
      "metadata": {
        "id": "aevwHApjlzpD"
      },
      "source": [
        "We train the model with the defensive samples generated above"
      ]
    },
    {
      "cell_type": "code",
      "metadata": {
        "colab": {
          "base_uri": "https://localhost:8080/"
        },
        "id": "YLVLOdCZlzpD",
        "outputId": "f295eed2-6e38-4b6d-98b1-886d7d4578b1"
      },
      "source": [
        "classifier.fit(x_def,y_def)"
      ],
      "execution_count": null,
      "outputs": [
        {
          "output_type": "stream",
          "name": "stdout",
          "text": [
            "1563/1563 [==============================] - 588s 375ms/step - loss: 0.0093 - accuracy: 0.9980\n"
          ]
        },
        {
          "output_type": "execute_result",
          "data": {
            "text/plain": [
              "<keras.callbacks.History at 0x7f41f7440690>"
            ]
          },
          "metadata": {},
          "execution_count": 35
        }
      ]
    },
    {
      "cell_type": "code",
      "metadata": {
        "id": "mcmYTXsLlzpD"
      },
      "source": [
        "# Create a ART TensorFlow v2 classifier for the target TensorFlow model\n",
        "artclassifier2 = TensorFlowV2Classifier(model=classifier2, nb_classes=10, input_shape=(32, 32, 3), loss_object=classifier2.loss, \n",
        "                                    clip_values=(0, 1), channels_first=False)"
      ],
      "execution_count": null,
      "outputs": []
    },
    {
      "cell_type": "code",
      "metadata": {
        "colab": {
          "base_uri": "https://localhost:8080/"
        },
        "id": "pKV0nbyxlzpD",
        "outputId": "d7253e63-57b4-4ae5-9ec5-41e551b8a92c"
      },
      "source": [
        "# White box evasion attack\n",
        "\n",
        "from art.attacks.evasion import FastGradientMethod\n",
        "\n",
        "sample_test, sample_label=candidate_data(x_test, y_test, 10)\n",
        "fgsm_attack = FastGradientMethod(artclassifier2, targeted=False, eps_step=0.001, eps=0.01)\n",
        "\n",
        "# report, x_test_adv, predictions = implement_attack(classifier, fgsm_attack, sample_test=sample_test, test_labels=sample_label, attack_name='fgsm attack on defensively trained model')\n",
        "# perturbation = np.mean(np.abs((x_test_adv - sample_test)))\n",
        "# report['perturbation']=perturbation\n",
        "\n",
        "# collective_res[report['Attack']]=report\n",
        "# generate adverserial samples\n",
        "x_test_adv=fgsm_attack.generate(sample_test)\n",
        "\n",
        "# checking the performance of adverserial examples on the model trained with defensively robust samples\n",
        "perf =  classifier.evaluate(x_test_adv, sample_label)\n",
        "print( 'loss & accuracy on adversarial examples: ', perf )"
      ],
      "execution_count": null,
      "outputs": [
        {
          "output_type": "stream",
          "name": "stdout",
          "text": [
            "4/4 [==============================] - 1s 268ms/step - loss: 3.9229 - accuracy: 0.4000\n",
            "loss & accuracy on adversarial examples:  [3.9228830337524414, 0.4000000059604645]\n"
          ]
        }
      ]
    },
    {
      "cell_type": "code",
      "metadata": {
        "colab": {
          "base_uri": "https://localhost:8080/"
        },
        "id": "5rIczF7IlzpD",
        "outputId": "1ecb21f6-e6ff-4588-bf34-8ebebf89eaaf"
      },
      "source": [
        "collective_res={}\n",
        "collective_res['fgsm attack on defensively trained model (JPEG compression)']={'loss': perf[0], 'accuracy': perf[1]}\n",
        "print(collective_res)"
      ],
      "execution_count": null,
      "outputs": [
        {
          "output_type": "stream",
          "name": "stdout",
          "text": [
            "{'fgsm attack on defensively trained model (JPEG compression)': {'loss': 3.9228830337524414, 'accuracy': 0.4000000059604645}}\n"
          ]
        }
      ]
    },
    {
      "cell_type": "code",
      "metadata": {
        "colab": {
          "base_uri": "https://localhost:8080/"
        },
        "id": "hFofSs_LlzpD",
        "outputId": "7fc24752-fd0a-4ff2-93b4-0b11214be428"
      },
      "source": [
        "# Append the results of this attack to the pickle file storing the collective results\n",
        "\n",
        "file_to_read = open(\"/content/drive/MyDrive/spai/defense_results.pickle\", \"rb\")\n",
        "\n",
        "collective_res_pre = pickle.load(file_to_read)\n",
        "file_to_read.close()\n",
        "collective_res_pre['fgsm attack on defensively trained model (JPEG compression)']={'loss': perf[0], 'accuracy': perf[1]}\n",
        "print(collective_res_pre)\n",
        "\n",
        "# pickle the updated dictionary again\n",
        "f = open(\"/content/drive/MyDrive/spai/defense_results.pickle\", \"wb\")\n",
        "pickle.dump(collective_res_pre, f)\n",
        "f.close()"
      ],
      "execution_count": null,
      "outputs": [
        {
          "output_type": "stream",
          "name": "stdout",
          "text": [
            "{'fgsm attack on defensively trained model (feature squeezing)': {'loss': 3.9228830337524414, 'accuracy': 0.4000000059604645}, 'fgsm attack on defensively trained model (JPEG compression)': {'loss': 3.9228830337524414, 'accuracy': 0.4000000059604645}, 'fgsm attack on defensively trained model (Gaussian data augmentation)': {'loss': 3.9228830337524414, 'accuracy': 0.4000000059604645}}\n"
          ]
        }
      ]
    },
    {
      "cell_type": "code",
      "metadata": {
        "colab": {
          "base_uri": "https://localhost:8080/",
          "height": 82,
          "referenced_widgets": [
            "3ca75c34d23249789db18595cf2bc0d2",
            "5cdc251211b54a4986cbfc81a5bf1ff7",
            "4bab3ba971e24af5bd0dd508bd69f444",
            "d509727cc44541bb87b9b8dc1c4cc5fa",
            "c2536826b86d4836804d6ea7007e8a4f",
            "a59cf51b4a364745955cc3e0f286ee6d",
            "7224ce834e0f4fc58df0f02f802267ed",
            "75334f757178483eb3ed501e72d0a847",
            "8028ff23290f4f3a9ce43a827339d87a",
            "cdc65b3b100c4391a12673e48be681a0",
            "40f2bf63c4d44a2e9410597e2b6844a0"
          ]
        },
        "id": "1R35zlVX3_fY",
        "outputId": "0c218172-9717-47b7-a449-993ba4f74fa0"
      },
      "source": [
        "# Trying Jacobian Saliency map attack\n",
        "from art.attacks.evasion import SaliencyMapMethod\n",
        "\n",
        "sample_test, sample_label=candidate_data(x_test, y_test, 10)\n",
        "jsm_attack = SaliencyMapMethod(artclassifier2, theta=0.1, gamma=1.0, batch_size=20)\n",
        "\n",
        "x_test_adv=jsm_attack.generate(sample_test)\n",
        "\n",
        "# checking the performance of adverserial examples on the model trained with defensively robust samples\n",
        "perf =  classifier.evaluate(x_test_adv, sample_label)\n",
        "print( 'loss & accuracy on adversarial examples: ', perf )"
      ],
      "execution_count": null,
      "outputs": [
        {
          "output_type": "display_data",
          "data": {
            "application/vnd.jupyter.widget-view+json": {
              "model_id": "3ca75c34d23249789db18595cf2bc0d2",
              "version_minor": 0,
              "version_major": 2
            },
            "text/plain": [
              "JSMA:   0%|          | 0/5 [00:00<?, ?it/s]"
            ]
          },
          "metadata": {}
        },
        {
          "output_type": "stream",
          "name": "stdout",
          "text": [
            "4/4 [==============================] - 1s 271ms/step - loss: 1.1871 - accuracy: 0.0000e+00\n",
            "loss & accuracy on adversarial examples:  [1.1871191263198853, 0.0]\n"
          ]
        }
      ]
    },
    {
      "cell_type": "code",
      "metadata": {
        "colab": {
          "base_uri": "https://localhost:8080/"
        },
        "id": "uw8TXSGz3_fb",
        "outputId": "d02579fb-37a7-47f8-8263-0bc437cbd935"
      },
      "source": [
        "collective_res={}\n",
        "collective_res['jsm attack on defensively trained model (Jpeg compression)']={'loss': perf[0], 'accuracy': perf[1]}\n",
        "print(collective_res)"
      ],
      "execution_count": null,
      "outputs": [
        {
          "output_type": "stream",
          "name": "stdout",
          "text": [
            "{'jsm attack on defensively trained model (Jpeg compression)': {'loss': 1.1871191263198853, 'accuracy': 0.0}}\n"
          ]
        }
      ]
    },
    {
      "cell_type": "code",
      "metadata": {
        "colab": {
          "base_uri": "https://localhost:8080/"
        },
        "id": "JV7KHRr83_fb",
        "outputId": "b70beee8-60a7-4a89-c7e4-b15c249b3145"
      },
      "source": [
        "# Append the results of this attack to the pickle file storing the collective results\n",
        "\n",
        "file_to_read = open(\"/content/drive/MyDrive/spai/defense_results.pickle\", \"rb\")\n",
        "\n",
        "collective_res_pre = pickle.load(file_to_read)\n",
        "file_to_read.close()\n",
        "collective_res_pre['jsm attack on defensively trained model (Gaussian Augmentation)']={'loss': perf[0], 'accuracy': perf[1]}\n",
        "print(collective_res_pre)\n",
        "\n",
        "# pickle the updated dictionary again\n",
        "f = open(\"/content/drive/MyDrive/spai/defense_results.pickle\", \"wb\")\n",
        "pickle.dump(collective_res_pre, f)\n",
        "f.close()"
      ],
      "execution_count": null,
      "outputs": [
        {
          "output_type": "stream",
          "name": "stdout",
          "text": [
            "{'fgsm attack on defensively trained model (feature squeezing)': {'loss': 3.9228830337524414, 'accuracy': 0.4000000059604645}, 'fgsm attack on defensively trained model (JPEG compression)': {'loss': 3.9228830337524414, 'accuracy': 0.4000000059604645}, 'fgsm attack on defensively trained model (Gaussian data augmentation)': {'loss': 3.9228830337524414, 'accuracy': 0.4000000059604645}, 'fgsm attack on defensively trained model (spatial smoothing)': {'loss': 3.9228835105895996, 'accuracy': 0.4000000059604645}, 'fgsm attack on defensively trained model (total variance minimization)': {'loss': 3.9228835105895996, 'accuracy': 0.4000000059604645}, 'jsm attack on defensively trained model (feature squeezing)': {'loss': 1.2059839963912964, 'accuracy': 0.009999999776482582}, 'jsm attack on defensively trained model (Gaussian Augmentation)': {'loss': 1.2475407123565674, 'accuracy': 0.019999999552965164}}\n"
          ]
        }
      ]
    },
    {
      "cell_type": "markdown",
      "metadata": {
        "id": "-rI8B7BomkYz"
      },
      "source": [
        "## Label smoothing"
      ]
    },
    {
      "cell_type": "code",
      "metadata": {
        "id": "8uecEGkCmn8x"
      },
      "source": [
        "from art.defences.preprocessor import LabelSmoothing\n",
        "lbsm_def = LabelSmoothing(max_value = 0.9, apply_fit = True, apply_predict = False)"
      ],
      "execution_count": null,
      "outputs": []
    },
    {
      "cell_type": "code",
      "metadata": {
        "id": "qMTx07jEmu2L"
      },
      "source": [
        "x_def,y_def = lbsm_def.__call__(x=x_train,y=y_train)"
      ],
      "execution_count": null,
      "outputs": []
    },
    {
      "cell_type": "markdown",
      "metadata": {
        "id": "z6_igV0Fmu2L"
      },
      "source": [
        "Load the model afresh"
      ]
    },
    {
      "cell_type": "code",
      "metadata": {
        "id": "vbqSm6ytmu2L"
      },
      "source": [
        "# # using keras to load the given model\n",
        "hub_url = \"https://tfhub.dev/deepmind/ganeval-cifar10-convnet/1\"\n",
        "model = hub.load(hub_url)\n",
        "\n",
        "classifier = tf.keras.Sequential()\n",
        "classifier.add(tf.keras.layers.InputLayer(input_shape=(32,32,3)))\n",
        "# classifier.add(hub.KerasLayer(model.signatures['default']))\n",
        "classifier.add(hub.KerasLayer(hub_url, signature='default'))\n",
        "classifier.add(tf.keras.layers.Activation('softmax'))\n",
        "\n",
        "classifier.compile(optimizer=tf.keras.optimizers.SGD(learning_rate=0.1, momentum=0.9, decay=1e-4), loss=tf.keras.losses.CategoricalCrossentropy(), metrics=['accuracy'])"
      ],
      "execution_count": null,
      "outputs": []
    },
    {
      "cell_type": "markdown",
      "metadata": {
        "id": "qhNvYaCQmu2L"
      },
      "source": [
        "We train the model with the defensive samples generated above"
      ]
    },
    {
      "cell_type": "code",
      "metadata": {
        "colab": {
          "base_uri": "https://localhost:8080/"
        },
        "id": "oDcBTYJZmu2L",
        "outputId": "b47ed9ed-c683-4adc-b776-14c81fa50c7d"
      },
      "source": [
        "classifier.fit(x_def,y_def)"
      ],
      "execution_count": null,
      "outputs": [
        {
          "output_type": "stream",
          "name": "stdout",
          "text": [
            "1563/1563 [==============================] - 599s 383ms/step - loss: 1.2624 - accuracy: 1.0000\n"
          ]
        },
        {
          "output_type": "execute_result",
          "data": {
            "text/plain": [
              "<keras.callbacks.History at 0x7f41f5852250>"
            ]
          },
          "metadata": {},
          "execution_count": 43
        }
      ]
    },
    {
      "cell_type": "code",
      "metadata": {
        "id": "PvNKIxLvmu2M"
      },
      "source": [
        "# Create a ART TensorFlow v2 classifier for the target TensorFlow model\n",
        "artclassifier2 = TensorFlowV2Classifier(model=classifier2, nb_classes=10, input_shape=(32, 32, 3), loss_object=classifier2.loss, \n",
        "                                    clip_values=(0, 1), channels_first=False)"
      ],
      "execution_count": null,
      "outputs": []
    },
    {
      "cell_type": "code",
      "metadata": {
        "colab": {
          "base_uri": "https://localhost:8080/"
        },
        "id": "RJnW6XLhmu2M",
        "outputId": "1e220654-223b-415e-ec80-36fe47291521"
      },
      "source": [
        "# White box evasion attack\n",
        "\n",
        "from art.attacks.evasion import FastGradientMethod\n",
        "\n",
        "sample_test, sample_label=candidate_data(x_test, y_test, 10)\n",
        "fgsm_attack = FastGradientMethod(artclassifier2, targeted=False, eps_step=0.001, eps=0.01)\n",
        "\n",
        "# report, x_test_adv, predictions = implement_attack(classifier, fgsm_attack, sample_test=sample_test, test_labels=sample_label, attack_name='fgsm attack on defensively trained model')\n",
        "# perturbation = np.mean(np.abs((x_test_adv - sample_test)))\n",
        "# report['perturbation']=perturbation\n",
        "\n",
        "# collective_res[report['Attack']]=report\n",
        "# generate adverserial samples\n",
        "x_test_adv=fgsm_attack.generate(sample_test)\n",
        "\n",
        "# checking the performance of adverserial examples on the model trained with defensively robust samples\n",
        "perf =  classifier.evaluate(x_test_adv, sample_label)\n",
        "print( 'loss & accuracy on adversarial examples: ', perf )"
      ],
      "execution_count": null,
      "outputs": [
        {
          "output_type": "stream",
          "name": "stdout",
          "text": [
            "4/4 [==============================] - 1s 272ms/step - loss: 3.9229 - accuracy: 0.4000\n",
            "loss & accuracy on adversarial examples:  [3.9228830337524414, 0.4000000059604645]\n"
          ]
        }
      ]
    },
    {
      "cell_type": "code",
      "metadata": {
        "colab": {
          "base_uri": "https://localhost:8080/"
        },
        "id": "lbHgWhqOmu2M",
        "outputId": "86f2b7e6-4198-463f-a280-6abde0286d6f"
      },
      "source": [
        "collective_res={}\n",
        "collective_res['fgsm attack on defensively trained model (Label smoothing)']={'loss': perf[0], 'accuracy': perf[1]}\n",
        "print(collective_res)"
      ],
      "execution_count": null,
      "outputs": [
        {
          "output_type": "stream",
          "name": "stdout",
          "text": [
            "{'fgsm attack on defensively trained model (Label smoothing)': {'loss': 3.9228830337524414, 'accuracy': 0.4000000059604645}}\n"
          ]
        }
      ]
    },
    {
      "cell_type": "code",
      "metadata": {
        "colab": {
          "base_uri": "https://localhost:8080/"
        },
        "id": "1V1oWwoOmu2M",
        "outputId": "bd68868a-dbe4-4a60-f151-65da1aff3d4e"
      },
      "source": [
        "# Append the results of this attack to the pickle file storing the collective results\n",
        "\n",
        "file_to_read = open(\"/content/drive/MyDrive/spai/defense_results.pickle\", \"rb\")\n",
        "\n",
        "collective_res_pre = pickle.load(file_to_read)\n",
        "file_to_read.close()\n",
        "collective_res_pre['fgsm attack on defensively trained model (JPEG compression)']={'loss': perf[0], 'accuracy': perf[1]}\n",
        "print(collective_res_pre)\n",
        "\n",
        "# pickle the updated dictionary again\n",
        "f = open(\"/content/drive/MyDrive/spai/defense_results.pickle\", \"wb\")\n",
        "pickle.dump(collective_res_pre, f)\n",
        "f.close()"
      ],
      "execution_count": null,
      "outputs": [
        {
          "output_type": "stream",
          "name": "stdout",
          "text": [
            "{'fgsm attack on defensively trained model (feature squeezing)': {'loss': 3.9228830337524414, 'accuracy': 0.4000000059604645}, 'fgsm attack on defensively trained model (JPEG compression)': {'loss': 3.9228830337524414, 'accuracy': 0.4000000059604645}, 'fgsm attack on defensively trained model (Gaussian data augmentation)': {'loss': 3.9228830337524414, 'accuracy': 0.4000000059604645}}\n"
          ]
        }
      ]
    },
    {
      "cell_type": "code",
      "metadata": {
        "colab": {
          "base_uri": "https://localhost:8080/",
          "height": 82,
          "referenced_widgets": [
            "fb7392d9f567434b8d60cd1d4a4ce57e",
            "7ea9b5f908154991ac176db1f71fd74c",
            "7bbd9807c0554c2c893f8e296d714610",
            "9d114b10b9834351ad2e3b43dd814218",
            "bf8f4e181e134e6fa26ec84bf77a5907",
            "d4e02383a7c54855bb2e37bc66549a5d",
            "11d92179191b4beeb70f609ed18716da",
            "7024a9f645a54aba9160173754023c44",
            "51c66ff8dbf94d819344bc8afa5cf239",
            "5bffd9dfc2124acb999db3afe6ea6e45",
            "1d622d0cd9cb4a63a02ee06cae23a0f8"
          ]
        },
        "id": "_6ZtqYAq_v7m",
        "outputId": "c68b956e-499d-4c09-f7fd-2b84f120ca19"
      },
      "source": [
        "# Trying Jacobian Saliency map attack\n",
        "from art.attacks.evasion import SaliencyMapMethod\n",
        "\n",
        "sample_test, sample_label=candidate_data(x_test, y_test, 10)\n",
        "jsm_attack = SaliencyMapMethod(artclassifier2, theta=0.1, gamma=1.0, batch_size=20)\n",
        "\n",
        "x_test_adv=jsm_attack.generate(sample_test)\n",
        "\n",
        "# checking the performance of adverserial examples on the model trained with defensively robust samples\n",
        "perf =  classifier.evaluate(x_test_adv, sample_label)\n",
        "print( 'loss & accuracy on adversarial examples: ', perf )"
      ],
      "execution_count": null,
      "outputs": [
        {
          "output_type": "display_data",
          "data": {
            "application/vnd.jupyter.widget-view+json": {
              "model_id": "fb7392d9f567434b8d60cd1d4a4ce57e",
              "version_minor": 0,
              "version_major": 2
            },
            "text/plain": [
              "JSMA:   0%|          | 0/5 [00:00<?, ?it/s]"
            ]
          },
          "metadata": {}
        },
        {
          "output_type": "stream",
          "name": "stdout",
          "text": [
            "4/4 [==============================] - 1s 276ms/step - loss: 1.2322 - accuracy: 0.0100\n",
            "loss & accuracy on adversarial examples:  [1.2321867942810059, 0.009999999776482582]\n"
          ]
        }
      ]
    },
    {
      "cell_type": "code",
      "metadata": {
        "colab": {
          "base_uri": "https://localhost:8080/"
        },
        "id": "gn-tQax5_v7o",
        "outputId": "5a5fd051-5104-4c4d-a8ab-bc4e331a83db"
      },
      "source": [
        "collective_res={}\n",
        "collective_res['jsm attack on defensively trained model (Label smoothing)']={'loss': perf[0], 'accuracy': perf[1]}\n",
        "print(collective_res)"
      ],
      "execution_count": null,
      "outputs": [
        {
          "output_type": "stream",
          "name": "stdout",
          "text": [
            "{'jsm attack on defensively trained model (Label smoothing)': {'loss': 1.2321867942810059, 'accuracy': 0.009999999776482582}}\n"
          ]
        }
      ]
    },
    {
      "cell_type": "code",
      "metadata": {
        "colab": {
          "base_uri": "https://localhost:8080/"
        },
        "id": "3yQYwTi3_v7p",
        "outputId": "59a97d83-7d72-40b9-8a92-ffffcb1e0d0e"
      },
      "source": [
        "# Append the results of this attack to the pickle file storing the collective results\n",
        "\n",
        "file_to_read = open(\"/content/drive/MyDrive/spai/defense_results.pickle\", \"rb\")\n",
        "\n",
        "collective_res_pre = pickle.load(file_to_read)\n",
        "file_to_read.close()\n",
        "collective_res_pre['jsm attack on defensively trained model (Label smoothing)']={'loss': perf[0], 'accuracy': perf[1]}\n",
        "print(collective_res_pre)\n",
        "\n",
        "# pickle the updated dictionary again\n",
        "f = open(\"/content/drive/MyDrive/spai/defense_results.pickle\", \"wb\")\n",
        "pickle.dump(collective_res_pre, f)\n",
        "f.close()"
      ],
      "execution_count": null,
      "outputs": [
        {
          "output_type": "stream",
          "name": "stdout",
          "text": [
            "{'fgsm attack on defensively trained model (feature squeezing)': {'loss': 3.9228830337524414, 'accuracy': 0.4000000059604645}, 'fgsm attack on defensively trained model (JPEG compression)': {'loss': 3.9228830337524414, 'accuracy': 0.4000000059604645}, 'fgsm attack on defensively trained model (Gaussian data augmentation)': {'loss': 3.9228830337524414, 'accuracy': 0.4000000059604645}, 'fgsm attack on defensively trained model (spatial smoothing)': {'loss': 3.9228835105895996, 'accuracy': 0.4000000059604645}, 'fgsm attack on defensively trained model (total variance minimization)': {'loss': 3.9228835105895996, 'accuracy': 0.4000000059604645}, 'jsm attack on defensively trained model (feature squeezing)': {'loss': 1.2059839963912964, 'accuracy': 0.009999999776482582}, 'jsm attack on defensively trained model (Gaussian Augmentation)': {'loss': 1.2475407123565674, 'accuracy': 0.019999999552965164}, 'jsm attack on defensively trained model (Label smoothing)': {'loss': 1.2321867942810059, 'accuracy': 0.009999999776482582}}\n"
          ]
        }
      ]
    },
    {
      "cell_type": "markdown",
      "metadata": {
        "id": "iJfblXqNkqiY"
      },
      "source": [
        "## Pixel Defend (??)"
      ]
    },
    {
      "cell_type": "code",
      "metadata": {
        "colab": {
          "base_uri": "https://localhost:8080/",
          "height": 320
        },
        "id": "8Xk8Ek0Yk3N2",
        "outputId": "9f7384f6-fd37-4a3c-fab1-d8a105b020da"
      },
      "source": [
        "from art.defences.preprocessor import PixelDefend\n",
        "pixel_def = PixelDefend(pixel_cnn=None,clip_values=(0,1), apply_fit = True, apply_predict = False)"
      ],
      "execution_count": null,
      "outputs": [
        {
          "output_type": "error",
          "ename": "TypeError",
          "evalue": "ignored",
          "traceback": [
            "\u001b[0;31m---------------------------------------------------------------------------\u001b[0m",
            "\u001b[0;31mTypeError\u001b[0m                                 Traceback (most recent call last)",
            "\u001b[0;32m<ipython-input-15-841a27dbad48>\u001b[0m in \u001b[0;36m<module>\u001b[0;34m()\u001b[0m\n\u001b[1;32m      1\u001b[0m \u001b[0;32mfrom\u001b[0m \u001b[0mart\u001b[0m\u001b[0;34m.\u001b[0m\u001b[0mdefences\u001b[0m\u001b[0;34m.\u001b[0m\u001b[0mpreprocessor\u001b[0m \u001b[0;32mimport\u001b[0m \u001b[0mPixelDefend\u001b[0m\u001b[0;34m\u001b[0m\u001b[0;34m\u001b[0m\u001b[0m\n\u001b[0;32m----> 2\u001b[0;31m \u001b[0mpixel_def\u001b[0m \u001b[0;34m=\u001b[0m \u001b[0mPixelDefend\u001b[0m\u001b[0;34m(\u001b[0m\u001b[0mpixel_cnn\u001b[0m\u001b[0;34m=\u001b[0m\u001b[0;32mNone\u001b[0m\u001b[0;34m,\u001b[0m\u001b[0mclip_values\u001b[0m\u001b[0;34m=\u001b[0m\u001b[0;34m(\u001b[0m\u001b[0;36m0\u001b[0m\u001b[0;34m,\u001b[0m\u001b[0;36m1\u001b[0m\u001b[0;34m)\u001b[0m\u001b[0;34m,\u001b[0m \u001b[0mapply_fit\u001b[0m \u001b[0;34m=\u001b[0m \u001b[0;32mTrue\u001b[0m\u001b[0;34m,\u001b[0m \u001b[0mapply_predict\u001b[0m \u001b[0;34m=\u001b[0m \u001b[0;32mFalse\u001b[0m\u001b[0;34m)\u001b[0m\u001b[0;34m\u001b[0m\u001b[0;34m\u001b[0m\u001b[0m\n\u001b[0m",
            "\u001b[0;32m/usr/local/lib/python3.7/dist-packages/art/defences/preprocessor/pixel_defend.py\u001b[0m in \u001b[0;36m__init__\u001b[0;34m(self, clip_values, eps, pixel_cnn, batch_size, apply_fit, apply_predict, verbose)\u001b[0m\n\u001b[1;32m     82\u001b[0m         \u001b[0mself\u001b[0m\u001b[0;34m.\u001b[0m\u001b[0mpixel_cnn\u001b[0m \u001b[0;34m=\u001b[0m \u001b[0mpixel_cnn\u001b[0m\u001b[0;34m\u001b[0m\u001b[0;34m\u001b[0m\u001b[0m\n\u001b[1;32m     83\u001b[0m         \u001b[0mself\u001b[0m\u001b[0;34m.\u001b[0m\u001b[0mverbose\u001b[0m \u001b[0;34m=\u001b[0m \u001b[0mverbose\u001b[0m\u001b[0;34m\u001b[0m\u001b[0;34m\u001b[0m\u001b[0m\n\u001b[0;32m---> 84\u001b[0;31m         \u001b[0mself\u001b[0m\u001b[0;34m.\u001b[0m\u001b[0m_check_params\u001b[0m\u001b[0;34m(\u001b[0m\u001b[0;34m)\u001b[0m\u001b[0;34m\u001b[0m\u001b[0;34m\u001b[0m\u001b[0m\n\u001b[0m\u001b[1;32m     85\u001b[0m \u001b[0;34m\u001b[0m\u001b[0m\n\u001b[1;32m     86\u001b[0m     \u001b[0;32mdef\u001b[0m \u001b[0m__call__\u001b[0m\u001b[0;34m(\u001b[0m\u001b[0mself\u001b[0m\u001b[0;34m,\u001b[0m \u001b[0mx\u001b[0m\u001b[0;34m:\u001b[0m \u001b[0mnp\u001b[0m\u001b[0;34m.\u001b[0m\u001b[0mndarray\u001b[0m\u001b[0;34m,\u001b[0m \u001b[0my\u001b[0m\u001b[0;34m:\u001b[0m \u001b[0mOptional\u001b[0m\u001b[0;34m[\u001b[0m\u001b[0mnp\u001b[0m\u001b[0;34m.\u001b[0m\u001b[0mndarray\u001b[0m\u001b[0;34m]\u001b[0m \u001b[0;34m=\u001b[0m \u001b[0;32mNone\u001b[0m\u001b[0;34m)\u001b[0m \u001b[0;34m->\u001b[0m \u001b[0mTuple\u001b[0m\u001b[0;34m[\u001b[0m\u001b[0mnp\u001b[0m\u001b[0;34m.\u001b[0m\u001b[0mndarray\u001b[0m\u001b[0;34m,\u001b[0m \u001b[0mOptional\u001b[0m\u001b[0;34m[\u001b[0m\u001b[0mnp\u001b[0m\u001b[0;34m.\u001b[0m\u001b[0mndarray\u001b[0m\u001b[0;34m]\u001b[0m\u001b[0;34m]\u001b[0m\u001b[0;34m:\u001b[0m\u001b[0;34m\u001b[0m\u001b[0;34m\u001b[0m\u001b[0m\n",
            "\u001b[0;32m/usr/local/lib/python3.7/dist-packages/art/defences/preprocessor/pixel_defend.py\u001b[0m in \u001b[0;36m_check_params\u001b[0;34m(self)\u001b[0m\n\u001b[1;32m    152\u001b[0m             \u001b[0misinstance\u001b[0m\u001b[0;34m(\u001b[0m\u001b[0mself\u001b[0m\u001b[0;34m.\u001b[0m\u001b[0mpixel_cnn\u001b[0m\u001b[0;34m,\u001b[0m \u001b[0mClassifierMixin\u001b[0m\u001b[0;34m)\u001b[0m \u001b[0;32mand\u001b[0m \u001b[0misinstance\u001b[0m\u001b[0;34m(\u001b[0m\u001b[0mself\u001b[0m\u001b[0;34m.\u001b[0m\u001b[0mpixel_cnn\u001b[0m\u001b[0;34m,\u001b[0m \u001b[0mNeuralNetworkMixin\u001b[0m\u001b[0;34m)\u001b[0m\u001b[0;34m\u001b[0m\u001b[0;34m\u001b[0m\u001b[0m\n\u001b[1;32m    153\u001b[0m         ):\n\u001b[0;32m--> 154\u001b[0;31m             \u001b[0;32mraise\u001b[0m \u001b[0mTypeError\u001b[0m\u001b[0;34m(\u001b[0m\u001b[0;34m\"PixelCNN model must be of type Classifier.\"\u001b[0m\u001b[0;34m)\u001b[0m\u001b[0;34m\u001b[0m\u001b[0;34m\u001b[0m\u001b[0m\n\u001b[0m\u001b[1;32m    155\u001b[0m \u001b[0;34m\u001b[0m\u001b[0m\n\u001b[1;32m    156\u001b[0m         \u001b[0;32mif\u001b[0m \u001b[0mnp\u001b[0m\u001b[0;34m.\u001b[0m\u001b[0marray\u001b[0m\u001b[0;34m(\u001b[0m\u001b[0mself\u001b[0m\u001b[0;34m.\u001b[0m\u001b[0mclip_values\u001b[0m\u001b[0;34m[\u001b[0m\u001b[0;36m0\u001b[0m\u001b[0;34m]\u001b[0m \u001b[0;34m>=\u001b[0m \u001b[0mself\u001b[0m\u001b[0;34m.\u001b[0m\u001b[0mclip_values\u001b[0m\u001b[0;34m[\u001b[0m\u001b[0;36m1\u001b[0m\u001b[0;34m]\u001b[0m\u001b[0;34m)\u001b[0m\u001b[0;34m.\u001b[0m\u001b[0many\u001b[0m\u001b[0;34m(\u001b[0m\u001b[0;34m)\u001b[0m\u001b[0;34m:\u001b[0m\u001b[0;34m\u001b[0m\u001b[0;34m\u001b[0m\u001b[0m\n",
            "\u001b[0;31mTypeError\u001b[0m: PixelCNN model must be of type Classifier."
          ]
        }
      ]
    },
    {
      "cell_type": "code",
      "metadata": {
        "id": "k5ZYc0a4k3N2"
      },
      "source": [
        "x_def,y_def = lbsm_def.__call__(x=x_train,y=y_train)"
      ],
      "execution_count": null,
      "outputs": []
    },
    {
      "cell_type": "markdown",
      "metadata": {
        "id": "se8VhSoAk3N3"
      },
      "source": [
        "Load the model afresh"
      ]
    },
    {
      "cell_type": "code",
      "metadata": {
        "id": "ubNJ0nVzk3N3"
      },
      "source": [
        "# # using keras to load the given model\n",
        "hub_url = \"https://tfhub.dev/deepmind/ganeval-cifar10-convnet/1\"\n",
        "model = hub.load(hub_url)\n",
        "\n",
        "classifier = tf.keras.Sequential()\n",
        "classifier.add(tf.keras.layers.InputLayer(input_shape=(32,32,3)))\n",
        "# classifier.add(hub.KerasLayer(model.signatures['default']))\n",
        "classifier.add(hub.KerasLayer(hub_url, signature='default'))\n",
        "classifier.add(tf.keras.layers.Activation('softmax'))\n",
        "\n",
        "classifier.compile(optimizer=tf.keras.optimizers.SGD(learning_rate=0.1, momentum=0.9, decay=1e-4), loss=tf.keras.losses.CategoricalCrossentropy(), metrics=['accuracy'])"
      ],
      "execution_count": null,
      "outputs": []
    },
    {
      "cell_type": "markdown",
      "metadata": {
        "id": "WPxd0QO9k3N3"
      },
      "source": [
        "We train the model with the defensive samples generated above"
      ]
    },
    {
      "cell_type": "code",
      "metadata": {
        "colab": {
          "base_uri": "https://localhost:8080/"
        },
        "id": "84xbLw12k3N3",
        "outputId": "f83b483a-d716-45a2-e8ba-c057265bb3f9"
      },
      "source": [
        "classifier.fit(x_def,y_def)"
      ],
      "execution_count": null,
      "outputs": [
        {
          "output_type": "stream",
          "name": "stdout",
          "text": [
            "1563/1563 [==============================] - 598s 382ms/step - loss: 1.2624 - accuracy: 1.0000\n"
          ]
        },
        {
          "output_type": "execute_result",
          "data": {
            "text/plain": [
              "<keras.callbacks.History at 0x7fa49f542590>"
            ]
          },
          "metadata": {},
          "execution_count": 62
        }
      ]
    },
    {
      "cell_type": "code",
      "metadata": {
        "id": "cl269H4Ck3N3"
      },
      "source": [
        "# Create a ART TensorFlow v2 classifier for the target TensorFlow model\n",
        "artclassifier = TensorFlowV2Classifier(model=classifier, nb_classes=10, input_shape=(32, 32, 3), loss_object=classifier.loss, \n",
        "                                    clip_values=(0, 1), channels_first=False)"
      ],
      "execution_count": null,
      "outputs": []
    },
    {
      "cell_type": "code",
      "metadata": {
        "colab": {
          "base_uri": "https://localhost:8080/"
        },
        "id": "Jew9psUDk3N3",
        "outputId": "1e220654-223b-415e-ec80-36fe47291521"
      },
      "source": [
        "# White box evasion attack\n",
        "\n",
        "from art.attacks.evasion import FastGradientMethod\n",
        "\n",
        "sample_test, sample_label=candidate_data(x_test, y_test, 10)\n",
        "fgsm_attack = FastGradientMethod(artclassifier, targeted=False, eps_step=0.001, eps=0.01)\n",
        "\n",
        "# report, x_test_adv, predictions = implement_attack(classifier, fgsm_attack, sample_test=sample_test, test_labels=sample_label, attack_name='fgsm attack on defensively trained model')\n",
        "# perturbation = np.mean(np.abs((x_test_adv - sample_test)))\n",
        "# report['perturbation']=perturbation\n",
        "\n",
        "# collective_res[report['Attack']]=report\n",
        "# generate adverserial samples\n",
        "x_test_adv=fgsm_attack.generate(sample_test)\n",
        "\n",
        "# classifier.evaluate(x_test_adv, )\n",
        "perf =  classifier.evaluate(x_test_adv, sample_label)\n",
        "print( 'loss & accuracy on adversarial examples: ', perf )"
      ],
      "execution_count": null,
      "outputs": [
        {
          "output_type": "stream",
          "name": "stdout",
          "text": [
            "4/4 [==============================] - 1s 272ms/step - loss: 3.9229 - accuracy: 0.4000\n",
            "loss & accuracy on adversarial examples:  [3.9228830337524414, 0.4000000059604645]\n"
          ]
        }
      ]
    },
    {
      "cell_type": "code",
      "metadata": {
        "colab": {
          "base_uri": "https://localhost:8080/"
        },
        "id": "ZsJb9i1uk3N3",
        "outputId": "86f2b7e6-4198-463f-a280-6abde0286d6f"
      },
      "source": [
        "collective_res={}\n",
        "collective_res['fgsm attack on defensively trained model (Label smoothing)']={'loss': perf[0], 'accuracy': perf[1]}\n",
        "print(collective_res)"
      ],
      "execution_count": null,
      "outputs": [
        {
          "output_type": "stream",
          "name": "stdout",
          "text": [
            "{'fgsm attack on defensively trained model (Label smoothing)': {'loss': 3.9228830337524414, 'accuracy': 0.4000000059604645}}\n"
          ]
        }
      ]
    },
    {
      "cell_type": "code",
      "metadata": {
        "colab": {
          "base_uri": "https://localhost:8080/"
        },
        "id": "CPoNMiyQk3N3",
        "outputId": "bd68868a-dbe4-4a60-f151-65da1aff3d4e"
      },
      "source": [
        "# Append the results of this attack to the pickle file storing the collective results\n",
        "\n",
        "file_to_read = open(\"/content/drive/MyDrive/spai/defense_results.pickle\", \"rb\")\n",
        "\n",
        "collective_res_pre = pickle.load(file_to_read)\n",
        "file_to_read.close()\n",
        "collective_res_pre['fgsm attack on defensively trained model (JPEG compression)']={'loss': perf[0], 'accuracy': perf[1]}\n",
        "print(collective_res_pre)\n",
        "\n",
        "# pickle the updated dictionary again\n",
        "f = open(\"/content/drive/MyDrive/spai/defense_results.pickle\", \"wb\")\n",
        "pickle.dump(collective_res_pre, f)\n",
        "f.close()"
      ],
      "execution_count": null,
      "outputs": [
        {
          "output_type": "stream",
          "name": "stdout",
          "text": [
            "{'fgsm attack on defensively trained model (feature squeezing)': {'loss': 3.9228830337524414, 'accuracy': 0.4000000059604645}, 'fgsm attack on defensively trained model (JPEG compression)': {'loss': 3.9228830337524414, 'accuracy': 0.4000000059604645}, 'fgsm attack on defensively trained model (Gaussian data augmentation)': {'loss': 3.9228830337524414, 'accuracy': 0.4000000059604645}}\n"
          ]
        }
      ]
    },
    {
      "cell_type": "markdown",
      "metadata": {
        "id": "2SZbuU0msJOb"
      },
      "source": [
        "## Spatial smoothing"
      ]
    },
    {
      "cell_type": "code",
      "metadata": {
        "id": "bWSQMEbxsRsB"
      },
      "source": [
        "from art.defences.preprocessor import SpatialSmoothing\n",
        "spsmooth_def = SpatialSmoothing(window_size=3, clip_values=(0,1), apply_fit = True, apply_predict = False)"
      ],
      "execution_count": null,
      "outputs": []
    },
    {
      "cell_type": "code",
      "metadata": {
        "id": "Eg1uqhIHsRsB"
      },
      "source": [
        "x_def,y_def = spsmooth_def.__call__(x=x_train,y=y_train)"
      ],
      "execution_count": null,
      "outputs": []
    },
    {
      "cell_type": "markdown",
      "metadata": {
        "id": "WGIFWevBsRsB"
      },
      "source": [
        "Load the model afresh"
      ]
    },
    {
      "cell_type": "code",
      "metadata": {
        "id": "GKQxpK0asRsB"
      },
      "source": [
        "# # using keras to load the given model\n",
        "hub_url = \"https://tfhub.dev/deepmind/ganeval-cifar10-convnet/1\"\n",
        "model = hub.load(hub_url)\n",
        "\n",
        "classifier = tf.keras.Sequential()\n",
        "classifier.add(tf.keras.layers.InputLayer(input_shape=(32,32,3)))\n",
        "# classifier.add(hub.KerasLayer(model.signatures['default']))\n",
        "classifier.add(hub.KerasLayer(hub_url, signature='default'))\n",
        "classifier.add(tf.keras.layers.Activation('softmax'))\n",
        "\n",
        "classifier.compile(optimizer=tf.keras.optimizers.SGD(learning_rate=0.1, momentum=0.9, decay=1e-4), loss=tf.keras.losses.CategoricalCrossentropy(), metrics=['accuracy'])"
      ],
      "execution_count": null,
      "outputs": []
    },
    {
      "cell_type": "markdown",
      "metadata": {
        "id": "56PMODWesRsC"
      },
      "source": [
        "We train the model with the defensive samples generated above"
      ]
    },
    {
      "cell_type": "code",
      "metadata": {
        "colab": {
          "base_uri": "https://localhost:8080/"
        },
        "id": "x2fJXGZosRsC",
        "outputId": "17ad9ae7-24bf-4ff7-a25d-52a2fb9e6dcf"
      },
      "source": [
        "classifier.fit(x_def,y_def)"
      ],
      "execution_count": null,
      "outputs": [
        {
          "output_type": "stream",
          "name": "stdout",
          "text": [
            "1563/1563 [==============================] - 584s 373ms/step - loss: 0.3276 - accuracy: 0.9020\n"
          ]
        },
        {
          "output_type": "execute_result",
          "data": {
            "text/plain": [
              "<keras.callbacks.History at 0x7f41f551f2d0>"
            ]
          },
          "metadata": {},
          "execution_count": 51
        }
      ]
    },
    {
      "cell_type": "code",
      "metadata": {
        "id": "ObHW1DKXsRsC"
      },
      "source": [
        "# Create a ART TensorFlow v2 classifier for the target TensorFlow model\n",
        "artclassifier2 = TensorFlowV2Classifier(model=classifier2, nb_classes=10, input_shape=(32, 32, 3), loss_object=classifier2.loss, \n",
        "                                    clip_values=(0, 1), channels_first=False)"
      ],
      "execution_count": null,
      "outputs": []
    },
    {
      "cell_type": "code",
      "metadata": {
        "colab": {
          "base_uri": "https://localhost:8080/"
        },
        "id": "hHUNu6KHsRsC",
        "outputId": "8a5051a7-22d5-4cdf-f2e6-16c2fb39e840"
      },
      "source": [
        "# White box evasion attack\n",
        "\n",
        "from art.attacks.evasion import FastGradientMethod\n",
        "\n",
        "sample_test, sample_label=candidate_data(x_test, y_test, 10)\n",
        "fgsm_attack = FastGradientMethod(artclassifier2, targeted=False, eps_step=0.001, eps=0.01)\n",
        "\n",
        "# report, x_test_adv, predictions = implement_attack(classifier, fgsm_attack, sample_test=sample_test, test_labels=sample_label, attack_name='fgsm attack on defensively trained model')\n",
        "# perturbation = np.mean(np.abs((x_test_adv - sample_test)))\n",
        "# report['perturbation']=perturbation\n",
        "\n",
        "# collective_res[report['Attack']]=report\n",
        "# generate adverserial samples\n",
        "x_test_adv=fgsm_attack.generate(sample_test)\n",
        "\n",
        "# classifier.evaluate(x_test_adv, )\n",
        "perf =  classifier.evaluate(x_test_adv, sample_label)\n",
        "print( 'loss & accuracy on adversarial examples: ', perf )"
      ],
      "execution_count": null,
      "outputs": [
        {
          "output_type": "stream",
          "name": "stdout",
          "text": [
            "4/4 [==============================] - 2s 276ms/step - loss: 3.9229 - accuracy: 0.4000\n",
            "loss & accuracy on adversarial examples:  [3.9228830337524414, 0.4000000059604645]\n"
          ]
        }
      ]
    },
    {
      "cell_type": "code",
      "metadata": {
        "colab": {
          "base_uri": "https://localhost:8080/"
        },
        "id": "Yz4xpN-asRsC",
        "outputId": "a42c668c-acd0-489c-c1a8-45fb0dae63fd"
      },
      "source": [
        "collective_res={}\n",
        "collective_res['fgsm attack on defensively trained model (Spatial smoothing)']={'loss': perf[0], 'accuracy': perf[1]}\n",
        "print(collective_res)"
      ],
      "execution_count": null,
      "outputs": [
        {
          "output_type": "stream",
          "name": "stdout",
          "text": [
            "{'fgsm attack on defensively trained model (Spatial smoothing)': {'loss': 3.9228830337524414, 'accuracy': 0.4000000059604645}}\n"
          ]
        }
      ]
    },
    {
      "cell_type": "code",
      "metadata": {
        "colab": {
          "base_uri": "https://localhost:8080/"
        },
        "id": "BKK6Tg1ysRsC",
        "outputId": "efc518bc-98f6-4e76-dc00-50a0bc4f8834"
      },
      "source": [
        "# Append the results of this attack to the pickle file storing the collective results\n",
        "\n",
        "file_to_read = open(\"/content/drive/MyDrive/spai/defense_results.pickle\", \"rb\")\n",
        "\n",
        "collective_res_pre = pickle.load(file_to_read)\n",
        "file_to_read.close()\n",
        "collective_res_pre['fgsm attack on defensively trained model (spatial smoothing)']={'loss': perf[0], 'accuracy': perf[1]}\n",
        "print(collective_res_pre)\n",
        "\n",
        "# pickle the updated dictionary again\n",
        "f = open(\"/content/drive/MyDrive/spai/defense_results.pickle\", \"wb\")\n",
        "pickle.dump(collective_res_pre, f)\n",
        "f.close()"
      ],
      "execution_count": null,
      "outputs": [
        {
          "output_type": "stream",
          "name": "stdout",
          "text": [
            "{'fgsm attack on defensively trained model (feature squeezing)': {'loss': 3.9228830337524414, 'accuracy': 0.4000000059604645}, 'fgsm attack on defensively trained model (JPEG compression)': {'loss': 3.9228830337524414, 'accuracy': 0.4000000059604645}, 'fgsm attack on defensively trained model (Gaussian data augmentation)': {'loss': 3.9228830337524414, 'accuracy': 0.4000000059604645}, 'fgsm attack on defensively trained model (spatial smoothing)': {'loss': 3.9228830337524414, 'accuracy': 0.4000000059604645}}\n"
          ]
        }
      ]
    },
    {
      "cell_type": "code",
      "metadata": {
        "colab": {
          "base_uri": "https://localhost:8080/",
          "height": 82,
          "referenced_widgets": [
            "b8b24e8abad443bb99c6f0ab3e705dc6",
            "52fc984fa96f4483842533769ab77ab8",
            "a65ac9773ad244659b239364eae14a91",
            "a54b562642414ad38dc0c4d8c0e8d252",
            "2c20f5cb140345d08649fb38103e583e",
            "6cdeada2a2db4eb2b1a3b32cada4b4a5",
            "24d7cea63b2b4ab887e70ac1d92648ab",
            "8d92abc584e34cbb95f10ec8b02f09b6",
            "932905cc6fd24a07a66c58487f707d67",
            "17e4d4fe36da49868a7f913a846edafd",
            "c91afd3a073e45fba95ce9afea7fa466"
          ]
        },
        "id": "0sLO8T9oJnmG",
        "outputId": "dcdb0270-7af0-41bb-846d-e97baa462ecb"
      },
      "source": [
        "# Trying Jacobian Saliency map attack\n",
        "from art.attacks.evasion import SaliencyMapMethod\n",
        "\n",
        "sample_test, sample_label=candidate_data(x_test, y_test, 10)\n",
        "jsm_attack = SaliencyMapMethod(artclassifier2, theta=0.1, gamma=1.0, batch_size=20)\n",
        "\n",
        "x_test_adv=jsm_attack.generate(sample_test)\n",
        "\n",
        "# checking the performance of adverserial examples on the model trained with defensively robust samples\n",
        "perf =  classifier.evaluate(x_test_adv, sample_label)\n",
        "print( 'loss & accuracy on adversarial examples: ', perf )"
      ],
      "execution_count": null,
      "outputs": [
        {
          "output_type": "display_data",
          "data": {
            "application/vnd.jupyter.widget-view+json": {
              "model_id": "b8b24e8abad443bb99c6f0ab3e705dc6",
              "version_minor": 0,
              "version_major": 2
            },
            "text/plain": [
              "JSMA:   0%|          | 0/5 [00:00<?, ?it/s]"
            ]
          },
          "metadata": {}
        },
        {
          "output_type": "stream",
          "name": "stdout",
          "text": [
            "4/4 [==============================] - 1s 277ms/step - loss: 1.2332 - accuracy: 0.0000e+00\n",
            "loss & accuracy on adversarial examples:  [1.233214259147644, 0.0]\n"
          ]
        }
      ]
    },
    {
      "cell_type": "code",
      "metadata": {
        "colab": {
          "base_uri": "https://localhost:8080/"
        },
        "id": "676YptXmJnmH",
        "outputId": "d6e11427-583e-4d7f-dd15-a82231486fb7"
      },
      "source": [
        "collective_res={}\n",
        "collective_res['jsm attack on defensively trained model (Spatial smoothing)']={'loss': perf[0], 'accuracy': perf[1]}\n",
        "print(collective_res)"
      ],
      "execution_count": null,
      "outputs": [
        {
          "output_type": "stream",
          "name": "stdout",
          "text": [
            "{'jsm attack on defensively trained model (Spatial smoothing)': {'loss': 1.233214259147644, 'accuracy': 0.0}}\n"
          ]
        }
      ]
    },
    {
      "cell_type": "code",
      "metadata": {
        "colab": {
          "base_uri": "https://localhost:8080/"
        },
        "id": "xZIug7W1JnmH",
        "outputId": "2064574b-5bd8-446c-e9b5-49b79b65632c"
      },
      "source": [
        "# Append the results of this attack to the pickle file storing the collective results\n",
        "\n",
        "file_to_read = open(\"/content/drive/MyDrive/spai/defense_results.pickle\", \"rb\")\n",
        "\n",
        "collective_res_pre = pickle.load(file_to_read)\n",
        "file_to_read.close()\n",
        "collective_res_pre['jsm attack on defensively trained model (Spatial smoothing)']={'loss': perf[0], 'accuracy': perf[1]}\n",
        "print(collective_res_pre)\n",
        "\n",
        "# pickle the updated dictionary again\n",
        "f = open(\"/content/drive/MyDrive/spai/defense_results.pickle\", \"wb\")\n",
        "pickle.dump(collective_res_pre, f)\n",
        "f.close()"
      ],
      "execution_count": null,
      "outputs": [
        {
          "output_type": "stream",
          "name": "stdout",
          "text": [
            "{'fgsm attack on defensively trained model (feature squeezing)': {'loss': 3.9228830337524414, 'accuracy': 0.4000000059604645}, 'fgsm attack on defensively trained model (JPEG compression)': {'loss': 3.9228830337524414, 'accuracy': 0.4000000059604645}, 'fgsm attack on defensively trained model (Gaussian data augmentation)': {'loss': 3.9228830337524414, 'accuracy': 0.4000000059604645}, 'fgsm attack on defensively trained model (spatial smoothing)': {'loss': 3.9228835105895996, 'accuracy': 0.4000000059604645}, 'fgsm attack on defensively trained model (total variance minimization)': {'loss': 3.9228835105895996, 'accuracy': 0.4000000059604645}, 'jsm attack on defensively trained model (feature squeezing)': {'loss': 1.2059839963912964, 'accuracy': 0.009999999776482582}, 'jsm attack on defensively trained model (Gaussian Augmentation)': {'loss': 1.2475407123565674, 'accuracy': 0.019999999552965164}, 'jsm attack on defensively trained model (Label smoothing)': {'loss': 1.2321867942810059, 'accuracy': 0.009999999776482582}, 'jsm attack on defensively trained model (Spatial smoothing)': {'loss': 1.233214259147644, 'accuracy': 0.0}}\n"
          ]
        }
      ]
    },
    {
      "cell_type": "markdown",
      "metadata": {
        "id": "yNCODSSE1Qrj"
      },
      "source": [
        "## Total Variance Minimization"
      ]
    },
    {
      "cell_type": "code",
      "metadata": {
        "id": "Ex9OTpro1O2o"
      },
      "source": [
        "from art.defences.preprocessor import TotalVarMin\n",
        "ttmin_def = TotalVarMin(clip_values=(0,1), apply_fit = True, apply_predict = False, lamb=0.5, prob=0.3)"
      ],
      "execution_count": null,
      "outputs": []
    },
    {
      "cell_type": "code",
      "metadata": {
        "id": "xnNYTrii1O2o"
      },
      "source": [
        "x_def,y_def = ttmin_def.__call__(x=x_train,y=y_train)"
      ],
      "execution_count": null,
      "outputs": []
    },
    {
      "cell_type": "markdown",
      "metadata": {
        "id": "Q8s0b1Uh1O2p"
      },
      "source": [
        "Load the model afresh"
      ]
    },
    {
      "cell_type": "code",
      "metadata": {
        "id": "64imOYls1O2p"
      },
      "source": [
        "# # using keras to load the given model\n",
        "hub_url = \"https://tfhub.dev/deepmind/ganeval-cifar10-convnet/1\"\n",
        "model = hub.load(hub_url)\n",
        "\n",
        "classifier = tf.keras.Sequential()\n",
        "classifier.add(tf.keras.layers.InputLayer(input_shape=(32,32,3)))\n",
        "# classifier.add(hub.KerasLayer(model.signatures['default']))\n",
        "classifier.add(hub.KerasLayer(hub_url, signature='default'))\n",
        "classifier.add(tf.keras.layers.Activation('softmax'))\n",
        "\n",
        "classifier.compile(optimizer=tf.keras.optimizers.SGD(learning_rate=0.1, momentum=0.9, decay=1e-4), loss=tf.keras.losses.CategoricalCrossentropy(), metrics=['accuracy'])"
      ],
      "execution_count": null,
      "outputs": []
    },
    {
      "cell_type": "markdown",
      "metadata": {
        "id": "4q1uGTWH1O2p"
      },
      "source": [
        "We train the model with the defensive samples generated above"
      ]
    },
    {
      "cell_type": "code",
      "metadata": {
        "colab": {
          "base_uri": "https://localhost:8080/"
        },
        "id": "8tOMhe4W1O2p",
        "outputId": "f6a25541-37c3-4cb5-edf8-831aab723739"
      },
      "source": [
        "classifier.fit(x_def,y_def)"
      ],
      "execution_count": null,
      "outputs": [
        {
          "output_type": "stream",
          "name": "stdout",
          "text": [
            "1563/1563 [==============================] - 585s 374ms/step - loss: 4.6061 - accuracy: 0.2625\n"
          ]
        },
        {
          "output_type": "execute_result",
          "data": {
            "text/plain": [
              "<keras.callbacks.History at 0x7f41f2181350>"
            ]
          },
          "metadata": {},
          "execution_count": 59
        }
      ]
    },
    {
      "cell_type": "code",
      "metadata": {
        "id": "pLvObMkH1O2p"
      },
      "source": [
        "# Create a ART TensorFlow v2 classifier for the target TensorFlow model\n",
        "artclassifier2 = TensorFlowV2Classifier(model=classifier2, nb_classes=10, input_shape=(32, 32, 3), loss_object=classifier2.loss, \n",
        "                                    clip_values=(0, 1), channels_first=False)"
      ],
      "execution_count": null,
      "outputs": []
    },
    {
      "cell_type": "code",
      "metadata": {
        "colab": {
          "base_uri": "https://localhost:8080/"
        },
        "id": "m56mLKi51O2p",
        "outputId": "54da5f8d-b071-42f0-80d2-e5e593a0bcbb"
      },
      "source": [
        "# White box evasion attack\n",
        "\n",
        "from art.attacks.evasion import FastGradientMethod\n",
        "\n",
        "sample_test, sample_label=candidate_data(x_test, y_test, 10)\n",
        "fgsm_attack = FastGradientMethod(artclassifier2, targeted=False, eps_step=0.001, eps=0.01)\n",
        "\n",
        "# report, x_test_adv, predictions = implement_attack(classifier, fgsm_attack, sample_test=sample_test, test_labels=sample_label, attack_name='fgsm attack on defensively trained model')\n",
        "# perturbation = np.mean(np.abs((x_test_adv - sample_test)))\n",
        "# report['perturbation']=perturbation\n",
        "\n",
        "# collective_res[report['Attack']]=report\n",
        "# generate adverserial samples\n",
        "x_test_adv=fgsm_attack.generate(sample_test)\n",
        "\n",
        "# checking the performance of adverserial examples on the model trained with defensively robust samples\n",
        "perf =  classifier.evaluate(x_test_adv, sample_label)\n",
        "print( 'loss & accuracy on adversarial examples: ', perf )"
      ],
      "execution_count": null,
      "outputs": [
        {
          "output_type": "stream",
          "name": "stdout",
          "text": [
            "4/4 [==============================] - 1s 190ms/step - loss: 3.9229 - accuracy: 0.4000\n",
            "loss & accuracy on adversarial examples:  [3.9228835105895996, 0.4000000059604645]\n"
          ]
        }
      ]
    },
    {
      "cell_type": "code",
      "metadata": {
        "colab": {
          "base_uri": "https://localhost:8080/"
        },
        "id": "QlXxk67v1O2p",
        "outputId": "b9a60ef6-4070-48a4-a940-6a7b50b460b8"
      },
      "source": [
        "collective_res={}\n",
        "collective_res['fgsm attack on defensively trained model (total variance minimization)']={'loss': perf[0], 'accuracy': perf[1]}\n",
        "print(collective_res)"
      ],
      "execution_count": null,
      "outputs": [
        {
          "output_type": "stream",
          "name": "stdout",
          "text": [
            "{'fgsm attack on defensively trained model (total variance minimization)': {'loss': 3.9228835105895996, 'accuracy': 0.4000000059604645}}\n"
          ]
        }
      ]
    },
    {
      "cell_type": "code",
      "metadata": {
        "colab": {
          "base_uri": "https://localhost:8080/"
        },
        "id": "DK2HXM8G1O2p",
        "outputId": "05999d9e-da06-48da-cf63-74419c6f8617"
      },
      "source": [
        "# Append the results of this attack to the pickle file storing the collective results\n",
        "\n",
        "file_to_read = open(\"/content/drive/MyDrive/spai/defense_results.pickle\", \"rb\")\n",
        "\n",
        "collective_res_pre = pickle.load(file_to_read)\n",
        "file_to_read.close()\n",
        "collective_res_pre['fgsm attack on defensively trained model (total variance minimization)']={'loss': perf[0], 'accuracy': perf[1]}\n",
        "print(collective_res_pre)\n",
        "\n",
        "# pickle the updated dictionary again\n",
        "f = open(\"/content/drive/MyDrive/spai/defense_results.pickle\", \"wb\")\n",
        "pickle.dump(collective_res_pre, f)\n",
        "f.close()"
      ],
      "execution_count": null,
      "outputs": [
        {
          "output_type": "stream",
          "name": "stdout",
          "text": [
            "{'fgsm attack on defensively trained model (feature squeezing)': {'loss': 3.9228830337524414, 'accuracy': 0.4000000059604645}, 'fgsm attack on defensively trained model (JPEG compression)': {'loss': 3.9228830337524414, 'accuracy': 0.4000000059604645}, 'fgsm attack on defensively trained model (Gaussian data augmentation)': {'loss': 3.9228830337524414, 'accuracy': 0.4000000059604645}, 'fgsm attack on defensively trained model (spatial smoothing)': {'loss': 3.9228835105895996, 'accuracy': 0.4000000059604645}, 'fgsm attack on defensively trained model (total variance minimization)': {'loss': 3.9228835105895996, 'accuracy': 0.4000000059604645}}\n"
          ]
        }
      ]
    },
    {
      "cell_type": "code",
      "metadata": {
        "colab": {
          "base_uri": "https://localhost:8080/",
          "height": 82,
          "referenced_widgets": [
            "c4ccf204d7a24ba19d8974a4a7ecaa32",
            "96e34416a0814ac7b059f65daa9e5bfc",
            "05710704b87a4d15b9baa4863f717ea9",
            "0242b66c6c9d4b87bc0ac94bf0841e4f",
            "286db25f34d94960a1eae8d312c68f5c",
            "d74242e6c07c4747b216214aa60a00cb",
            "0c6d8f0c755b4048bdba4eea926e351f",
            "0bff5efe54954f43be96eed4c66c6036",
            "6d0bc79978bc49c48f4ac1707872adc0",
            "753372d4313440cdabf7ba1bd1df6065",
            "f628c071a82d4ea495279d456099798f"
          ]
        },
        "id": "YGYnhPxXLPQG",
        "outputId": "8b7aa42a-54ff-4829-c162-1ceebe682403"
      },
      "source": [
        "# Trying Jacobian Saliency map attack\n",
        "from art.attacks.evasion import SaliencyMapMethod\n",
        "\n",
        "sample_test, sample_label=candidate_data(x_test, y_test, 10)\n",
        "jsm_attack = SaliencyMapMethod(artclassifier2, theta=0.1, gamma=1.0, batch_size=20)\n",
        "\n",
        "x_test_adv=jsm_attack.generate(sample_test)\n",
        "\n",
        "# checking the performance of adverserial examples on the model trained with defensively robust samples\n",
        "perf =  classifier.evaluate(x_test_adv, sample_label)\n",
        "print( 'loss & accuracy on adversarial examples: ', perf )"
      ],
      "execution_count": null,
      "outputs": [
        {
          "output_type": "display_data",
          "data": {
            "application/vnd.jupyter.widget-view+json": {
              "model_id": "c4ccf204d7a24ba19d8974a4a7ecaa32",
              "version_minor": 0,
              "version_major": 2
            },
            "text/plain": [
              "JSMA:   0%|          | 0/5 [00:00<?, ?it/s]"
            ]
          },
          "metadata": {}
        },
        {
          "output_type": "stream",
          "name": "stdout",
          "text": [
            "4/4 [==============================] - 1s 272ms/step - loss: 1.2485 - accuracy: 0.0100\n",
            "loss & accuracy on adversarial examples:  [1.2484705448150635, 0.009999999776482582]\n"
          ]
        }
      ]
    },
    {
      "cell_type": "code",
      "metadata": {
        "colab": {
          "base_uri": "https://localhost:8080/"
        },
        "id": "GzTRspy6LPQG",
        "outputId": "52926cc1-b197-4cf1-febb-d58ff23eb619"
      },
      "source": [
        "collective_res={}\n",
        "collective_res['jsm attack on defensively trained model (Total variance Minimization)']={'loss': perf[0], 'accuracy': perf[1]}\n",
        "print(collective_res)"
      ],
      "execution_count": null,
      "outputs": [
        {
          "output_type": "stream",
          "name": "stdout",
          "text": [
            "{'jsm attack on defensively trained model (Total variance Minimization)': {'loss': 1.2484705448150635, 'accuracy': 0.009999999776482582}}\n"
          ]
        }
      ]
    },
    {
      "cell_type": "code",
      "metadata": {
        "colab": {
          "base_uri": "https://localhost:8080/"
        },
        "id": "_wvg5riWLPQG",
        "outputId": "1211c19c-e81e-4d14-c454-889e74da913c"
      },
      "source": [
        "# Append the results of this attack to the pickle file storing the collective results\n",
        "\n",
        "file_to_read = open(\"/content/drive/MyDrive/spai/defense_results.pickle\", \"rb\")\n",
        "\n",
        "collective_res_pre = pickle.load(file_to_read)\n",
        "file_to_read.close()\n",
        "collective_res_pre['jsm attack on defensively trained model (Total variance Minimization)']={'loss': perf[0], 'accuracy': perf[1]}\n",
        "print(collective_res_pre)\n",
        "\n",
        "# pickle the updated dictionary again\n",
        "f = open(\"/content/drive/MyDrive/spai/defense_results.pickle\", \"wb\")\n",
        "pickle.dump(collective_res_pre, f)\n",
        "f.close()"
      ],
      "execution_count": null,
      "outputs": [
        {
          "output_type": "stream",
          "name": "stdout",
          "text": [
            "{'fgsm attack on defensively trained model (feature squeezing)': {'loss': 3.9228830337524414, 'accuracy': 0.4000000059604645}, 'fgsm attack on defensively trained model (JPEG compression)': {'loss': 3.9228830337524414, 'accuracy': 0.4000000059604645}, 'fgsm attack on defensively trained model (Gaussian data augmentation)': {'loss': 3.9228830337524414, 'accuracy': 0.4000000059604645}, 'fgsm attack on defensively trained model (spatial smoothing)': {'loss': 3.9228835105895996, 'accuracy': 0.4000000059604645}, 'fgsm attack on defensively trained model (total variance minimization)': {'loss': 3.9228835105895996, 'accuracy': 0.4000000059604645}, 'jsm attack on defensively trained model (feature squeezing)': {'loss': 1.2059839963912964, 'accuracy': 0.009999999776482582}, 'jsm attack on defensively trained model (Gaussian Augmentation)': {'loss': 1.2475407123565674, 'accuracy': 0.019999999552965164}, 'jsm attack on defensively trained model (Label smoothing)': {'loss': 1.2321867942810059, 'accuracy': 0.009999999776482582}, 'jsm attack on defensively trained model (Spatial smoothing)': {'loss': 1.233214259147644, 'accuracy': 0.0}, 'jsm attack on defensively trained model (Total variance Minimization)': {'loss': 1.2484705448150635, 'accuracy': 0.009999999776482582}}\n"
          ]
        }
      ]
    },
    {
      "cell_type": "markdown",
      "metadata": {
        "id": "TJ_tgbNT8Hau"
      },
      "source": [
        "# Implementing Post processor Defences"
      ]
    },
    {
      "cell_type": "code",
      "metadata": {
        "id": "ztTyJUJPplXz"
      },
      "source": [
        "# applying evasion attack to the parallel undefended classifier\n",
        "\n",
        "from art.attacks.evasion import FastGradientMethod"
      ],
      "execution_count": null,
      "outputs": []
    },
    {
      "cell_type": "code",
      "metadata": {
        "id": "XcVnjNmLoRrx"
      },
      "source": [
        "sample_test, sample_label=candidate_data(x_test, y_test, 10)"
      ],
      "execution_count": null,
      "outputs": []
    },
    {
      "cell_type": "code",
      "metadata": {
        "id": "CkcRug7ippPw"
      },
      "source": [
        "artclassifier2 = TensorFlowV2Classifier(model=classifier2, nb_classes=10, input_shape=(32, 32, 3), loss_object=classifier2.loss, \n",
        "                                    clip_values=(0, 1), channels_first=False)"
      ],
      "execution_count": null,
      "outputs": []
    },
    {
      "cell_type": "code",
      "metadata": {
        "id": "-ZNpglniLArD"
      },
      "source": [
        "fgsm_attack = FastGradientMethod( artclassifier2,targeted=False,eps_step=0.001, eps=0.01 )\n",
        "\n",
        "x_test_adv = fgsm_attack.generate( sample_test )\n",
        "# perf =  artclassifier._model.evaluate( x_test_adv, y_test_adv )\n",
        "# print( 'loss and accuracy on adversarial examples: ', perf )"
      ],
      "execution_count": null,
      "outputs": []
    },
    {
      "cell_type": "markdown",
      "metadata": {
        "id": "FATTkFkOIq2P"
      },
      "source": [
        "## Class labels"
      ]
    },
    {
      "cell_type": "code",
      "metadata": {
        "id": "G8pckiEdJnSL"
      },
      "source": [
        "from art.defences.postprocessor import ClassLabels\n",
        "classlabel_def = ClassLabels(apply_fit = False, apply_predict = True)"
      ],
      "execution_count": null,
      "outputs": []
    },
    {
      "cell_type": "code",
      "metadata": {
        "id": "Y0zxULf5JdQf"
      },
      "source": [
        "# # using keras to load the given model\n",
        "hub_url = \"https://tfhub.dev/deepmind/ganeval-cifar10-convnet/1\"\n",
        "model = hub.load(hub_url)\n",
        "\n",
        "classifier = tf.keras.Sequential()\n",
        "classifier.add(tf.keras.layers.InputLayer(input_shape=(32,32,3)))\n",
        "# classifier.add(hub.KerasLayer(model.signatures['default']))\n",
        "classifier.add(hub.KerasLayer(hub_url, signature='default'))\n",
        "classifier.add(tf.keras.layers.Activation('softmax'))\n",
        "\n",
        "classifier.compile(optimizer=tf.keras.optimizers.SGD(learning_rate=0.1, momentum=0.9, decay=1e-4), loss=tf.keras.losses.CategoricalCrossentropy(), metrics=['accuracy'])"
      ],
      "execution_count": null,
      "outputs": []
    },
    {
      "cell_type": "code",
      "metadata": {
        "id": "V2WA3FTOJvi4"
      },
      "source": [
        "# Applying the post processing defence to the classifier being defended\n",
        "\n",
        "artclassifier = TensorFlowV2Classifier(model=classifier, nb_classes=10, input_shape=(32, 32, 3), loss_object=classifier.loss, \n",
        "                                    clip_values=(0, 1), channels_first=False, postprocessing_defences=classlabel_def)"
      ],
      "execution_count": null,
      "outputs": []
    },
    {
      "cell_type": "code",
      "metadata": {
        "colab": {
          "base_uri": "https://localhost:8080/"
        },
        "id": "rfjVBKdtJ23r",
        "outputId": "aa33d876-40db-4af4-d52f-a61965644242"
      },
      "source": [
        "classlabel_def(artclassifier._model.predict(sample_test[1].reshape(1,32,32,3))), sample_label[1]"
      ],
      "execution_count": null,
      "outputs": [
        {
          "output_type": "execute_result",
          "data": {
            "text/plain": [
              "(array([[1., 0., 0., 0., 0., 0., 0., 0., 0., 0.]], dtype=float32),\n",
              " array([1., 0., 0., 0., 0., 0., 0., 0., 0., 0.], dtype=float32))"
            ]
          },
          "metadata": {},
          "execution_count": 43
        }
      ]
    },
    {
      "cell_type": "code",
      "metadata": {
        "colab": {
          "base_uri": "https://localhost:8080/"
        },
        "id": "TqTZYpw1qn6c",
        "outputId": "fd288699-1890-4b84-984e-4766283d9d62"
      },
      "source": [
        "# evaluating the attack samples\n",
        "perf =  artclassifier._model.evaluate( x_test_adv, sample_label )\n",
        "print( 'loss and accuracy on adversarial examples: ', perf )"
      ],
      "execution_count": null,
      "outputs": [
        {
          "output_type": "stream",
          "name": "stdout",
          "text": [
            "4/4 [==============================] - 2s 286ms/step - loss: 3.9229 - accuracy: 0.4000\n",
            "loss and accuracy on adversarial examples:  [3.9228830337524414, 0.4000000059604645]\n"
          ]
        }
      ]
    },
    {
      "cell_type": "markdown",
      "metadata": {
        "id": "qygN2_MArxd0"
      },
      "source": [
        "## Gaussian Noise"
      ]
    },
    {
      "cell_type": "code",
      "metadata": {
        "id": "iwvmkpYzrxd0"
      },
      "source": [
        "from art.defences.postprocessor import GaussianNoise\n",
        "gaussn_def = GaussianNoise(apply_fit = False, apply_predict = True)"
      ],
      "execution_count": null,
      "outputs": []
    },
    {
      "cell_type": "code",
      "metadata": {
        "id": "Z8vKeMxlrxd0"
      },
      "source": [
        "# Reload the classifier to be defended afresh\n",
        "\n",
        "hub_url = \"https://tfhub.dev/deepmind/ganeval-cifar10-convnet/1\"\n",
        "model = hub.load(hub_url)\n",
        "\n",
        "classifier = tf.keras.Sequential()\n",
        "classifier.add(tf.keras.layers.InputLayer(input_shape=(32,32,3)))\n",
        "# classifier.add(hub.KerasLayer(model.signatures['default']))\n",
        "classifier.add(hub.KerasLayer(hub_url, signature='default'))\n",
        "classifier.add(tf.keras.layers.Activation('softmax'))\n",
        "\n",
        "classifier.compile(optimizer=tf.keras.optimizers.SGD(learning_rate=0.1, momentum=0.9, decay=1e-4), loss=tf.keras.losses.CategoricalCrossentropy(), metrics=['accuracy'])"
      ],
      "execution_count": null,
      "outputs": []
    },
    {
      "cell_type": "code",
      "metadata": {
        "id": "XYS7_mV-rxd0"
      },
      "source": [
        "# Applying the post processing defence to the classifier being defended\n",
        "\n",
        "artclassifier = TensorFlowV2Classifier(model=classifier, nb_classes=10, input_shape=(32, 32, 3), loss_object=classifier.loss, \n",
        "                                    clip_values=(0, 1), channels_first=False, postprocessing_defences=gaussn_def)"
      ],
      "execution_count": null,
      "outputs": []
    },
    {
      "cell_type": "code",
      "metadata": {
        "colab": {
          "base_uri": "https://localhost:8080/"
        },
        "id": "mMZ0ylMfrxd1",
        "outputId": "d689478b-bf46-4b93-b9ef-012326de6959"
      },
      "source": [
        "gaussn_def(artclassifier._model.predict(sample_test[1].reshape(1,32,32,3))), sample_label[1]"
      ],
      "execution_count": null,
      "outputs": [
        {
          "output_type": "execute_result",
          "data": {
            "text/plain": [
              "(array([[0.3332403 , 0.1364737 , 0.17488839, 0.        , 0.        ,\n",
              "         0.33166993, 0.02372769, 0.        , 0.        , 0.        ]],\n",
              "       dtype=float32),\n",
              " array([1., 0., 0., 0., 0., 0., 0., 0., 0., 0.], dtype=float32))"
            ]
          },
          "metadata": {},
          "execution_count": 49
        }
      ]
    },
    {
      "cell_type": "code",
      "metadata": {
        "colab": {
          "base_uri": "https://localhost:8080/"
        },
        "id": "2PgqqyQdrxd1",
        "outputId": "403c885c-136d-4b8a-c662-ae9356b19388"
      },
      "source": [
        "# evaluating the attack samples\n",
        "perf =  artclassifier._model.evaluate( x_test_adv, sample_label )\n",
        "print( 'loss and accuracy on adversarial examples: ', perf )"
      ],
      "execution_count": null,
      "outputs": [
        {
          "output_type": "stream",
          "name": "stdout",
          "text": [
            "4/4 [==============================] - 2s 289ms/step - loss: 3.9229 - accuracy: 0.4000\n",
            "loss and accuracy on adversarial examples:  [3.9228830337524414, 0.4000000059604645]\n"
          ]
        }
      ]
    },
    {
      "cell_type": "markdown",
      "metadata": {
        "id": "4LsHfebnsThL"
      },
      "source": [
        "## High confidence"
      ]
    },
    {
      "cell_type": "code",
      "metadata": {
        "id": "wZHYK3E7sThL"
      },
      "source": [
        "from art.defences.postprocessor import HighConfidence\n",
        "hc_def = HighConfidence(apply_fit = False, apply_predict = True)"
      ],
      "execution_count": null,
      "outputs": []
    },
    {
      "cell_type": "code",
      "metadata": {
        "id": "i0fDlYNJsThL"
      },
      "source": [
        "# Reload the classifier to be defended afresh\n",
        "hub_url = \"https://tfhub.dev/deepmind/ganeval-cifar10-convnet/1\"\n",
        "model = hub.load(hub_url)\n",
        "\n",
        "classifier = tf.keras.Sequential()\n",
        "classifier.add(tf.keras.layers.InputLayer(input_shape=(32,32,3)))\n",
        "# classifier.add(hub.KerasLayer(model.signatures['default']))\n",
        "classifier.add(hub.KerasLayer(hub_url, signature='default'))\n",
        "classifier.add(tf.keras.layers.Activation('softmax'))\n",
        "\n",
        "classifier.compile(optimizer=tf.keras.optimizers.SGD(learning_rate=0.1, momentum=0.9, decay=1e-4), loss=tf.keras.losses.CategoricalCrossentropy(), metrics=['accuracy'])"
      ],
      "execution_count": null,
      "outputs": []
    },
    {
      "cell_type": "code",
      "metadata": {
        "id": "FZcP3A_JsThM"
      },
      "source": [
        "# Applying the post processing defence to the classifier being defended\n",
        "\n",
        "artclassifier = TensorFlowV2Classifier(model=classifier, nb_classes=10, input_shape=(32, 32, 3), loss_object=classifier.loss, \n",
        "                                    clip_values=(0, 1), channels_first=False, postprocessing_defences=hc_def)"
      ],
      "execution_count": null,
      "outputs": []
    },
    {
      "cell_type": "code",
      "metadata": {
        "colab": {
          "base_uri": "https://localhost:8080/"
        },
        "id": "za-zttYSsThM",
        "outputId": "9ba4a13b-efe8-4888-db57-9f26b8c0d495"
      },
      "source": [
        "hc_def(artclassifier._model.predict(sample_test[1].reshape(1,32,32,3))), sample_label[1]"
      ],
      "execution_count": null,
      "outputs": [
        {
          "output_type": "execute_result",
          "data": {
            "text/plain": [
              "(array([[0.9999876, 0.       , 0.       , 0.       , 0.       , 0.       ,\n",
              "         0.       , 0.       , 0.       , 0.       ]], dtype=float32),\n",
              " array([1., 0., 0., 0., 0., 0., 0., 0., 0., 0.], dtype=float32))"
            ]
          },
          "metadata": {},
          "execution_count": 54
        }
      ]
    },
    {
      "cell_type": "code",
      "metadata": {
        "colab": {
          "base_uri": "https://localhost:8080/"
        },
        "id": "QSfWnQvQsThM",
        "outputId": "307652b0-5c99-4acf-836b-4442212abcf6"
      },
      "source": [
        "# evaluating the attack samples\n",
        "perf =  artclassifier._model.evaluate( x_test_adv, sample_label )\n",
        "print( 'loss and accuracy on adversarial examples: ', perf )"
      ],
      "execution_count": null,
      "outputs": [
        {
          "output_type": "stream",
          "name": "stdout",
          "text": [
            "4/4 [==============================] - 2s 276ms/step - loss: 3.9229 - accuracy: 0.4000\n",
            "loss and accuracy on adversarial examples:  [3.9228830337524414, 0.4000000059604645]\n"
          ]
        }
      ]
    },
    {
      "cell_type": "markdown",
      "metadata": {
        "id": "s3rllH6Esxor"
      },
      "source": [
        "## Reverse Sigmoid"
      ]
    },
    {
      "cell_type": "code",
      "metadata": {
        "id": "7VYUHHkZsxow"
      },
      "source": [
        "from art.defences.postprocessor import ReverseSigmoid\n",
        "rs_def = ReverseSigmoid(apply_fit = False, apply_predict = True)"
      ],
      "execution_count": null,
      "outputs": []
    },
    {
      "cell_type": "code",
      "metadata": {
        "id": "a8yEp9slsxow"
      },
      "source": [
        "# Reload the classifier to be defended afresh\n",
        "hub_url = \"https://tfhub.dev/deepmind/ganeval-cifar10-convnet/1\"\n",
        "model = hub.load(hub_url)\n",
        "\n",
        "classifier = tf.keras.Sequential()\n",
        "classifier.add(tf.keras.layers.InputLayer(input_shape=(32,32,3)))\n",
        "# classifier.add(hub.KerasLayer(model.signatures['default']))\n",
        "classifier.add(hub.KerasLayer(hub_url, signature='default'))\n",
        "classifier.add(tf.keras.layers.Activation('softmax'))\n",
        "\n",
        "classifier.compile(optimizer=tf.keras.optimizers.SGD(learning_rate=0.1, momentum=0.9, decay=1e-4), loss=tf.keras.losses.CategoricalCrossentropy(), metrics=['accuracy'])"
      ],
      "execution_count": null,
      "outputs": []
    },
    {
      "cell_type": "code",
      "metadata": {
        "id": "ounLKIwFsxow"
      },
      "source": [
        "# Applying the post processing defence to the classifier being defended\n",
        "\n",
        "artclassifier = TensorFlowV2Classifier(model=classifier, nb_classes=10, input_shape=(32, 32, 3), loss_object=classifier.loss, \n",
        "                                    clip_values=(0, 1), channels_first=False, postprocessing_defences=rs_def)"
      ],
      "execution_count": null,
      "outputs": []
    },
    {
      "cell_type": "code",
      "metadata": {
        "colab": {
          "base_uri": "https://localhost:8080/"
        },
        "id": "4HFurA0dsxow",
        "outputId": "1cd2adb2-0013-45e1-a9c9-dcf71ec2b85b"
      },
      "source": [
        "rs_def(artclassifier._model.predict(sample_test[1].reshape(1,32,32,3))), sample_label[1]"
      ],
      "execution_count": null,
      "outputs": [
        {
          "output_type": "execute_result",
          "data": {
            "text/plain": [
              "(array([[0.21047004, 0.0964033 , 0.09334715, 0.0755902 , 0.08585945,\n",
              "         0.07916492, 0.08637044, 0.08935772, 0.09609319, 0.08734349]],\n",
              "       dtype=float32),\n",
              " array([1., 0., 0., 0., 0., 0., 0., 0., 0., 0.], dtype=float32))"
            ]
          },
          "metadata": {},
          "execution_count": 60
        }
      ]
    },
    {
      "cell_type": "code",
      "metadata": {
        "colab": {
          "base_uri": "https://localhost:8080/"
        },
        "id": "A7noMpXQsxox",
        "outputId": "39acd8ac-e3d0-4943-a024-354b2ce57b42"
      },
      "source": [
        "# evaluating the attack samples\n",
        "perf =  artclassifier._model.evaluate( x_test_adv, sample_label )\n",
        "print( 'loss and accuracy on adversarial examples: ', perf )"
      ],
      "execution_count": null,
      "outputs": [
        {
          "output_type": "stream",
          "name": "stdout",
          "text": [
            "4/4 [==============================] - 2s 287ms/step - loss: 3.9229 - accuracy: 0.4000\n",
            "loss and accuracy on adversarial examples:  [3.9228830337524414, 0.4000000059604645]\n"
          ]
        }
      ]
    },
    {
      "cell_type": "markdown",
      "metadata": {
        "id": "odWJFzU1tRb3"
      },
      "source": [
        "## Rounded"
      ]
    },
    {
      "cell_type": "code",
      "metadata": {
        "id": "q9PT_I0gtRb3"
      },
      "source": [
        "from art.defences.postprocessor import Rounded\n",
        "rnd_def = Rounded(apply_fit = False, apply_predict = True)"
      ],
      "execution_count": null,
      "outputs": []
    },
    {
      "cell_type": "code",
      "metadata": {
        "id": "V1cozt5vtRb3"
      },
      "source": [
        "# Reload the classifier to be defended afresh\n",
        "hub_url = \"https://tfhub.dev/deepmind/ganeval-cifar10-convnet/1\"\n",
        "model = hub.load(hub_url)\n",
        "\n",
        "classifier = tf.keras.Sequential()\n",
        "classifier.add(tf.keras.layers.InputLayer(input_shape=(32,32,3)))\n",
        "# classifier.add(hub.KerasLayer(model.signatures['default']))\n",
        "classifier.add(hub.KerasLayer(hub_url, signature='default'))\n",
        "classifier.add(tf.keras.layers.Activation('softmax'))\n",
        "\n",
        "classifier.compile(optimizer=tf.keras.optimizers.SGD(learning_rate=0.1, momentum=0.9, decay=1e-4), loss=tf.keras.losses.CategoricalCrossentropy(), metrics=['accuracy'])"
      ],
      "execution_count": null,
      "outputs": []
    },
    {
      "cell_type": "code",
      "metadata": {
        "id": "PNfJTyZ9tRb3"
      },
      "source": [
        "# Applying the post processing defence to the classifier being defended\n",
        "\n",
        "artclassifier = TensorFlowV2Classifier(model=classifier, nb_classes=10, input_shape=(32, 32, 3), loss_object=classifier.loss, \n",
        "                                    clip_values=(0, 1), channels_first=False, postprocessing_defences=rnd_def)"
      ],
      "execution_count": null,
      "outputs": []
    },
    {
      "cell_type": "code",
      "metadata": {
        "colab": {
          "base_uri": "https://localhost:8080/"
        },
        "id": "M5MkuVrLtRb3",
        "outputId": "8112f555-e588-48a2-d025-68187eed65aa"
      },
      "source": [
        "rnd_def(artclassifier._model.predict(sample_test[1].reshape(1,32,32,3))), sample_label[1]"
      ],
      "execution_count": null,
      "outputs": [
        {
          "output_type": "stream",
          "name": "stdout",
          "text": [
            "WARNING:tensorflow:5 out of the last 8 calls to <function Model.make_predict_function.<locals>.predict_function at 0x7f6d4b858b00> triggered tf.function retracing. Tracing is expensive and the excessive number of tracings could be due to (1) creating @tf.function repeatedly in a loop, (2) passing tensors with different shapes, (3) passing Python objects instead of tensors. For (1), please define your @tf.function outside of the loop. For (2), @tf.function has experimental_relax_shapes=True option that relaxes argument shapes that can avoid unnecessary retracing. For (3), please refer to https://www.tensorflow.org/guide/function#controlling_retracing and https://www.tensorflow.org/api_docs/python/tf/function for  more details.\n"
          ]
        },
        {
          "output_type": "stream",
          "name": "stderr",
          "text": [
            "WARNING:tensorflow:5 out of the last 8 calls to <function Model.make_predict_function.<locals>.predict_function at 0x7f6d4b858b00> triggered tf.function retracing. Tracing is expensive and the excessive number of tracings could be due to (1) creating @tf.function repeatedly in a loop, (2) passing tensors with different shapes, (3) passing Python objects instead of tensors. For (1), please define your @tf.function outside of the loop. For (2), @tf.function has experimental_relax_shapes=True option that relaxes argument shapes that can avoid unnecessary retracing. For (3), please refer to https://www.tensorflow.org/guide/function#controlling_retracing and https://www.tensorflow.org/api_docs/python/tf/function for  more details.\n"
          ]
        },
        {
          "output_type": "execute_result",
          "data": {
            "text/plain": [
              "(array([[1., 0., 0., 0., 0., 0., 0., 0., 0., 0.]], dtype=float32),\n",
              " array([1., 0., 0., 0., 0., 0., 0., 0., 0., 0.], dtype=float32))"
            ]
          },
          "metadata": {},
          "execution_count": 66
        }
      ]
    },
    {
      "cell_type": "code",
      "metadata": {
        "colab": {
          "base_uri": "https://localhost:8080/"
        },
        "id": "0xThaQx2tRb3",
        "outputId": "e7b0b435-72e1-47f9-8f20-5ab530a3b675"
      },
      "source": [
        "# evaluating the attack samples\n",
        "perf =  artclassifier._model.evaluate( x_test_adv, sample_label )\n",
        "print( 'loss and accuracy on adversarial examples: ', perf )"
      ],
      "execution_count": null,
      "outputs": [
        {
          "output_type": "stream",
          "name": "stdout",
          "text": [
            "4/4 [==============================] - 2s 282ms/step - loss: 3.9229 - accuracy: 0.4000\n",
            "loss and accuracy on adversarial examples:  [3.9228830337524414, 0.4000000059604645]\n"
          ]
        }
      ]
    },
    {
      "cell_type": "markdown",
      "metadata": {
        "id": "ajy0C3PFu8La"
      },
      "source": [
        "## Adverserial Training"
      ]
    },
    {
      "cell_type": "code",
      "metadata": {
        "colab": {
          "base_uri": "https://localhost:8080/"
        },
        "id": "e5imelKVu_2F",
        "outputId": "e46c02ac-b477-43a8-bd64-3047538c951c"
      },
      "source": [
        "!pip install tensorflow_addons"
      ],
      "execution_count": null,
      "outputs": [
        {
          "output_type": "stream",
          "name": "stdout",
          "text": [
            "Collecting tensorflow_addons\n",
            "  Downloading tensorflow_addons-0.15.0-cp37-cp37m-manylinux_2_12_x86_64.manylinux2010_x86_64.whl (1.1 MB)\n",
            "\u001b[?25l\r\u001b[K     |▎                               | 10 kB 22.8 MB/s eta 0:00:01\r\u001b[K     |▋                               | 20 kB 29.0 MB/s eta 0:00:01\r\u001b[K     |▉                               | 30 kB 29.5 MB/s eta 0:00:01\r\u001b[K     |█▏                              | 40 kB 30.5 MB/s eta 0:00:01\r\u001b[K     |█▌                              | 51 kB 32.3 MB/s eta 0:00:01\r\u001b[K     |█▊                              | 61 kB 33.4 MB/s eta 0:00:01\r\u001b[K     |██                              | 71 kB 28.1 MB/s eta 0:00:01\r\u001b[K     |██▍                             | 81 kB 28.5 MB/s eta 0:00:01\r\u001b[K     |██▋                             | 92 kB 29.4 MB/s eta 0:00:01\r\u001b[K     |███                             | 102 kB 29.8 MB/s eta 0:00:01\r\u001b[K     |███▎                            | 112 kB 29.8 MB/s eta 0:00:01\r\u001b[K     |███▌                            | 122 kB 29.8 MB/s eta 0:00:01\r\u001b[K     |███▉                            | 133 kB 29.8 MB/s eta 0:00:01\r\u001b[K     |████▏                           | 143 kB 29.8 MB/s eta 0:00:01\r\u001b[K     |████▍                           | 153 kB 29.8 MB/s eta 0:00:01\r\u001b[K     |████▊                           | 163 kB 29.8 MB/s eta 0:00:01\r\u001b[K     |█████                           | 174 kB 29.8 MB/s eta 0:00:01\r\u001b[K     |█████▎                          | 184 kB 29.8 MB/s eta 0:00:01\r\u001b[K     |█████▋                          | 194 kB 29.8 MB/s eta 0:00:01\r\u001b[K     |█████▉                          | 204 kB 29.8 MB/s eta 0:00:01\r\u001b[K     |██████▏                         | 215 kB 29.8 MB/s eta 0:00:01\r\u001b[K     |██████▌                         | 225 kB 29.8 MB/s eta 0:00:01\r\u001b[K     |██████▊                         | 235 kB 29.8 MB/s eta 0:00:01\r\u001b[K     |███████                         | 245 kB 29.8 MB/s eta 0:00:01\r\u001b[K     |███████▍                        | 256 kB 29.8 MB/s eta 0:00:01\r\u001b[K     |███████▋                        | 266 kB 29.8 MB/s eta 0:00:01\r\u001b[K     |████████                        | 276 kB 29.8 MB/s eta 0:00:01\r\u001b[K     |████████▎                       | 286 kB 29.8 MB/s eta 0:00:01\r\u001b[K     |████████▌                       | 296 kB 29.8 MB/s eta 0:00:01\r\u001b[K     |████████▉                       | 307 kB 29.8 MB/s eta 0:00:01\r\u001b[K     |█████████                       | 317 kB 29.8 MB/s eta 0:00:01\r\u001b[K     |█████████▍                      | 327 kB 29.8 MB/s eta 0:00:01\r\u001b[K     |█████████▊                      | 337 kB 29.8 MB/s eta 0:00:01\r\u001b[K     |██████████                      | 348 kB 29.8 MB/s eta 0:00:01\r\u001b[K     |██████████▎                     | 358 kB 29.8 MB/s eta 0:00:01\r\u001b[K     |██████████▋                     | 368 kB 29.8 MB/s eta 0:00:01\r\u001b[K     |██████████▉                     | 378 kB 29.8 MB/s eta 0:00:01\r\u001b[K     |███████████▏                    | 389 kB 29.8 MB/s eta 0:00:01\r\u001b[K     |███████████▌                    | 399 kB 29.8 MB/s eta 0:00:01\r\u001b[K     |███████████▊                    | 409 kB 29.8 MB/s eta 0:00:01\r\u001b[K     |████████████                    | 419 kB 29.8 MB/s eta 0:00:01\r\u001b[K     |████████████▍                   | 430 kB 29.8 MB/s eta 0:00:01\r\u001b[K     |████████████▋                   | 440 kB 29.8 MB/s eta 0:00:01\r\u001b[K     |█████████████                   | 450 kB 29.8 MB/s eta 0:00:01\r\u001b[K     |█████████████▎                  | 460 kB 29.8 MB/s eta 0:00:01\r\u001b[K     |█████████████▌                  | 471 kB 29.8 MB/s eta 0:00:01\r\u001b[K     |█████████████▉                  | 481 kB 29.8 MB/s eta 0:00:01\r\u001b[K     |██████████████                  | 491 kB 29.8 MB/s eta 0:00:01\r\u001b[K     |██████████████▍                 | 501 kB 29.8 MB/s eta 0:00:01\r\u001b[K     |██████████████▊                 | 512 kB 29.8 MB/s eta 0:00:01\r\u001b[K     |███████████████                 | 522 kB 29.8 MB/s eta 0:00:01\r\u001b[K     |███████████████▎                | 532 kB 29.8 MB/s eta 0:00:01\r\u001b[K     |███████████████▋                | 542 kB 29.8 MB/s eta 0:00:01\r\u001b[K     |███████████████▉                | 552 kB 29.8 MB/s eta 0:00:01\r\u001b[K     |████████████████▏               | 563 kB 29.8 MB/s eta 0:00:01\r\u001b[K     |████████████████▌               | 573 kB 29.8 MB/s eta 0:00:01\r\u001b[K     |████████████████▊               | 583 kB 29.8 MB/s eta 0:00:01\r\u001b[K     |█████████████████               | 593 kB 29.8 MB/s eta 0:00:01\r\u001b[K     |█████████████████▍              | 604 kB 29.8 MB/s eta 0:00:01\r\u001b[K     |█████████████████▋              | 614 kB 29.8 MB/s eta 0:00:01\r\u001b[K     |██████████████████              | 624 kB 29.8 MB/s eta 0:00:01\r\u001b[K     |██████████████████▏             | 634 kB 29.8 MB/s eta 0:00:01\r\u001b[K     |██████████████████▌             | 645 kB 29.8 MB/s eta 0:00:01\r\u001b[K     |██████████████████▉             | 655 kB 29.8 MB/s eta 0:00:01\r\u001b[K     |███████████████████             | 665 kB 29.8 MB/s eta 0:00:01\r\u001b[K     |███████████████████▍            | 675 kB 29.8 MB/s eta 0:00:01\r\u001b[K     |███████████████████▊            | 686 kB 29.8 MB/s eta 0:00:01\r\u001b[K     |████████████████████            | 696 kB 29.8 MB/s eta 0:00:01\r\u001b[K     |████████████████████▎           | 706 kB 29.8 MB/s eta 0:00:01\r\u001b[K     |████████████████████▋           | 716 kB 29.8 MB/s eta 0:00:01\r\u001b[K     |████████████████████▉           | 727 kB 29.8 MB/s eta 0:00:01\r\u001b[K     |█████████████████████▏          | 737 kB 29.8 MB/s eta 0:00:01\r\u001b[K     |█████████████████████▌          | 747 kB 29.8 MB/s eta 0:00:01\r\u001b[K     |█████████████████████▊          | 757 kB 29.8 MB/s eta 0:00:01\r\u001b[K     |██████████████████████          | 768 kB 29.8 MB/s eta 0:00:01\r\u001b[K     |██████████████████████▎         | 778 kB 29.8 MB/s eta 0:00:01\r\u001b[K     |██████████████████████▋         | 788 kB 29.8 MB/s eta 0:00:01\r\u001b[K     |███████████████████████         | 798 kB 29.8 MB/s eta 0:00:01\r\u001b[K     |███████████████████████▏        | 808 kB 29.8 MB/s eta 0:00:01\r\u001b[K     |███████████████████████▌        | 819 kB 29.8 MB/s eta 0:00:01\r\u001b[K     |███████████████████████▉        | 829 kB 29.8 MB/s eta 0:00:01\r\u001b[K     |████████████████████████        | 839 kB 29.8 MB/s eta 0:00:01\r\u001b[K     |████████████████████████▍       | 849 kB 29.8 MB/s eta 0:00:01\r\u001b[K     |████████████████████████▊       | 860 kB 29.8 MB/s eta 0:00:01\r\u001b[K     |█████████████████████████       | 870 kB 29.8 MB/s eta 0:00:01\r\u001b[K     |█████████████████████████▎      | 880 kB 29.8 MB/s eta 0:00:01\r\u001b[K     |█████████████████████████▋      | 890 kB 29.8 MB/s eta 0:00:01\r\u001b[K     |█████████████████████████▉      | 901 kB 29.8 MB/s eta 0:00:01\r\u001b[K     |██████████████████████████▏     | 911 kB 29.8 MB/s eta 0:00:01\r\u001b[K     |██████████████████████████▌     | 921 kB 29.8 MB/s eta 0:00:01\r\u001b[K     |██████████████████████████▊     | 931 kB 29.8 MB/s eta 0:00:01\r\u001b[K     |███████████████████████████     | 942 kB 29.8 MB/s eta 0:00:01\r\u001b[K     |███████████████████████████▎    | 952 kB 29.8 MB/s eta 0:00:01\r\u001b[K     |███████████████████████████▋    | 962 kB 29.8 MB/s eta 0:00:01\r\u001b[K     |████████████████████████████    | 972 kB 29.8 MB/s eta 0:00:01\r\u001b[K     |████████████████████████████▏   | 983 kB 29.8 MB/s eta 0:00:01\r\u001b[K     |████████████████████████████▌   | 993 kB 29.8 MB/s eta 0:00:01\r\u001b[K     |████████████████████████████▉   | 1.0 MB 29.8 MB/s eta 0:00:01\r\u001b[K     |█████████████████████████████   | 1.0 MB 29.8 MB/s eta 0:00:01\r\u001b[K     |█████████████████████████████▍  | 1.0 MB 29.8 MB/s eta 0:00:01\r\u001b[K     |█████████████████████████████▊  | 1.0 MB 29.8 MB/s eta 0:00:01\r\u001b[K     |██████████████████████████████  | 1.0 MB 29.8 MB/s eta 0:00:01\r\u001b[K     |██████████████████████████████▎ | 1.1 MB 29.8 MB/s eta 0:00:01\r\u001b[K     |██████████████████████████████▋ | 1.1 MB 29.8 MB/s eta 0:00:01\r\u001b[K     |██████████████████████████████▉ | 1.1 MB 29.8 MB/s eta 0:00:01\r\u001b[K     |███████████████████████████████▏| 1.1 MB 29.8 MB/s eta 0:00:01\r\u001b[K     |███████████████████████████████▍| 1.1 MB 29.8 MB/s eta 0:00:01\r\u001b[K     |███████████████████████████████▊| 1.1 MB 29.8 MB/s eta 0:00:01\r\u001b[K     |████████████████████████████████| 1.1 MB 29.8 MB/s \n",
            "\u001b[?25hRequirement already satisfied: typeguard>=2.7 in /usr/local/lib/python3.7/dist-packages (from tensorflow_addons) (2.7.1)\n",
            "Installing collected packages: tensorflow-addons\n",
            "Successfully installed tensorflow-addons-0.15.0\n"
          ]
        }
      ]
    },
    {
      "cell_type": "code",
      "metadata": {
        "id": "U_q4mZKVvCbH"
      },
      "source": [
        "# Reload the classifier to be defended afresh\n",
        "hub_url = \"https://tfhub.dev/deepmind/ganeval-cifar10-convnet/1\"\n",
        "model = hub.load(hub_url)\n",
        "\n",
        "classifier = tf.keras.Sequential()\n",
        "classifier.add(tf.keras.layers.InputLayer(input_shape=(32,32,3)))\n",
        "# classifier.add(hub.KerasLayer(model.signatures['default']))\n",
        "classifier.add(hub.KerasLayer(hub_url, signature='default'))\n",
        "classifier.add(tf.keras.layers.Activation('softmax'))\n",
        "\n",
        "classifier.compile(optimizer=tf.keras.optimizers.SGD(learning_rate=0.1, momentum=0.9, decay=1e-4), loss=tf.keras.losses.CategoricalCrossentropy(), metrics=['accuracy'])"
      ],
      "execution_count": null,
      "outputs": []
    },
    {
      "cell_type": "code",
      "metadata": {
        "id": "kgsc6bKe09qz"
      },
      "source": [
        "# artclassifier = TensorFlowV2Classifier(model=classifier, nb_classes=10, input_shape=(32, 32, 3), loss_object=classifier.loss, \n",
        "#                                     clip_values=(0, 1), channels_first=False,)"
      ],
      "execution_count": null,
      "outputs": []
    },
    {
      "cell_type": "code",
      "metadata": {
        "id": "Z6-ekb6KvGNx"
      },
      "source": [
        "from art.defences.trainer import AdversarialTrainer\n",
        "\n",
        "advtrain_def = AdversarialTrainer(classifier = classifier, attacks = fgsm_attack, ratio = 1)"
      ],
      "execution_count": null,
      "outputs": []
    },
    {
      "cell_type": "code",
      "metadata": {
        "colab": {
          "base_uri": "https://localhost:8080/",
          "height": 134,
          "referenced_widgets": [
            "c7d59cc98c3c4ca49561402e9aba142b",
            "c1381fcf9225483bbbc4e86fae50c139",
            "272dbeb170304532bd56c8c2b92b406f",
            "48c6963f884b4820a53d8b24a97949ba",
            "647c0864113042dea29437e4bb7ca396",
            "321d2ff2bf4f427d96daaff643001d7a",
            "e2017f6dd4734ef48a9c363063b70cc6",
            "d4ef92d262fc447ba5bae3c277e10ffd",
            "ea0b636acb9a427891332165ff4f02d0",
            "1d64d46fe0864fa8b2e9dc20ab21761d",
            "704153117b2146739a68881b205f559d",
            "2cfbd102292348dd8a4d2463b7d16bc2",
            "da92d92f29be46c8ac9bd068180e3e10",
            "c3e5d32a00a04556ad1b78a4d4d1b8b4",
            "69dc8a86fb37405ca7132792fa257fca",
            "313f6f50bfdb4811b6d493fae3f51db3",
            "be948689da45440096c6faf913f1a58c",
            "8d06ade13ebf4aadb0171e0220657bba",
            "10896292147045dfb5367c47937b3342",
            "eaae213a2a484a62a375919db62e1ffb",
            "e1a47ac6cc114913ac101f3d2d493005",
            "10212b43f2424bf58a1b1f222da07b33"
          ]
        },
        "id": "7NpLRi5jvkTI",
        "outputId": "b8a54a9e-5331-4398-d339-f8f1484a2d24"
      },
      "source": [
        "advtrain_def.fit(x_train[1:100], y_train[1:100], batch_size = 30)"
      ],
      "execution_count": null,
      "outputs": [
        {
          "output_type": "display_data",
          "data": {
            "application/vnd.jupyter.widget-view+json": {
              "model_id": "c7d59cc98c3c4ca49561402e9aba142b",
              "version_minor": 0,
              "version_major": 2
            },
            "text/plain": [
              "Precompute adv samples:   0%|          | 0/1 [00:00<?, ?it/s]"
            ]
          },
          "metadata": {}
        },
        {
          "output_type": "display_data",
          "data": {
            "application/vnd.jupyter.widget-view+json": {
              "model_id": "2cfbd102292348dd8a4d2463b7d16bc2",
              "version_minor": 0,
              "version_major": 2
            },
            "text/plain": [
              "Adversarial training epochs:   0%|          | 0/20 [00:00<?, ?it/s]"
            ]
          },
          "metadata": {}
        },
        {
          "output_type": "stream",
          "name": "stderr",
          "text": [
            "/usr/local/lib/python3.7/dist-packages/tensorflow/python/data/ops/dataset_ops.py:4527: UserWarning: Even though the `tf.config.experimental_run_functions_eagerly` option is set, this option does not apply to tf.data functions. To force eager execution of tf.data functions, please use `tf.data.experimental.enable_debug_mode()`.\n",
            "  \"Even though the `tf.config.experimental_run_functions_eagerly` \"\n"
          ]
        }
      ]
    },
    {
      "cell_type": "code",
      "metadata": {
        "id": "_p01MAm4v3WL"
      },
      "source": [
        "x_adtra_sample = fgsm_attack.generate(x_train[1:10])"
      ],
      "execution_count": null,
      "outputs": []
    },
    {
      "cell_type": "code",
      "metadata": {
        "colab": {
          "base_uri": "https://localhost:8080/"
        },
        "id": "y0oZw5xNAZZq",
        "outputId": "986415e7-c7ea-4791-980b-ec3b7741ee64"
      },
      "source": [
        "y_train[1:10]"
      ],
      "execution_count": null,
      "outputs": [
        {
          "output_type": "execute_result",
          "data": {
            "text/plain": [
              "array([[0., 0., 0., 0., 0., 0., 0., 0., 0., 1.],\n",
              "       [0., 0., 0., 0., 0., 0., 0., 0., 0., 1.],\n",
              "       [0., 0., 0., 0., 1., 0., 0., 0., 0., 0.],\n",
              "       [0., 1., 0., 0., 0., 0., 0., 0., 0., 0.],\n",
              "       [0., 1., 0., 0., 0., 0., 0., 0., 0., 0.],\n",
              "       [0., 0., 1., 0., 0., 0., 0., 0., 0., 0.],\n",
              "       [0., 0., 0., 0., 0., 0., 0., 1., 0., 0.],\n",
              "       [0., 0., 0., 0., 0., 0., 0., 0., 1., 0.],\n",
              "       [0., 0., 0., 1., 0., 0., 0., 0., 0., 0.]], dtype=float32)"
            ]
          },
          "metadata": {},
          "execution_count": 43
        }
      ]
    },
    {
      "cell_type": "code",
      "metadata": {
        "colab": {
          "base_uri": "https://localhost:8080/"
        },
        "id": "AksyKXAZ7SUv",
        "outputId": "580e095e-8e08-4de3-ce95-3ce479aaf9c1"
      },
      "source": [
        "artclassifier2._model.evaluate(x_adtra_sample,y_train[1:10])"
      ],
      "execution_count": null,
      "outputs": [
        {
          "output_type": "stream",
          "name": "stdout",
          "text": [
            "1/1 [==============================] - 0s 132ms/step - loss: 1.2083 - accuracy: 0.7778\n"
          ]
        },
        {
          "output_type": "stream",
          "name": "stderr",
          "text": [
            "/usr/local/lib/python3.7/dist-packages/tensorflow/python/data/ops/dataset_ops.py:4527: UserWarning: Even though the `tf.config.experimental_run_functions_eagerly` option is set, this option does not apply to tf.data functions. To force eager execution of tf.data functions, please use `tf.data.experimental.enable_debug_mode()`.\n",
            "  \"Even though the `tf.config.experimental_run_functions_eagerly` \"\n"
          ]
        },
        {
          "output_type": "execute_result",
          "data": {
            "text/plain": [
              "[1.208262324333191, 0.7777777910232544]"
            ]
          },
          "metadata": {},
          "execution_count": 44
        }
      ]
    },
    {
      "cell_type": "code",
      "metadata": {
        "colab": {
          "base_uri": "https://localhost:8080/"
        },
        "id": "gltNck8x7hDd",
        "outputId": "384eed04-40b3-4027-aabe-5dd689f408a8"
      },
      "source": [
        "y_pred = np.argmax(advtrain_def.predict(x_adtra_sample),axis=1)\n",
        "from sklearn.metrics import accuracy_score\n",
        "accuracy_adv = accuracy_score(np.argmax(y_train[1:10],axis=1), y_pred)\n",
        "print(accuracy_adv)"
      ],
      "execution_count": null,
      "outputs": [
        {
          "output_type": "stream",
          "name": "stdout",
          "text": [
            "0.7777777777777778\n"
          ]
        },
        {
          "output_type": "stream",
          "name": "stderr",
          "text": [
            "/usr/local/lib/python3.7/dist-packages/tensorflow/python/data/ops/dataset_ops.py:4527: UserWarning: Even though the `tf.config.experimental_run_functions_eagerly` option is set, this option does not apply to tf.data functions. To force eager execution of tf.data functions, please use `tf.data.experimental.enable_debug_mode()`.\n",
            "  \"Even though the `tf.config.experimental_run_functions_eagerly` \"\n"
          ]
        }
      ]
    },
    {
      "cell_type": "code",
      "metadata": {
        "id": "F3l8cuquBFV8"
      },
      "source": [
        ""
      ],
      "execution_count": null,
      "outputs": []
    }
  ]
}