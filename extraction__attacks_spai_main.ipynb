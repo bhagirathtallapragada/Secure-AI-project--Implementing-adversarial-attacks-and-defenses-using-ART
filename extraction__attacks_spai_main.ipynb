{
  "nbformat": 4,
  "nbformat_minor": 0,
  "metadata": {
    "colab": {
      "name": "extraction _attacks_spai_main.ipynb",
      "provenance": [],
      "collapsed_sections": [],
      "authorship_tag": "ABX9TyPeMdSToU1ifcP/JPh68Fh/",
      "include_colab_link": true
    },
    "kernelspec": {
      "name": "python3",
      "display_name": "Python 3"
    },
    "language_info": {
      "name": "python"
    }
  },
  "cells": [
    {
      "cell_type": "markdown",
      "metadata": {
        "id": "view-in-github",
        "colab_type": "text"
      },
      "source": [
        "<a href=\"https://colab.research.google.com/github/bhagirathtallapragada/Secure-AI-project--Implementing-adversarial-attacks-and-defenses-using-ART/blob/main/extraction__attacks_spai_main.ipynb\" target=\"_parent\"><img src=\"https://colab.research.google.com/assets/colab-badge.svg\" alt=\"Open In Colab\"/></a>"
      ]
    },
    {
      "cell_type": "code",
      "metadata": {
        "id": "47MdbucuOW-_",
        "colab": {
          "base_uri": "https://localhost:8080/"
        },
        "outputId": "2d243d56-0f57-4064-eefe-086982315933"
      },
      "source": [
        "!pip install tensorflow-gpu==1.15.2 keras==2.2.3 adversarial-robustness-toolbox"
      ],
      "execution_count": null,
      "outputs": [
        {
          "output_type": "stream",
          "name": "stdout",
          "text": [
            "Collecting tensorflow-gpu==1.15.2\n",
            "  Downloading tensorflow_gpu-1.15.2-cp37-cp37m-manylinux2010_x86_64.whl (410.9 MB)\n",
            "\u001b[K     |████████████████████████████████| 410.9 MB 28 kB/s \n",
            "\u001b[?25hCollecting keras==2.2.3\n",
            "  Downloading Keras-2.2.3-py2.py3-none-any.whl (312 kB)\n",
            "\u001b[K     |████████████████████████████████| 312 kB 53.9 MB/s \n",
            "\u001b[?25hCollecting adversarial-robustness-toolbox\n",
            "  Downloading adversarial_robustness_toolbox-1.8.1-py3-none-any.whl (1.1 MB)\n",
            "\u001b[K     |████████████████████████████████| 1.1 MB 58.2 MB/s \n",
            "\u001b[?25hRequirement already satisfied: keras-preprocessing>=1.0.5 in /usr/local/lib/python3.7/dist-packages (from tensorflow-gpu==1.15.2) (1.1.2)\n",
            "Requirement already satisfied: termcolor>=1.1.0 in /usr/local/lib/python3.7/dist-packages (from tensorflow-gpu==1.15.2) (1.1.0)\n",
            "Collecting tensorboard<1.16.0,>=1.15.0\n",
            "  Downloading tensorboard-1.15.0-py3-none-any.whl (3.8 MB)\n",
            "\u001b[K     |████████████████████████████████| 3.8 MB 34.0 MB/s \n",
            "\u001b[?25hRequirement already satisfied: protobuf>=3.6.1 in /usr/local/lib/python3.7/dist-packages (from tensorflow-gpu==1.15.2) (3.17.3)\n",
            "Requirement already satisfied: google-pasta>=0.1.6 in /usr/local/lib/python3.7/dist-packages (from tensorflow-gpu==1.15.2) (0.2.0)\n",
            "Collecting tensorflow-estimator==1.15.1\n",
            "  Downloading tensorflow_estimator-1.15.1-py2.py3-none-any.whl (503 kB)\n",
            "\u001b[K     |████████████████████████████████| 503 kB 76.4 MB/s \n",
            "\u001b[?25hRequirement already satisfied: grpcio>=1.8.6 in /usr/local/lib/python3.7/dist-packages (from tensorflow-gpu==1.15.2) (1.41.1)\n",
            "Collecting gast==0.2.2\n",
            "  Downloading gast-0.2.2.tar.gz (10 kB)\n",
            "Requirement already satisfied: absl-py>=0.7.0 in /usr/local/lib/python3.7/dist-packages (from tensorflow-gpu==1.15.2) (0.12.0)\n",
            "Collecting keras-applications>=1.0.8\n",
            "  Downloading Keras_Applications-1.0.8-py3-none-any.whl (50 kB)\n",
            "\u001b[K     |████████████████████████████████| 50 kB 7.6 MB/s \n",
            "\u001b[?25hRequirement already satisfied: numpy<2.0,>=1.16.0 in /usr/local/lib/python3.7/dist-packages (from tensorflow-gpu==1.15.2) (1.19.5)\n",
            "Requirement already satisfied: astor>=0.6.0 in /usr/local/lib/python3.7/dist-packages (from tensorflow-gpu==1.15.2) (0.8.1)\n",
            "Requirement already satisfied: opt-einsum>=2.3.2 in /usr/local/lib/python3.7/dist-packages (from tensorflow-gpu==1.15.2) (3.3.0)\n",
            "Requirement already satisfied: wheel>=0.26 in /usr/local/lib/python3.7/dist-packages (from tensorflow-gpu==1.15.2) (0.37.0)\n",
            "Requirement already satisfied: six>=1.10.0 in /usr/local/lib/python3.7/dist-packages (from tensorflow-gpu==1.15.2) (1.15.0)\n",
            "Requirement already satisfied: wrapt>=1.11.1 in /usr/local/lib/python3.7/dist-packages (from tensorflow-gpu==1.15.2) (1.13.3)\n",
            "Requirement already satisfied: h5py in /usr/local/lib/python3.7/dist-packages (from keras==2.2.3) (3.1.0)\n",
            "Requirement already satisfied: scipy>=0.14 in /usr/local/lib/python3.7/dist-packages (from keras==2.2.3) (1.4.1)\n",
            "Requirement already satisfied: pyyaml in /usr/local/lib/python3.7/dist-packages (from keras==2.2.3) (3.13)\n",
            "Requirement already satisfied: setuptools>=41.0.0 in /usr/local/lib/python3.7/dist-packages (from tensorboard<1.16.0,>=1.15.0->tensorflow-gpu==1.15.2) (57.4.0)\n",
            "Requirement already satisfied: markdown>=2.6.8 in /usr/local/lib/python3.7/dist-packages (from tensorboard<1.16.0,>=1.15.0->tensorflow-gpu==1.15.2) (3.3.4)\n",
            "Requirement already satisfied: werkzeug>=0.11.15 in /usr/local/lib/python3.7/dist-packages (from tensorboard<1.16.0,>=1.15.0->tensorflow-gpu==1.15.2) (1.0.1)\n",
            "Requirement already satisfied: importlib-metadata in /usr/local/lib/python3.7/dist-packages (from markdown>=2.6.8->tensorboard<1.16.0,>=1.15.0->tensorflow-gpu==1.15.2) (4.8.2)\n",
            "Requirement already satisfied: scikit-learn<1.1.0,>=0.22.2 in /usr/local/lib/python3.7/dist-packages (from adversarial-robustness-toolbox) (0.22.2.post1)\n",
            "Collecting numba>=0.53.1\n",
            "  Downloading numba-0.54.1-cp37-cp37m-manylinux2014_x86_64.manylinux_2_17_x86_64.whl (3.3 MB)\n",
            "\u001b[K     |████████████████████████████████| 3.3 MB 51.0 MB/s \n",
            "\u001b[?25hRequirement already satisfied: tqdm in /usr/local/lib/python3.7/dist-packages (from adversarial-robustness-toolbox) (4.62.3)\n",
            "Collecting llvmlite<0.38,>=0.37.0rc1\n",
            "  Downloading llvmlite-0.37.0-cp37-cp37m-manylinux2014_x86_64.whl (26.3 MB)\n",
            "\u001b[K     |████████████████████████████████| 26.3 MB 91 kB/s \n",
            "\u001b[?25hRequirement already satisfied: joblib>=0.11 in /usr/local/lib/python3.7/dist-packages (from scikit-learn<1.1.0,>=0.22.2->adversarial-robustness-toolbox) (1.1.0)\n",
            "Requirement already satisfied: cached-property in /usr/local/lib/python3.7/dist-packages (from h5py->keras==2.2.3) (1.5.2)\n",
            "Requirement already satisfied: zipp>=0.5 in /usr/local/lib/python3.7/dist-packages (from importlib-metadata->markdown>=2.6.8->tensorboard<1.16.0,>=1.15.0->tensorflow-gpu==1.15.2) (3.6.0)\n",
            "Requirement already satisfied: typing-extensions>=3.6.4 in /usr/local/lib/python3.7/dist-packages (from importlib-metadata->markdown>=2.6.8->tensorboard<1.16.0,>=1.15.0->tensorflow-gpu==1.15.2) (3.10.0.2)\n",
            "Building wheels for collected packages: gast\n",
            "  Building wheel for gast (setup.py) ... \u001b[?25l\u001b[?25hdone\n",
            "  Created wheel for gast: filename=gast-0.2.2-py3-none-any.whl size=7554 sha256=a574b29bfd743df115c589b476d8a7c163ce2122f0bfbb7c43dd3f22680703ca\n",
            "  Stored in directory: /root/.cache/pip/wheels/21/7f/02/420f32a803f7d0967b48dd823da3f558c5166991bfd204eef3\n",
            "Successfully built gast\n",
            "Installing collected packages: llvmlite, tensorflow-estimator, tensorboard, numba, keras-applications, gast, tensorflow-gpu, keras, adversarial-robustness-toolbox\n",
            "  Attempting uninstall: llvmlite\n",
            "    Found existing installation: llvmlite 0.34.0\n",
            "    Uninstalling llvmlite-0.34.0:\n",
            "      Successfully uninstalled llvmlite-0.34.0\n",
            "  Attempting uninstall: tensorflow-estimator\n",
            "    Found existing installation: tensorflow-estimator 2.7.0\n",
            "    Uninstalling tensorflow-estimator-2.7.0:\n",
            "      Successfully uninstalled tensorflow-estimator-2.7.0\n",
            "  Attempting uninstall: tensorboard\n",
            "    Found existing installation: tensorboard 2.7.0\n",
            "    Uninstalling tensorboard-2.7.0:\n",
            "      Successfully uninstalled tensorboard-2.7.0\n",
            "  Attempting uninstall: numba\n",
            "    Found existing installation: numba 0.51.2\n",
            "    Uninstalling numba-0.51.2:\n",
            "      Successfully uninstalled numba-0.51.2\n",
            "  Attempting uninstall: gast\n",
            "    Found existing installation: gast 0.4.0\n",
            "    Uninstalling gast-0.4.0:\n",
            "      Successfully uninstalled gast-0.4.0\n",
            "  Attempting uninstall: keras\n",
            "    Found existing installation: keras 2.7.0\n",
            "    Uninstalling keras-2.7.0:\n",
            "      Successfully uninstalled keras-2.7.0\n",
            "\u001b[31mERROR: pip's dependency resolver does not currently take into account all the packages that are installed. This behaviour is the source of the following dependency conflicts.\n",
            "tensorflow 2.7.0 requires keras<2.8,>=2.7.0rc0, but you have keras 2.2.3 which is incompatible.\n",
            "tensorflow 2.7.0 requires tensorboard~=2.6, but you have tensorboard 1.15.0 which is incompatible.\n",
            "tensorflow 2.7.0 requires tensorflow-estimator<2.8,~=2.7.0rc0, but you have tensorflow-estimator 1.15.1 which is incompatible.\n",
            "tensorflow-probability 0.14.1 requires gast>=0.3.2, but you have gast 0.2.2 which is incompatible.\u001b[0m\n",
            "Successfully installed adversarial-robustness-toolbox-1.8.1 gast-0.2.2 keras-2.2.3 keras-applications-1.0.8 llvmlite-0.37.0 numba-0.54.1 tensorboard-1.15.0 tensorflow-estimator-1.15.1 tensorflow-gpu-1.15.2\n"
          ]
        }
      ]
    },
    {
      "cell_type": "code",
      "metadata": {
        "id": "AxY8z0hd8-eb",
        "colab": {
          "base_uri": "https://localhost:8080/"
        },
        "outputId": "0e536dc7-34ab-4c35-8cd0-c842b130058d"
      },
      "source": [
        "!pip install keras==1.2.2"
      ],
      "execution_count": null,
      "outputs": [
        {
          "output_type": "stream",
          "name": "stdout",
          "text": [
            "Collecting keras==1.2.2\n",
            "  Downloading Keras-1.2.2.tar.gz (175 kB)\n",
            "\u001b[K     |████████████████████████████████| 175 kB 35.6 MB/s \n",
            "\u001b[?25hCollecting theano\n",
            "  Downloading Theano-1.0.5.tar.gz (2.8 MB)\n",
            "\u001b[K     |████████████████████████████████| 2.8 MB 37.2 MB/s \n",
            "\u001b[?25hRequirement already satisfied: pyyaml in /usr/local/lib/python3.7/dist-packages (from keras==1.2.2) (3.13)\n",
            "Requirement already satisfied: six in /usr/local/lib/python3.7/dist-packages (from keras==1.2.2) (1.15.0)\n",
            "Requirement already satisfied: numpy>=1.9.1 in /usr/local/lib/python3.7/dist-packages (from theano->keras==1.2.2) (1.19.5)\n",
            "Requirement already satisfied: scipy>=0.14 in /usr/local/lib/python3.7/dist-packages (from theano->keras==1.2.2) (1.4.1)\n",
            "Building wheels for collected packages: keras, theano\n",
            "  Building wheel for keras (setup.py) ... \u001b[?25l\u001b[?25hdone\n",
            "  Created wheel for keras: filename=Keras-1.2.2-py3-none-any.whl size=209599 sha256=e8f3a7e01674852c0142582c31c9227bb2a0053eef7948eb855c375dcb722959\n",
            "  Stored in directory: /root/.cache/pip/wheels/d1/32/23/2a1db3765ec19c91503843380a4f92b6530598949c661c5fa2\n",
            "  Building wheel for theano (setup.py) ... \u001b[?25l\u001b[?25hdone\n",
            "  Created wheel for theano: filename=Theano-1.0.5-py3-none-any.whl size=2668111 sha256=912aa70158aefae31daf8bf0bd46bb67153f9cfe8b18c8030d80b9997b05c5a2\n",
            "  Stored in directory: /root/.cache/pip/wheels/26/68/6f/745330367ce7822fe0cd863712858151f5723a0a5e322cc144\n",
            "Successfully built keras theano\n",
            "Installing collected packages: theano, keras\n",
            "  Attempting uninstall: keras\n",
            "    Found existing installation: Keras 2.2.3\n",
            "    Uninstalling Keras-2.2.3:\n",
            "      Successfully uninstalled Keras-2.2.3\n",
            "\u001b[31mERROR: pip's dependency resolver does not currently take into account all the packages that are installed. This behaviour is the source of the following dependency conflicts.\n",
            "tensorflow 2.7.0 requires keras<2.8,>=2.7.0rc0, but you have keras 1.2.2 which is incompatible.\n",
            "tensorflow 2.7.0 requires tensorboard~=2.6, but you have tensorboard 1.15.0 which is incompatible.\n",
            "tensorflow 2.7.0 requires tensorflow-estimator<2.8,~=2.7.0rc0, but you have tensorflow-estimator 1.15.1 which is incompatible.\u001b[0m\n",
            "Successfully installed keras-1.2.2 theano-1.0.5\n"
          ]
        }
      ]
    },
    {
      "cell_type": "code",
      "metadata": {
        "id": "tLJRPiSkOHUC",
        "colab": {
          "base_uri": "https://localhost:8080/"
        },
        "outputId": "509f37e7-d144-4f3f-c044-4915d8d22caf"
      },
      "source": [
        "!pip install adversarial-robustness-toolbox"
      ],
      "execution_count": null,
      "outputs": [
        {
          "output_type": "stream",
          "name": "stdout",
          "text": [
            "Requirement already satisfied: adversarial-robustness-toolbox in /usr/local/lib/python3.7/dist-packages (1.8.1)\n",
            "Requirement already satisfied: numba>=0.53.1 in /usr/local/lib/python3.7/dist-packages (from adversarial-robustness-toolbox) (0.54.1)\n",
            "Requirement already satisfied: scipy>=1.4.1 in /usr/local/lib/python3.7/dist-packages (from adversarial-robustness-toolbox) (1.4.1)\n",
            "Requirement already satisfied: scikit-learn<1.1.0,>=0.22.2 in /usr/local/lib/python3.7/dist-packages (from adversarial-robustness-toolbox) (0.22.2.post1)\n",
            "Requirement already satisfied: tqdm in /usr/local/lib/python3.7/dist-packages (from adversarial-robustness-toolbox) (4.62.3)\n",
            "Requirement already satisfied: numpy>=1.18.0 in /usr/local/lib/python3.7/dist-packages (from adversarial-robustness-toolbox) (1.19.5)\n",
            "Requirement already satisfied: setuptools in /usr/local/lib/python3.7/dist-packages (from adversarial-robustness-toolbox) (57.4.0)\n",
            "Requirement already satisfied: six in /usr/local/lib/python3.7/dist-packages (from adversarial-robustness-toolbox) (1.15.0)\n",
            "Requirement already satisfied: llvmlite<0.38,>=0.37.0rc1 in /usr/local/lib/python3.7/dist-packages (from numba>=0.53.1->adversarial-robustness-toolbox) (0.37.0)\n",
            "Requirement already satisfied: joblib>=0.11 in /usr/local/lib/python3.7/dist-packages (from scikit-learn<1.1.0,>=0.22.2->adversarial-robustness-toolbox) (1.1.0)\n"
          ]
        }
      ]
    },
    {
      "cell_type": "code",
      "metadata": {
        "colab": {
          "base_uri": "https://localhost:8080/"
        },
        "id": "Syw1bbWVOXXE",
        "outputId": "35e9e6d9-8108-4d1a-e84c-70c3c9f3a7ce"
      },
      "source": [
        "from google.colab import drive\n",
        "drive.mount('/content/drive') #, force_remount = True)"
      ],
      "execution_count": null,
      "outputs": [
        {
          "output_type": "stream",
          "name": "stdout",
          "text": [
            "Mounted at /content/drive\n"
          ]
        }
      ]
    },
    {
      "cell_type": "code",
      "metadata": {
        "id": "7oXC6rLNOe2v"
      },
      "source": [
        "import tensorflow as tf\n",
        "import tensorflow.keras as keras\n",
        "import pandas as pd\n",
        "import numpy as np\n",
        "from tensorflow.keras import utils as np_utils\n",
        "import tensorflow.keras.backend as K\n",
        "from keras.datasets import cifar10\n",
        "from tensorflow.keras.utils import to_categorical\n",
        "from keras.layers import Dense, Flatten, Conv2D, MaxPooling2D, Dropout\n",
        "# from keras.optimizers import Adam\n",
        "from tensorflow.keras.layers import InputLayer, Reshape\n",
        "from tensorflow.keras import Sequential\n",
        "from tensorflow.keras.layers import Dense, Flatten, Conv2D, MaxPooling2D, Dropout\n",
        "from tensorflow.keras.optimizers import SGD, Adam\n",
        "from tensorflow.keras.utils import to_categorical\n",
        "from tensorflow.keras.losses import CategoricalCrossentropy\n",
        "\n",
        "\n",
        "from art.estimators.classification import KerasClassifier"
      ],
      "execution_count": null,
      "outputs": []
    },
    {
      "cell_type": "code",
      "metadata": {
        "id": "uUbWr9aQRcrP",
        "colab": {
          "base_uri": "https://localhost:8080/"
        },
        "outputId": "78b98def-6aa2-458b-dfce-1e91b86e3b9e"
      },
      "source": [
        "# (x_train, y_train), (x_test, y_test) = tf.keras.datasets.cifar10.load_data()\n",
        "(x_train, y_train), (x_test, y_test) = cifar10.load_data()\n",
        "assert x_train.shape == (50000, 32, 32, 3)\n",
        "assert x_test.shape == (10000, 32, 32, 3)\n",
        "assert y_train.shape == (50000, 1)\n",
        "assert y_test.shape == (10000, 1)"
      ],
      "execution_count": null,
      "outputs": [
        {
          "output_type": "stream",
          "name": "stdout",
          "text": [
            "Downloading data from http://www.cs.toronto.edu/~kriz/cifar-10-python.tar.gz\n",
            "Untaring file...\n"
          ]
        }
      ]
    },
    {
      "cell_type": "code",
      "metadata": {
        "colab": {
          "base_uri": "https://localhost:8080/"
        },
        "id": "7dSj3TTuR3_J",
        "outputId": "cccb3b6f-918a-456d-92cf-8574b65183da"
      },
      "source": [
        "# checking the format of data\n",
        "print(type(x_train[0]))\n",
        "print(x_train[0].shape)\n",
        "\n",
        "# retaining the original format for the test data\n",
        "x_test_retained=x_test.copy()\n",
        "\n",
        "# Convert class vectors to binary class matrices.\n",
        "y_test = tf.keras.utils.to_categorical(y_test, 10)\n",
        "y_train = tf.keras.utils.to_categorical(y_train, 10)\n",
        "\n",
        "print(y_test.shape)\n",
        "print(y_train.shape)\n",
        "\n",
        "# Normalizing the data by converting to float and dividing by 255 (max value for r,g,b)\n",
        "\n",
        "x_train = x_train.astype('float32')\n",
        "x_test = x_test.astype('float32')\n",
        "x_train  /= 255\n",
        "x_test /= 255\n",
        "\n",
        "# print(x_train[0])"
      ],
      "execution_count": null,
      "outputs": [
        {
          "output_type": "stream",
          "name": "stdout",
          "text": [
            "<class 'numpy.ndarray'>\n",
            "(32, 32, 3)\n",
            "(10000, 10)\n",
            "(50000, 10)\n"
          ]
        }
      ]
    },
    {
      "cell_type": "code",
      "metadata": {
        "id": "3J28GwuFlntx"
      },
      "source": [
        "def train_percentage(n):\n",
        "   \n",
        "    num_imgs = x_train.shape[ 0 ]\n",
        "    num_poisoned_images = n\n",
        "    print( 'Percentage of access to train images', num_poisoned_images*100 / num_imgs )\n",
        "    idx = np.arange( num_imgs, dtype=np.int )\n",
        "    np.random.shuffle( idx )\n",
        "    candidate_images = np.copy( x_train[ idx[ :num_poisoned_images ] ] )\n",
        "    target_labels=np.copy( y_train[ idx[ :num_poisoned_images ] ] )\n",
        "    return candidate_images,target_labels"
      ],
      "execution_count": null,
      "outputs": []
    },
    {
      "cell_type": "code",
      "metadata": {
        "id": "TPnd6WDes_iV"
      },
      "source": [
        "def create_model():\n",
        "    model = tf.keras.Sequential( )\n",
        "    model.add( Conv2D( 32, kernel_size=(3, 3), padding='same', activation='relu', input_shape=(32,32,3) ) )\n",
        "    model.add( Conv2D( 64, (3, 3), padding='same', activation='relu' ) )\n",
        "    model.add( MaxPooling2D( pool_size=(2, 2) ) )\n",
        "    model.add( Flatten( ) )\n",
        "    model.add( Dense( 128, activation='relu' ) )\n",
        "    model.add( Dense(10, activation='softmax' ) )\n",
        "    \n",
        "    model.compile(loss=tf.keras.losses.CategoricalCrossentropy(),\n",
        "                  optimizer='adam',\n",
        "                  metrics=[ 'accuracy' ] )\n",
        "    return model"
      ],
      "execution_count": null,
      "outputs": []
    },
    {
      "cell_type": "code",
      "metadata": {
        "id": "j74T9QvxtE36",
        "colab": {
          "base_uri": "https://localhost:8080/"
        },
        "outputId": "5e47b924-dc46-4037-b4f2-5c327d254292"
      },
      "source": [
        "model_1 = create_model()"
      ],
      "execution_count": null,
      "outputs": [
        {
          "output_type": "stream",
          "name": "stdout",
          "text": [
            "WARNING:tensorflow:From /usr/local/lib/python3.7/dist-packages/tensorflow_core/python/ops/resource_variable_ops.py:1630: calling BaseResourceVariable.__init__ (from tensorflow.python.ops.resource_variable_ops) with constraint is deprecated and will be removed in a future version.\n",
            "Instructions for updating:\n",
            "If using Keras pass *_constraint arguments to layers.\n"
          ]
        }
      ]
    },
    {
      "cell_type": "code",
      "metadata": {
        "id": "aJjMcVfzqQ0L"
      },
      "source": [
        "artclassifier2 = KerasClassifier(model=model_1, clip_values=(0, 1), use_logits=False)"
      ],
      "execution_count": null,
      "outputs": []
    },
    {
      "cell_type": "markdown",
      "metadata": {
        "id": "5pIOc8pQnAnh"
      },
      "source": [
        "## Copycat CNN"
      ]
    },
    {
      "cell_type": "markdown",
      "metadata": {
        "id": "uWKnHW1t1QbH"
      },
      "source": [
        "### implementing with 5% data access"
      ]
    },
    {
      "cell_type": "code",
      "metadata": {
        "id": "vLGEBc1WiTjt"
      },
      "source": [
        "from art.attacks.extraction import CopycatCNN\n",
        "cc_attack = CopycatCNN(classifier = artclassifier2, batch_size_fit=5, \n",
        "                        batch_size_query=10,\n",
        "                        nb_epochs=5,\n",
        "                        nb_stolen=100)"
      ],
      "execution_count": null,
      "outputs": []
    },
    {
      "cell_type": "code",
      "metadata": {
        "colab": {
          "base_uri": "https://localhost:8080/"
        },
        "id": "vNASic8Io-I1",
        "outputId": "e4b845e3-f0db-4809-b00d-d9956b981a26"
      },
      "source": [
        "x_extr,y_extr = train_percentage(2500)"
      ],
      "execution_count": null,
      "outputs": [
        {
          "output_type": "stream",
          "name": "stdout",
          "text": [
            "Percentage of access to train images 5.0\n"
          ]
        }
      ]
    },
    {
      "cell_type": "code",
      "metadata": {
        "colab": {
          "base_uri": "https://localhost:8080/"
        },
        "id": "zcYjqQi6mD2h",
        "outputId": "598beb2c-a094-4050-be8f-d8433bab430b"
      },
      "source": [
        "stolen_classifier = cc_attack.extract(x_extr,y_extr,thieved_classifier=artclassifier2)"
      ],
      "execution_count": null,
      "outputs": [
        {
          "output_type": "stream",
          "name": "stdout",
          "text": [
            "Train on 100 samples\n",
            "Epoch 1/5\n",
            "100/100 [==============================] - 1s 11ms/sample - loss: 1.6602 - acc: 0.3500\n",
            "Epoch 2/5\n",
            "100/100 [==============================] - 1s 9ms/sample - loss: 1.3026 - acc: 0.4600\n",
            "Epoch 3/5\n",
            "100/100 [==============================] - 1s 9ms/sample - loss: 1.0285 - acc: 0.5900\n",
            "Epoch 4/5\n",
            "100/100 [==============================] - 1s 9ms/sample - loss: 0.7760 - acc: 0.7400\n",
            "Epoch 5/5\n",
            "100/100 [==============================] - 1s 9ms/sample - loss: 0.4722 - acc: 0.8500\n"
          ]
        }
      ]
    },
    {
      "cell_type": "code",
      "metadata": {
        "colab": {
          "base_uri": "https://localhost:8080/"
        },
        "id": "b5U-m2EJ0-iM",
        "outputId": "a68d9d4a-745a-491c-c27e-cf3441f07434"
      },
      "source": [
        "stolen_classifier._model.evaluate(x_test,y_test)"
      ],
      "execution_count": null,
      "outputs": [
        {
          "output_type": "stream",
          "name": "stdout",
          "text": [
            "10000/10000 [==============================] - 12s 1ms/sample - loss: 8.8520 - acc: 0.0952\n"
          ]
        },
        {
          "output_type": "execute_result",
          "data": {
            "text/plain": [
              "[8.851990235900878, 0.0952]"
            ]
          },
          "metadata": {},
          "execution_count": 25
        }
      ]
    },
    {
      "cell_type": "markdown",
      "metadata": {
        "id": "3ONxlmI2nbGm"
      },
      "source": [
        "### Implementing with 10% data access"
      ]
    },
    {
      "cell_type": "code",
      "metadata": {
        "id": "d2pFjlcU1i45"
      },
      "source": [
        "from art.attacks.extraction import CopycatCNN\n",
        "cc_attack = CopycatCNN(classifier = artclassifier2, batch_size_fit=5, \n",
        "                        batch_size_query=10,\n",
        "                        nb_epochs=5,\n",
        "                        nb_stolen=100)"
      ],
      "execution_count": null,
      "outputs": []
    },
    {
      "cell_type": "code",
      "metadata": {
        "colab": {
          "base_uri": "https://localhost:8080/"
        },
        "id": "dfqE3I9c1i45",
        "outputId": "4d53c47b-10da-4925-8195-d568806ff500"
      },
      "source": [
        "x_extr,y_extr = train_percentage(5000)"
      ],
      "execution_count": null,
      "outputs": [
        {
          "output_type": "stream",
          "name": "stdout",
          "text": [
            "Percentage of access to train images 10.0\n"
          ]
        }
      ]
    },
    {
      "cell_type": "code",
      "metadata": {
        "colab": {
          "base_uri": "https://localhost:8080/"
        },
        "id": "U8kP5QVW1i46",
        "outputId": "60fdc548-2312-4a74-ba73-c4a4d57013a5"
      },
      "source": [
        "stolen_classifier = cc_attack.extract(x_extr,y_extr,thieved_classifier=artclassifier2)"
      ],
      "execution_count": null,
      "outputs": [
        {
          "output_type": "stream",
          "name": "stdout",
          "text": [
            "Train on 100 samples\n",
            "Epoch 1/5\n",
            "100/100 [==============================] - 1s 9ms/sample - loss: 0.7882 - acc: 0.6200\n",
            "Epoch 2/5\n",
            "100/100 [==============================] - 1s 9ms/sample - loss: 0.4405 - acc: 0.8600\n",
            "Epoch 3/5\n",
            "100/100 [==============================] - 1s 9ms/sample - loss: 0.1358 - acc: 0.9700\n",
            "Epoch 4/5\n",
            "100/100 [==============================] - 1s 9ms/sample - loss: 0.1160 - acc: 0.9700\n",
            "Epoch 5/5\n",
            "100/100 [==============================] - 1s 10ms/sample - loss: 0.0754 - acc: 1.0000\n"
          ]
        }
      ]
    },
    {
      "cell_type": "code",
      "metadata": {
        "colab": {
          "base_uri": "https://localhost:8080/"
        },
        "id": "ykPLeUXp1i46",
        "outputId": "42c50b17-9028-4009-9ab6-a6ed910fa867"
      },
      "source": [
        "stolen_classifier._model.evaluate(x_test,y_test)"
      ],
      "execution_count": null,
      "outputs": [
        {
          "output_type": "stream",
          "name": "stdout",
          "text": [
            "10000/10000 [==============================] - 12s 1ms/sample - loss: 13.6551 - acc: 0.0943\n"
          ]
        },
        {
          "output_type": "execute_result",
          "data": {
            "text/plain": [
              "[13.655105297851563, 0.0943]"
            ]
          },
          "metadata": {},
          "execution_count": 29
        }
      ]
    },
    {
      "cell_type": "markdown",
      "metadata": {
        "id": "GjDsMCVNn7C6"
      },
      "source": [
        "### Implementing with 30% data access"
      ]
    },
    {
      "cell_type": "code",
      "metadata": {
        "id": "7VrRxT0fn7DG"
      },
      "source": [
        "from art.attacks.extraction import CopycatCNN\n",
        "cc_attack = CopycatCNN(classifier = artclassifier2, batch_size_fit=5, \n",
        "                        batch_size_query=10,\n",
        "                        nb_epochs=5,\n",
        "                        nb_stolen=100)"
      ],
      "execution_count": null,
      "outputs": []
    },
    {
      "cell_type": "code",
      "metadata": {
        "colab": {
          "base_uri": "https://localhost:8080/"
        },
        "id": "QUQLoBdZn7DG",
        "outputId": "6ee58d91-ba7a-4170-c47a-cee605d2a973"
      },
      "source": [
        "x_extr,y_extr = train_percentage(15000)"
      ],
      "execution_count": null,
      "outputs": [
        {
          "output_type": "stream",
          "name": "stdout",
          "text": [
            "Percentage of access to train images 30.0\n"
          ]
        }
      ]
    },
    {
      "cell_type": "code",
      "metadata": {
        "colab": {
          "base_uri": "https://localhost:8080/"
        },
        "id": "mQ5mfD27n7DH",
        "outputId": "80049782-f98c-4c81-d493-793f865bf3e5"
      },
      "source": [
        "stolen_classifier = cc_attack.extract(x_extr,y_extr,thieved_classifier=artclassifier2)"
      ],
      "execution_count": null,
      "outputs": [
        {
          "output_type": "stream",
          "name": "stdout",
          "text": [
            "Train on 100 samples\n",
            "Epoch 1/5\n",
            "100/100 [==============================] - 1s 10ms/sample - loss: 0.4845 - acc: 0.7800\n",
            "Epoch 2/5\n",
            "100/100 [==============================] - 1s 9ms/sample - loss: 0.1372 - acc: 0.9600\n",
            "Epoch 3/5\n",
            "100/100 [==============================] - 1s 9ms/sample - loss: 0.0802 - acc: 0.9700\n",
            "Epoch 4/5\n",
            "100/100 [==============================] - 1s 9ms/sample - loss: 0.0393 - acc: 0.9900\n",
            "Epoch 5/5\n",
            "100/100 [==============================] - 1s 9ms/sample - loss: 0.0174 - acc: 1.0000\n"
          ]
        }
      ]
    },
    {
      "cell_type": "code",
      "metadata": {
        "colab": {
          "base_uri": "https://localhost:8080/"
        },
        "id": "mj-yzoiSn7DH",
        "outputId": "d4b6614d-e73a-4dea-ae80-d84f95c181b4"
      },
      "source": [
        "stolen_classifier._model.evaluate(x_test,y_test)"
      ],
      "execution_count": null,
      "outputs": [
        {
          "output_type": "stream",
          "name": "stdout",
          "text": [
            "10000/10000 [==============================] - 12s 1ms/sample - loss: 15.3067 - acc: 0.0905\n"
          ]
        },
        {
          "output_type": "execute_result",
          "data": {
            "text/plain": [
              "[15.30673016204834, 0.0905]"
            ]
          },
          "metadata": {},
          "execution_count": 33
        }
      ]
    },
    {
      "cell_type": "markdown",
      "metadata": {
        "id": "gFgB_pwjXs97"
      },
      "source": [
        "## Implementing Knockoff Nets"
      ]
    },
    {
      "cell_type": "markdown",
      "metadata": {
        "id": "l_b-pBTjXs9-"
      },
      "source": [
        "### Implementing with 5% data access"
      ]
    },
    {
      "cell_type": "code",
      "metadata": {
        "id": "zxs6HmzcXs9-"
      },
      "source": [
        "from art.attacks.extraction import KnockoffNets\n",
        "ko_attack = KnockoffNets(classifier = artclassifier2, batch_size_fit=5, \n",
        "                        batch_size_query=10,\n",
        "                        nb_epochs=5,\n",
        "                        nb_stolen=100,reward=\"all\")"
      ],
      "execution_count": null,
      "outputs": []
    },
    {
      "cell_type": "code",
      "metadata": {
        "colab": {
          "base_uri": "https://localhost:8080/"
        },
        "id": "_AquP4qeXs9_",
        "outputId": "b0aa807b-c325-48e3-b149-31b39d145743"
      },
      "source": [
        "x_extr,y_extr = train_percentage(2500)"
      ],
      "execution_count": null,
      "outputs": [
        {
          "output_type": "stream",
          "name": "stdout",
          "text": [
            "Percentage of access to train images 5.0\n"
          ]
        }
      ]
    },
    {
      "cell_type": "code",
      "metadata": {
        "id": "EhsMd6EzXs-B"
      },
      "source": [
        "stolen_classifier = ko_attack.extract(x_extr,y_extr,thieved_classifier=artclassifier2)"
      ],
      "execution_count": null,
      "outputs": []
    },
    {
      "cell_type": "code",
      "metadata": {
        "colab": {
          "base_uri": "https://localhost:8080/"
        },
        "id": "qhJQhnbKXs-C",
        "outputId": "86b213d7-470f-499e-b1dc-bba5999307f7"
      },
      "source": [
        "stolen_classifier._model.evaluate(x_test,y_test)"
      ],
      "execution_count": null,
      "outputs": [
        {
          "output_type": "stream",
          "name": "stdout",
          "text": [
            "10000/10000 [==============================] - 12s 1ms/sample - loss: 15.9493 - acc: 0.0981\n"
          ]
        },
        {
          "output_type": "execute_result",
          "data": {
            "text/plain": [
              "[15.949310882568358, 0.0981]"
            ]
          },
          "metadata": {},
          "execution_count": 38
        }
      ]
    },
    {
      "cell_type": "markdown",
      "metadata": {
        "id": "x2BIPJ2CXs-C"
      },
      "source": [
        "### Implementing with 10 % data access"
      ]
    },
    {
      "cell_type": "code",
      "metadata": {
        "id": "D_3HmajIXs-C"
      },
      "source": [
        "from art.attacks.extraction import KnockoffNets\n",
        "ko_attack = KnockoffNets(classifier = artclassifier2, batch_size_fit=5, \n",
        "                        batch_size_query=10,\n",
        "                        nb_epochs=5,\n",
        "                        nb_stolen=100,reward=\"all\")"
      ],
      "execution_count": null,
      "outputs": []
    },
    {
      "cell_type": "code",
      "metadata": {
        "colab": {
          "base_uri": "https://localhost:8080/"
        },
        "id": "vrERpywKXs-C",
        "outputId": "85da5a8c-c4f5-43f3-a0cd-ca21fac84187"
      },
      "source": [
        "x_exc,y_exc = train_percentage(5000)"
      ],
      "execution_count": null,
      "outputs": [
        {
          "output_type": "stream",
          "name": "stdout",
          "text": [
            "Percentage of access to train images 10.0\n"
          ]
        }
      ]
    },
    {
      "cell_type": "code",
      "metadata": {
        "id": "JW6cz6RtXs-D"
      },
      "source": [
        "stolen_classifier = ko_attack.extract(x_extr,y_extr,thieved_classifier=artclassifier2)"
      ],
      "execution_count": null,
      "outputs": []
    },
    {
      "cell_type": "code",
      "metadata": {
        "colab": {
          "base_uri": "https://localhost:8080/"
        },
        "id": "Q9N10N-3Xs-D",
        "outputId": "da8837cc-ff76-4ff5-9b3c-13ccb7229341"
      },
      "source": [
        "stolen_classifier._model.evaluate(x_test,y_test)"
      ],
      "execution_count": null,
      "outputs": [
        {
          "output_type": "stream",
          "name": "stdout",
          "text": [
            "10000/10000 [==============================] - 11s 1ms/sample - loss: 17.9072 - acc: 0.0969\n"
          ]
        },
        {
          "output_type": "execute_result",
          "data": {
            "text/plain": [
              "[17.90721037597656, 0.0969]"
            ]
          },
          "metadata": {},
          "execution_count": 43
        }
      ]
    },
    {
      "cell_type": "markdown",
      "metadata": {
        "id": "qWtgPK_0Xs-D"
      },
      "source": [
        "### Implementing with 30 % data access"
      ]
    },
    {
      "cell_type": "code",
      "metadata": {
        "id": "u5_QWgnFXs-E"
      },
      "source": [
        "from art.attacks.extraction import KnockoffNets\n",
        "ko_attack = KnockoffNets(classifier = artclassifier2, batch_size_fit=5, \n",
        "                        batch_size_query=10,\n",
        "                        nb_epochs=5,\n",
        "                        nb_stolen=100,reward=\"all\")"
      ],
      "execution_count": null,
      "outputs": []
    },
    {
      "cell_type": "code",
      "metadata": {
        "colab": {
          "base_uri": "https://localhost:8080/"
        },
        "id": "hYwSDjnSXs-E",
        "outputId": "507168c6-0616-465c-ed75-44d79be3ba60"
      },
      "source": [
        "x_extr, y_extr = train_percentage(15000)"
      ],
      "execution_count": null,
      "outputs": [
        {
          "output_type": "stream",
          "name": "stdout",
          "text": [
            "Percentage of access to train images 30.0\n"
          ]
        }
      ]
    },
    {
      "cell_type": "code",
      "metadata": {
        "id": "gbcecooDXs-F"
      },
      "source": [
        "stolen_classifier = ko_attack.extract(x_extr,y_extr,thieved_classifier=artclassifier2)"
      ],
      "execution_count": null,
      "outputs": []
    },
    {
      "cell_type": "code",
      "metadata": {
        "colab": {
          "base_uri": "https://localhost:8080/"
        },
        "id": "GUWCxwO_Xs-F",
        "outputId": "b500a6d0-1756-414d-d34b-558671d92920"
      },
      "source": [
        "stolen_classifier._model.evaluate(x_test,y_test)"
      ],
      "execution_count": null,
      "outputs": [
        {
          "output_type": "stream",
          "name": "stdout",
          "text": [
            "10000/10000 [==============================] - 11s 1ms/sample - loss: 19.4077 - acc: 0.0951\n"
          ]
        },
        {
          "output_type": "execute_result",
          "data": {
            "text/plain": [
              "[19.40772201843262, 0.0951]"
            ]
          },
          "metadata": {},
          "execution_count": 47
        }
      ]
    },
    {
      "cell_type": "markdown",
      "metadata": {
        "id": "zNXletpo5aRJ"
      },
      "source": [
        "## Implementing Functionally Equivalent Extraction"
      ]
    },
    {
      "cell_type": "markdown",
      "metadata": {
        "id": "GcQMrBsp5aRJ"
      },
      "source": [
        "### Implementing with 5% data access"
      ]
    },
    {
      "cell_type": "code",
      "metadata": {
        "id": "uKn4pXVG5aRJ"
      },
      "source": [
        "from art.attacks.extraction import FunctionallyEquivalentExtraction\n",
        "fe_attack = FunctionallyEquivalentExtraction(classifier = artclassifier2,\n",
        "                                          num_neurons = 128)"
      ],
      "execution_count": null,
      "outputs": []
    },
    {
      "cell_type": "code",
      "metadata": {
        "colab": {
          "base_uri": "https://localhost:8080/"
        },
        "id": "sfUfMD1T5aRJ",
        "outputId": "61db57a2-d8d5-47ff-8984-212130fc8f5c"
      },
      "source": [
        "x_extr,y_extr = train_percentage(2500)"
      ],
      "execution_count": null,
      "outputs": [
        {
          "output_type": "stream",
          "name": "stdout",
          "text": [
            "Percentage of access to train images 5.0\n"
          ]
        }
      ]
    },
    {
      "cell_type": "code",
      "metadata": {
        "colab": {
          "base_uri": "https://localhost:8080/"
        },
        "id": "-ANgfMq65aRJ",
        "outputId": "330c0d11-e282-4dda-c6e7-73ea6da80d1d"
      },
      "source": [
        "stolen_classifier = fe_attack.extract(x_extr,y_extr,delta_0 = 1, fraction_true = 0.0003, \n",
        "                            rel_diff_slope = 1e-05, rel_diff_value = 1e-04, \n",
        "                            delta_init_value = 0.1, delta_value_max = 50, \n",
        "                            d2_min = 1, d_step = 0.1, delta_sign = 0.02, \n",
        "                            unit_vector_scale = 10, ftol = 0)"
      ],
      "execution_count": null,
      "outputs": [
        {
          "output_type": "stream",
          "name": "stderr",
          "text": [
            "/usr/local/lib/python3.7/dist-packages/art/attacks/extraction/functionally_equivalent_extraction.py:221: RuntimeWarning: invalid value encountered in true_divide\n",
            "  if np.sum(np.abs((m_1 - m_2) / m_1) < rel_diff_slope) > fraction_true * self.num_classes:\n",
            "/usr/local/lib/python3.7/dist-packages/art/attacks/extraction/functionally_equivalent_extraction.py:225: RuntimeWarning: invalid value encountered in true_divide\n",
            "  t_hat = t_1 + np.divide(y_2 - y_1 - (t_2 - t_1) * m_2, m_1 - m_2)\n",
            "/usr/local/lib/python3.7/dist-packages/art/attacks/extraction/functionally_equivalent_extraction.py:226: RuntimeWarning: invalid value encountered in true_divide\n",
            "  y_hat = y_1 + m_1 * np.divide(y_2 - y_1 - (t_2 - t_1) * m_2, m_1 - m_2)\n",
            "/usr/local/lib/python3.7/dist-packages/art/attacks/extraction/functionally_equivalent_extraction.py:215: RuntimeWarning: invalid value encountered in true_divide\n",
            "  m_1 = (self._o_l(x_1_p) - self._o_l(x_1)) / epsilon\n",
            "/usr/local/lib/python3.7/dist-packages/art/attacks/extraction/functionally_equivalent_extraction.py:216: RuntimeWarning: invalid value encountered in true_divide\n",
            "  m_2 = (self._o_l(x_2) - self._o_l(x_2_m)) / epsilon\n"
          ]
        }
      ]
    },
    {
      "cell_type": "code",
      "metadata": {
        "id": "K07vpQ-y5aRJ"
      },
      "source": [
        "stolen_classifier._model.evaluate(x_test,y_test)"
      ],
      "execution_count": null,
      "outputs": []
    },
    {
      "cell_type": "markdown",
      "metadata": {
        "id": "GTcA-D7g5aRJ"
      },
      "source": [
        "### Implementing with 10 % data access"
      ]
    },
    {
      "cell_type": "code",
      "metadata": {
        "id": "R1Rc61i75aRK"
      },
      "source": [
        "from art.attacks.extraction import CopycatCNN\n",
        "fe_attack = FunctionallyEquivalentExtraction(classifier = artclassifier2,\n",
        "                                          num_neurons = 128)"
      ],
      "execution_count": null,
      "outputs": []
    },
    {
      "cell_type": "code",
      "metadata": {
        "colab": {
          "base_uri": "https://localhost:8080/"
        },
        "id": "uO7RlbhW5aRK",
        "outputId": "8ae13907-0547-480f-a91c-c7fa05f43209"
      },
      "source": [
        "x_extr,y_extr = train_percentage(5000)"
      ],
      "execution_count": null,
      "outputs": [
        {
          "output_type": "stream",
          "name": "stdout",
          "text": [
            "Percentage of access to train images 10.0\n"
          ]
        }
      ]
    },
    {
      "cell_type": "code",
      "metadata": {
        "colab": {
          "base_uri": "https://localhost:8080/"
        },
        "id": "J8oCjpDf5aRK",
        "outputId": "e3d5f52c-b728-47bf-d20b-74c705021765"
      },
      "source": [
        "stolen_classifier = fe_attack.extract(x_extr,y_extr,thieved_classifier=artclassifier2)"
      ],
      "execution_count": null,
      "outputs": [
        {
          "output_type": "stream",
          "name": "stderr",
          "text": [
            "WARNING:art.attacks.extraction.copycat_cnn:This attack does not use the provided label y.\n"
          ]
        },
        {
          "output_type": "stream",
          "name": "stdout",
          "text": [
            "Train on 100 samples\n",
            "Epoch 1/5\n",
            "100/100 [==============================] - 1s 10ms/sample - loss: 2.1055 - acc: 0.2900\n",
            "Epoch 2/5\n",
            "100/100 [==============================] - 1s 10ms/sample - loss: 1.3554 - acc: 0.6200\n",
            "Epoch 3/5\n",
            "100/100 [==============================] - 1s 10ms/sample - loss: 0.8453 - acc: 0.7400\n",
            "Epoch 4/5\n",
            "100/100 [==============================] - 1s 10ms/sample - loss: 0.3901 - acc: 0.9000\n",
            "Epoch 5/5\n",
            "100/100 [==============================] - 1s 10ms/sample - loss: 0.2001 - acc: 0.9800\n"
          ]
        }
      ]
    },
    {
      "cell_type": "code",
      "metadata": {
        "colab": {
          "base_uri": "https://localhost:8080/"
        },
        "id": "qYlji7hO5aRK",
        "outputId": "dc9c6c9e-a6ae-4a3e-9036-3070750803ef"
      },
      "source": [
        "stolen_classifier._model.evaluate(x_test,y_test)"
      ],
      "execution_count": null,
      "outputs": [
        {
          "output_type": "stream",
          "name": "stdout",
          "text": [
            "10000/10000 [==============================] - 13s 1ms/sample - loss: 3.1154 - acc: 0.2806\n"
          ]
        },
        {
          "output_type": "execute_result",
          "data": {
            "text/plain": [
              "[3.1154094215393067, 0.2806]"
            ]
          },
          "metadata": {},
          "execution_count": 296
        }
      ]
    },
    {
      "cell_type": "markdown",
      "metadata": {
        "id": "m4Xe1zD6rGOx"
      },
      "source": [
        "### Implementing with 30% data access"
      ]
    },
    {
      "cell_type": "code",
      "metadata": {
        "id": "RgfFjA1h5aRK"
      },
      "source": [
        "from art.attacks.extraction import CopycatCNN\n",
        "fe_attack = FunctionallyEquivalentExtraction(classifier = artclassifier2,\n",
        "                                          num_neurons = 128)"
      ],
      "execution_count": null,
      "outputs": []
    },
    {
      "cell_type": "code",
      "metadata": {
        "colab": {
          "base_uri": "https://localhost:8080/"
        },
        "id": "JNptEXHk5aRL",
        "outputId": "4f1c0b15-c973-415a-c5f5-8122b1ca5370"
      },
      "source": [
        "x_extr,y_extr = train_percentage(15000)"
      ],
      "execution_count": null,
      "outputs": [
        {
          "output_type": "stream",
          "name": "stdout",
          "text": [
            "Percentage of access to train images 30.0\n"
          ]
        }
      ]
    },
    {
      "cell_type": "code",
      "metadata": {
        "colab": {
          "base_uri": "https://localhost:8080/"
        },
        "id": "gts89oJ85aRL",
        "outputId": "6d6b0f99-1adf-4f8a-a123-0968ed970e94"
      },
      "source": [
        "stolen_classifier = fe_attack.extract(x_extr,y_extr,thieved_classifier=artclassifier2)"
      ],
      "execution_count": null,
      "outputs": [
        {
          "output_type": "stream",
          "name": "stderr",
          "text": [
            "WARNING:art.attacks.extraction.copycat_cnn:This attack does not use the provided label y.\n"
          ]
        },
        {
          "output_type": "stream",
          "name": "stdout",
          "text": [
            "Train on 100 samples\n",
            "Epoch 1/5\n",
            "100/100 [==============================] - 1s 10ms/sample - loss: 2.6147 - acc: 0.3200\n",
            "Epoch 2/5\n",
            "100/100 [==============================] - 1s 10ms/sample - loss: 1.6351 - acc: 0.5000\n",
            "Epoch 3/5\n",
            "100/100 [==============================] - 1s 10ms/sample - loss: 1.0177 - acc: 0.6800\n",
            "Epoch 4/5\n",
            "100/100 [==============================] - 1s 10ms/sample - loss: 0.5214 - acc: 0.8400\n",
            "Epoch 5/5\n",
            "100/100 [==============================] - 1s 10ms/sample - loss: 0.2608 - acc: 0.9500\n"
          ]
        }
      ]
    },
    {
      "cell_type": "code",
      "metadata": {
        "colab": {
          "base_uri": "https://localhost:8080/"
        },
        "id": "QHMyen_r5aRL",
        "outputId": "d1d78881-0960-4b5b-f00e-1388dd22912f"
      },
      "source": [
        "stolen_classifier._model.evaluate(x_test,y_test)"
      ],
      "execution_count": null,
      "outputs": [
        {
          "output_type": "stream",
          "name": "stdout",
          "text": [
            "10000/10000 [==============================] - 13s 1ms/sample - loss: 2.7706 - acc: 0.3170\n"
          ]
        },
        {
          "output_type": "execute_result",
          "data": {
            "text/plain": [
              "[2.7706076084136964, 0.317]"
            ]
          },
          "metadata": {},
          "execution_count": 309
        }
      ]
    }
  ]
}